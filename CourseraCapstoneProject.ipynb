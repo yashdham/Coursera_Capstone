{
  "nbformat": 4,
  "nbformat_minor": 0,
  "metadata": {
    "language_info": {
      "codemirror_mode": {
        "name": "ipython",
        "version": 3
      },
      "file_extension": ".py",
      "mimetype": "text/x-python",
      "name": "python",
      "nbconvert_exporter": "python",
      "pygments_lexer": "ipython3",
      "version": "3.8.5-final"
    },
    "orig_nbformat": 2,
    "kernelspec": {
      "name": "Python 3.8.5 32-bit ('.venv')",
      "display_name": "Python 3.8.5 32-bit ('.venv')",
      "metadata": {
        "interpreter": {
          "hash": "dc527fef7d5d15cba3b114307afddd50c0d3d28f64b8b7acd3f6583844dbb6cf"
        }
      }
    },
    "colab": {
      "name": "CourseraCapstoneProject.ipynb",
      "provenance": []
    }
  },
  "cells": [
    {
      "cell_type": "markdown",
      "metadata": {
        "id": "YjewKyXHdB6T"
      },
      "source": [
        "# Introduction:"
      ]
    },
    {
      "cell_type": "markdown",
      "metadata": {
        "id": "u-mPAdxudB6V"
      },
      "source": [
        "## The Business Problem:\n",
        "There are a lot of deadly accidents happening in the world, which we want to know how they became so deadly.\n",
        "we will try to explore the data and find some insights by building a model that predicts accident's severity.\n",
        "\n",
        "This project will interest the Transportation Authority of seattle, USA.\n",
        "\n",
        "The project's insights will help to reduce the amount of deadly accidents.\n"
      ]
    },
    {
      "cell_type": "markdown",
      "metadata": {
        "id": "lg9PYwM-dB6W"
      },
      "source": [
        "## DATA\n",
        "The data contains all the Collisions from the years: 2004-2020 in seattle, USA.\n",
        "I will use the following features to predict the severity:\n",
        "location, presons' count, day/night, where happened (interchange, alley and etc).\n"
      ]
    },
    {
      "cell_type": "code",
      "metadata": {
        "id": "6UZ_B-RLdatr",
        "outputId": "053f1744-075b-4609-83bf-154fd79693dc",
        "colab": {
          "base_uri": "https://localhost:8080/",
          "height": 168
        }
      },
      "source": [
        "pip install wget"
      ],
      "execution_count": 2,
      "outputs": [
        {
          "output_type": "stream",
          "text": [
            "Collecting wget\n",
            "  Downloading https://files.pythonhosted.org/packages/47/6a/62e288da7bcda82b935ff0c6cfe542970f04e29c756b0e147251b2fb251f/wget-3.2.zip\n",
            "Building wheels for collected packages: wget\n",
            "  Building wheel for wget (setup.py) ... \u001b[?25l\u001b[?25hdone\n",
            "  Created wheel for wget: filename=wget-3.2-cp36-none-any.whl size=9682 sha256=0e021182da3f7e61403efca9342e8565a6118ccf10f1b8f11fa76c57c03b35ab\n",
            "  Stored in directory: /root/.cache/pip/wheels/40/15/30/7d8f7cea2902b4db79e3fea550d7d7b85ecb27ef992b618f3f\n",
            "Successfully built wget\n",
            "Installing collected packages: wget\n",
            "Successfully installed wget-3.2\n"
          ],
          "name": "stdout"
        }
      ]
    },
    {
      "cell_type": "code",
      "metadata": {
        "id": "3bMT7FtcdB6X"
      },
      "source": [
        "import wget\n",
        "acc_data = wget.download('https://s3.us.cloud-object-storage.appdomain.cloud/cf-courses-data/CognitiveClass/DP0701EN/version-2/Data-Collisions.csv')##downloading geospatial data"
      ],
      "execution_count": 3,
      "outputs": []
    },
    {
      "cell_type": "markdown",
      "metadata": {
        "id": "0tcmsGckdB6d"
      },
      "source": [
        "# Cleaning the Data"
      ]
    },
    {
      "cell_type": "code",
      "metadata": {
        "id": "tWdq-7tHdB6d"
      },
      "source": [
        "import pandas as pd\n",
        "import numpy as np"
      ],
      "execution_count": 4,
      "outputs": []
    },
    {
      "cell_type": "code",
      "metadata": {
        "id": "ucGy6PiydB6h",
        "outputId": "101ee805-eec5-4b31-fec0-cc92071251c9",
        "colab": {
          "base_uri": "https://localhost:8080/",
          "height": 719
        }
      },
      "source": [
        "df_coll = pd.read_csv('Data-Collisions.csv') \n",
        "df_coll.head()"
      ],
      "execution_count": 6,
      "outputs": [
        {
          "output_type": "stream",
          "text": [
            "/usr/local/lib/python3.6/dist-packages/IPython/core/interactiveshell.py:2718: DtypeWarning: Columns (33) have mixed types.Specify dtype option on import or set low_memory=False.\n",
            "  interactivity=interactivity, compiler=compiler, result=result)\n"
          ],
          "name": "stderr"
        },
        {
          "output_type": "execute_result",
          "data": {
            "text/html": [
              "<div>\n",
              "<style scoped>\n",
              "    .dataframe tbody tr th:only-of-type {\n",
              "        vertical-align: middle;\n",
              "    }\n",
              "\n",
              "    .dataframe tbody tr th {\n",
              "        vertical-align: top;\n",
              "    }\n",
              "\n",
              "    .dataframe thead th {\n",
              "        text-align: right;\n",
              "    }\n",
              "</style>\n",
              "<table border=\"1\" class=\"dataframe\">\n",
              "  <thead>\n",
              "    <tr style=\"text-align: right;\">\n",
              "      <th></th>\n",
              "      <th>SEVERITYCODE</th>\n",
              "      <th>X</th>\n",
              "      <th>Y</th>\n",
              "      <th>OBJECTID</th>\n",
              "      <th>INCKEY</th>\n",
              "      <th>COLDETKEY</th>\n",
              "      <th>REPORTNO</th>\n",
              "      <th>STATUS</th>\n",
              "      <th>ADDRTYPE</th>\n",
              "      <th>INTKEY</th>\n",
              "      <th>LOCATION</th>\n",
              "      <th>EXCEPTRSNCODE</th>\n",
              "      <th>EXCEPTRSNDESC</th>\n",
              "      <th>SEVERITYCODE.1</th>\n",
              "      <th>SEVERITYDESC</th>\n",
              "      <th>COLLISIONTYPE</th>\n",
              "      <th>PERSONCOUNT</th>\n",
              "      <th>PEDCOUNT</th>\n",
              "      <th>PEDCYLCOUNT</th>\n",
              "      <th>VEHCOUNT</th>\n",
              "      <th>INCDATE</th>\n",
              "      <th>INCDTTM</th>\n",
              "      <th>JUNCTIONTYPE</th>\n",
              "      <th>SDOT_COLCODE</th>\n",
              "      <th>SDOT_COLDESC</th>\n",
              "      <th>INATTENTIONIND</th>\n",
              "      <th>UNDERINFL</th>\n",
              "      <th>WEATHER</th>\n",
              "      <th>ROADCOND</th>\n",
              "      <th>LIGHTCOND</th>\n",
              "      <th>PEDROWNOTGRNT</th>\n",
              "      <th>SDOTCOLNUM</th>\n",
              "      <th>SPEEDING</th>\n",
              "      <th>ST_COLCODE</th>\n",
              "      <th>ST_COLDESC</th>\n",
              "      <th>SEGLANEKEY</th>\n",
              "      <th>CROSSWALKKEY</th>\n",
              "      <th>HITPARKEDCAR</th>\n",
              "    </tr>\n",
              "  </thead>\n",
              "  <tbody>\n",
              "    <tr>\n",
              "      <th>0</th>\n",
              "      <td>2</td>\n",
              "      <td>-122.323148</td>\n",
              "      <td>47.703140</td>\n",
              "      <td>1</td>\n",
              "      <td>1307</td>\n",
              "      <td>1307</td>\n",
              "      <td>3502005</td>\n",
              "      <td>Matched</td>\n",
              "      <td>Intersection</td>\n",
              "      <td>37475.0</td>\n",
              "      <td>5TH AVE NE AND NE 103RD ST</td>\n",
              "      <td></td>\n",
              "      <td>NaN</td>\n",
              "      <td>2</td>\n",
              "      <td>Injury Collision</td>\n",
              "      <td>Angles</td>\n",
              "      <td>2</td>\n",
              "      <td>0</td>\n",
              "      <td>0</td>\n",
              "      <td>2</td>\n",
              "      <td>2013/03/27 00:00:00+00</td>\n",
              "      <td>3/27/2013 2:54:00 PM</td>\n",
              "      <td>At Intersection (intersection related)</td>\n",
              "      <td>11</td>\n",
              "      <td>MOTOR VEHICLE STRUCK MOTOR VEHICLE, FRONT END ...</td>\n",
              "      <td>NaN</td>\n",
              "      <td>N</td>\n",
              "      <td>Overcast</td>\n",
              "      <td>Wet</td>\n",
              "      <td>Daylight</td>\n",
              "      <td>NaN</td>\n",
              "      <td>NaN</td>\n",
              "      <td>NaN</td>\n",
              "      <td>10</td>\n",
              "      <td>Entering at angle</td>\n",
              "      <td>0</td>\n",
              "      <td>0</td>\n",
              "      <td>N</td>\n",
              "    </tr>\n",
              "    <tr>\n",
              "      <th>1</th>\n",
              "      <td>1</td>\n",
              "      <td>-122.347294</td>\n",
              "      <td>47.647172</td>\n",
              "      <td>2</td>\n",
              "      <td>52200</td>\n",
              "      <td>52200</td>\n",
              "      <td>2607959</td>\n",
              "      <td>Matched</td>\n",
              "      <td>Block</td>\n",
              "      <td>NaN</td>\n",
              "      <td>AURORA BR BETWEEN RAYE ST AND BRIDGE WAY N</td>\n",
              "      <td>NaN</td>\n",
              "      <td>NaN</td>\n",
              "      <td>1</td>\n",
              "      <td>Property Damage Only Collision</td>\n",
              "      <td>Sideswipe</td>\n",
              "      <td>2</td>\n",
              "      <td>0</td>\n",
              "      <td>0</td>\n",
              "      <td>2</td>\n",
              "      <td>2006/12/20 00:00:00+00</td>\n",
              "      <td>12/20/2006 6:55:00 PM</td>\n",
              "      <td>Mid-Block (not related to intersection)</td>\n",
              "      <td>16</td>\n",
              "      <td>MOTOR VEHICLE STRUCK MOTOR VEHICLE, LEFT SIDE ...</td>\n",
              "      <td>NaN</td>\n",
              "      <td>0</td>\n",
              "      <td>Raining</td>\n",
              "      <td>Wet</td>\n",
              "      <td>Dark - Street Lights On</td>\n",
              "      <td>NaN</td>\n",
              "      <td>6354039.0</td>\n",
              "      <td>NaN</td>\n",
              "      <td>11</td>\n",
              "      <td>From same direction - both going straight - bo...</td>\n",
              "      <td>0</td>\n",
              "      <td>0</td>\n",
              "      <td>N</td>\n",
              "    </tr>\n",
              "    <tr>\n",
              "      <th>2</th>\n",
              "      <td>1</td>\n",
              "      <td>-122.334540</td>\n",
              "      <td>47.607871</td>\n",
              "      <td>3</td>\n",
              "      <td>26700</td>\n",
              "      <td>26700</td>\n",
              "      <td>1482393</td>\n",
              "      <td>Matched</td>\n",
              "      <td>Block</td>\n",
              "      <td>NaN</td>\n",
              "      <td>4TH AVE BETWEEN SENECA ST AND UNIVERSITY ST</td>\n",
              "      <td>NaN</td>\n",
              "      <td>NaN</td>\n",
              "      <td>1</td>\n",
              "      <td>Property Damage Only Collision</td>\n",
              "      <td>Parked Car</td>\n",
              "      <td>4</td>\n",
              "      <td>0</td>\n",
              "      <td>0</td>\n",
              "      <td>3</td>\n",
              "      <td>2004/11/18 00:00:00+00</td>\n",
              "      <td>11/18/2004 10:20:00 AM</td>\n",
              "      <td>Mid-Block (not related to intersection)</td>\n",
              "      <td>14</td>\n",
              "      <td>MOTOR VEHICLE STRUCK MOTOR VEHICLE, REAR END</td>\n",
              "      <td>NaN</td>\n",
              "      <td>0</td>\n",
              "      <td>Overcast</td>\n",
              "      <td>Dry</td>\n",
              "      <td>Daylight</td>\n",
              "      <td>NaN</td>\n",
              "      <td>4323031.0</td>\n",
              "      <td>NaN</td>\n",
              "      <td>32</td>\n",
              "      <td>One parked--one moving</td>\n",
              "      <td>0</td>\n",
              "      <td>0</td>\n",
              "      <td>N</td>\n",
              "    </tr>\n",
              "    <tr>\n",
              "      <th>3</th>\n",
              "      <td>1</td>\n",
              "      <td>-122.334803</td>\n",
              "      <td>47.604803</td>\n",
              "      <td>4</td>\n",
              "      <td>1144</td>\n",
              "      <td>1144</td>\n",
              "      <td>3503937</td>\n",
              "      <td>Matched</td>\n",
              "      <td>Block</td>\n",
              "      <td>NaN</td>\n",
              "      <td>2ND AVE BETWEEN MARION ST AND MADISON ST</td>\n",
              "      <td></td>\n",
              "      <td>NaN</td>\n",
              "      <td>1</td>\n",
              "      <td>Property Damage Only Collision</td>\n",
              "      <td>Other</td>\n",
              "      <td>3</td>\n",
              "      <td>0</td>\n",
              "      <td>0</td>\n",
              "      <td>3</td>\n",
              "      <td>2013/03/29 00:00:00+00</td>\n",
              "      <td>3/29/2013 9:26:00 AM</td>\n",
              "      <td>Mid-Block (not related to intersection)</td>\n",
              "      <td>11</td>\n",
              "      <td>MOTOR VEHICLE STRUCK MOTOR VEHICLE, FRONT END ...</td>\n",
              "      <td>NaN</td>\n",
              "      <td>N</td>\n",
              "      <td>Clear</td>\n",
              "      <td>Dry</td>\n",
              "      <td>Daylight</td>\n",
              "      <td>NaN</td>\n",
              "      <td>NaN</td>\n",
              "      <td>NaN</td>\n",
              "      <td>23</td>\n",
              "      <td>From same direction - all others</td>\n",
              "      <td>0</td>\n",
              "      <td>0</td>\n",
              "      <td>N</td>\n",
              "    </tr>\n",
              "    <tr>\n",
              "      <th>4</th>\n",
              "      <td>2</td>\n",
              "      <td>-122.306426</td>\n",
              "      <td>47.545739</td>\n",
              "      <td>5</td>\n",
              "      <td>17700</td>\n",
              "      <td>17700</td>\n",
              "      <td>1807429</td>\n",
              "      <td>Matched</td>\n",
              "      <td>Intersection</td>\n",
              "      <td>34387.0</td>\n",
              "      <td>SWIFT AVE S AND SWIFT AV OFF RP</td>\n",
              "      <td>NaN</td>\n",
              "      <td>NaN</td>\n",
              "      <td>2</td>\n",
              "      <td>Injury Collision</td>\n",
              "      <td>Angles</td>\n",
              "      <td>2</td>\n",
              "      <td>0</td>\n",
              "      <td>0</td>\n",
              "      <td>2</td>\n",
              "      <td>2004/01/28 00:00:00+00</td>\n",
              "      <td>1/28/2004 8:04:00 AM</td>\n",
              "      <td>At Intersection (intersection related)</td>\n",
              "      <td>11</td>\n",
              "      <td>MOTOR VEHICLE STRUCK MOTOR VEHICLE, FRONT END ...</td>\n",
              "      <td>NaN</td>\n",
              "      <td>0</td>\n",
              "      <td>Raining</td>\n",
              "      <td>Wet</td>\n",
              "      <td>Daylight</td>\n",
              "      <td>NaN</td>\n",
              "      <td>4028032.0</td>\n",
              "      <td>NaN</td>\n",
              "      <td>10</td>\n",
              "      <td>Entering at angle</td>\n",
              "      <td>0</td>\n",
              "      <td>0</td>\n",
              "      <td>N</td>\n",
              "    </tr>\n",
              "  </tbody>\n",
              "</table>\n",
              "</div>"
            ],
            "text/plain": [
              "   SEVERITYCODE           X          Y  ...  SEGLANEKEY  CROSSWALKKEY  HITPARKEDCAR\n",
              "0             2 -122.323148  47.703140  ...           0             0             N\n",
              "1             1 -122.347294  47.647172  ...           0             0             N\n",
              "2             1 -122.334540  47.607871  ...           0             0             N\n",
              "3             1 -122.334803  47.604803  ...           0             0             N\n",
              "4             2 -122.306426  47.545739  ...           0             0             N\n",
              "\n",
              "[5 rows x 38 columns]"
            ]
          },
          "metadata": {
            "tags": []
          },
          "execution_count": 6
        }
      ]
    },
    {
      "cell_type": "code",
      "metadata": {
        "id": "8xEDaBHVdB6k"
      },
      "source": [
        "df_coll.rename(columns={\"SEVERITYCODE\" : \"Deadly_Accident\"}, inplace = True) \n"
      ],
      "execution_count": 7,
      "outputs": []
    },
    {
      "cell_type": "code",
      "metadata": {
        "id": "PlXlE41IdB6o",
        "outputId": "b9be810b-eaa9-4807-cc7f-9f928d4ed734",
        "colab": {
          "base_uri": "https://localhost:8080/",
          "height": 279
        }
      },
      "source": [
        "df_coll = df_coll[['Deadly_Accident','X','Y','ADDRTYPE','COLLISIONTYPE','PERSONCOUNT','SDOT_COLDESC','WEATHER','ROADCOND','LIGHTCOND','SPEEDING','ST_COLDESC']] \n",
        "df_coll.head()"
      ],
      "execution_count": 8,
      "outputs": [
        {
          "output_type": "execute_result",
          "data": {
            "text/html": [
              "<div>\n",
              "<style scoped>\n",
              "    .dataframe tbody tr th:only-of-type {\n",
              "        vertical-align: middle;\n",
              "    }\n",
              "\n",
              "    .dataframe tbody tr th {\n",
              "        vertical-align: top;\n",
              "    }\n",
              "\n",
              "    .dataframe thead th {\n",
              "        text-align: right;\n",
              "    }\n",
              "</style>\n",
              "<table border=\"1\" class=\"dataframe\">\n",
              "  <thead>\n",
              "    <tr style=\"text-align: right;\">\n",
              "      <th></th>\n",
              "      <th>Deadly_Accident</th>\n",
              "      <th>X</th>\n",
              "      <th>Y</th>\n",
              "      <th>ADDRTYPE</th>\n",
              "      <th>COLLISIONTYPE</th>\n",
              "      <th>PERSONCOUNT</th>\n",
              "      <th>SDOT_COLDESC</th>\n",
              "      <th>WEATHER</th>\n",
              "      <th>ROADCOND</th>\n",
              "      <th>LIGHTCOND</th>\n",
              "      <th>SPEEDING</th>\n",
              "      <th>ST_COLDESC</th>\n",
              "    </tr>\n",
              "  </thead>\n",
              "  <tbody>\n",
              "    <tr>\n",
              "      <th>0</th>\n",
              "      <td>2</td>\n",
              "      <td>-122.323148</td>\n",
              "      <td>47.703140</td>\n",
              "      <td>Intersection</td>\n",
              "      <td>Angles</td>\n",
              "      <td>2</td>\n",
              "      <td>MOTOR VEHICLE STRUCK MOTOR VEHICLE, FRONT END ...</td>\n",
              "      <td>Overcast</td>\n",
              "      <td>Wet</td>\n",
              "      <td>Daylight</td>\n",
              "      <td>NaN</td>\n",
              "      <td>Entering at angle</td>\n",
              "    </tr>\n",
              "    <tr>\n",
              "      <th>1</th>\n",
              "      <td>1</td>\n",
              "      <td>-122.347294</td>\n",
              "      <td>47.647172</td>\n",
              "      <td>Block</td>\n",
              "      <td>Sideswipe</td>\n",
              "      <td>2</td>\n",
              "      <td>MOTOR VEHICLE STRUCK MOTOR VEHICLE, LEFT SIDE ...</td>\n",
              "      <td>Raining</td>\n",
              "      <td>Wet</td>\n",
              "      <td>Dark - Street Lights On</td>\n",
              "      <td>NaN</td>\n",
              "      <td>From same direction - both going straight - bo...</td>\n",
              "    </tr>\n",
              "    <tr>\n",
              "      <th>2</th>\n",
              "      <td>1</td>\n",
              "      <td>-122.334540</td>\n",
              "      <td>47.607871</td>\n",
              "      <td>Block</td>\n",
              "      <td>Parked Car</td>\n",
              "      <td>4</td>\n",
              "      <td>MOTOR VEHICLE STRUCK MOTOR VEHICLE, REAR END</td>\n",
              "      <td>Overcast</td>\n",
              "      <td>Dry</td>\n",
              "      <td>Daylight</td>\n",
              "      <td>NaN</td>\n",
              "      <td>One parked--one moving</td>\n",
              "    </tr>\n",
              "    <tr>\n",
              "      <th>3</th>\n",
              "      <td>1</td>\n",
              "      <td>-122.334803</td>\n",
              "      <td>47.604803</td>\n",
              "      <td>Block</td>\n",
              "      <td>Other</td>\n",
              "      <td>3</td>\n",
              "      <td>MOTOR VEHICLE STRUCK MOTOR VEHICLE, FRONT END ...</td>\n",
              "      <td>Clear</td>\n",
              "      <td>Dry</td>\n",
              "      <td>Daylight</td>\n",
              "      <td>NaN</td>\n",
              "      <td>From same direction - all others</td>\n",
              "    </tr>\n",
              "    <tr>\n",
              "      <th>4</th>\n",
              "      <td>2</td>\n",
              "      <td>-122.306426</td>\n",
              "      <td>47.545739</td>\n",
              "      <td>Intersection</td>\n",
              "      <td>Angles</td>\n",
              "      <td>2</td>\n",
              "      <td>MOTOR VEHICLE STRUCK MOTOR VEHICLE, FRONT END ...</td>\n",
              "      <td>Raining</td>\n",
              "      <td>Wet</td>\n",
              "      <td>Daylight</td>\n",
              "      <td>NaN</td>\n",
              "      <td>Entering at angle</td>\n",
              "    </tr>\n",
              "  </tbody>\n",
              "</table>\n",
              "</div>"
            ],
            "text/plain": [
              "   Deadly_Accident  ...                                         ST_COLDESC\n",
              "0                2  ...                                  Entering at angle\n",
              "1                1  ...  From same direction - both going straight - bo...\n",
              "2                1  ...                             One parked--one moving\n",
              "3                1  ...                   From same direction - all others\n",
              "4                2  ...                                  Entering at angle\n",
              "\n",
              "[5 rows x 12 columns]"
            ]
          },
          "metadata": {
            "tags": []
          },
          "execution_count": 8
        }
      ]
    },
    {
      "cell_type": "code",
      "metadata": {
        "id": "NdmkH4RcdB6s",
        "outputId": "80098c0d-63b4-4402-857b-946e5a5a2cfa",
        "colab": {
          "base_uri": "https://localhost:8080/",
          "height": 195
        }
      },
      "source": [
        "missing_data = df_coll.isnull()\n",
        "missing_data.head(5)"
      ],
      "execution_count": 9,
      "outputs": [
        {
          "output_type": "execute_result",
          "data": {
            "text/html": [
              "<div>\n",
              "<style scoped>\n",
              "    .dataframe tbody tr th:only-of-type {\n",
              "        vertical-align: middle;\n",
              "    }\n",
              "\n",
              "    .dataframe tbody tr th {\n",
              "        vertical-align: top;\n",
              "    }\n",
              "\n",
              "    .dataframe thead th {\n",
              "        text-align: right;\n",
              "    }\n",
              "</style>\n",
              "<table border=\"1\" class=\"dataframe\">\n",
              "  <thead>\n",
              "    <tr style=\"text-align: right;\">\n",
              "      <th></th>\n",
              "      <th>Deadly_Accident</th>\n",
              "      <th>X</th>\n",
              "      <th>Y</th>\n",
              "      <th>ADDRTYPE</th>\n",
              "      <th>COLLISIONTYPE</th>\n",
              "      <th>PERSONCOUNT</th>\n",
              "      <th>SDOT_COLDESC</th>\n",
              "      <th>WEATHER</th>\n",
              "      <th>ROADCOND</th>\n",
              "      <th>LIGHTCOND</th>\n",
              "      <th>SPEEDING</th>\n",
              "      <th>ST_COLDESC</th>\n",
              "    </tr>\n",
              "  </thead>\n",
              "  <tbody>\n",
              "    <tr>\n",
              "      <th>0</th>\n",
              "      <td>False</td>\n",
              "      <td>False</td>\n",
              "      <td>False</td>\n",
              "      <td>False</td>\n",
              "      <td>False</td>\n",
              "      <td>False</td>\n",
              "      <td>False</td>\n",
              "      <td>False</td>\n",
              "      <td>False</td>\n",
              "      <td>False</td>\n",
              "      <td>True</td>\n",
              "      <td>False</td>\n",
              "    </tr>\n",
              "    <tr>\n",
              "      <th>1</th>\n",
              "      <td>False</td>\n",
              "      <td>False</td>\n",
              "      <td>False</td>\n",
              "      <td>False</td>\n",
              "      <td>False</td>\n",
              "      <td>False</td>\n",
              "      <td>False</td>\n",
              "      <td>False</td>\n",
              "      <td>False</td>\n",
              "      <td>False</td>\n",
              "      <td>True</td>\n",
              "      <td>False</td>\n",
              "    </tr>\n",
              "    <tr>\n",
              "      <th>2</th>\n",
              "      <td>False</td>\n",
              "      <td>False</td>\n",
              "      <td>False</td>\n",
              "      <td>False</td>\n",
              "      <td>False</td>\n",
              "      <td>False</td>\n",
              "      <td>False</td>\n",
              "      <td>False</td>\n",
              "      <td>False</td>\n",
              "      <td>False</td>\n",
              "      <td>True</td>\n",
              "      <td>False</td>\n",
              "    </tr>\n",
              "    <tr>\n",
              "      <th>3</th>\n",
              "      <td>False</td>\n",
              "      <td>False</td>\n",
              "      <td>False</td>\n",
              "      <td>False</td>\n",
              "      <td>False</td>\n",
              "      <td>False</td>\n",
              "      <td>False</td>\n",
              "      <td>False</td>\n",
              "      <td>False</td>\n",
              "      <td>False</td>\n",
              "      <td>True</td>\n",
              "      <td>False</td>\n",
              "    </tr>\n",
              "    <tr>\n",
              "      <th>4</th>\n",
              "      <td>False</td>\n",
              "      <td>False</td>\n",
              "      <td>False</td>\n",
              "      <td>False</td>\n",
              "      <td>False</td>\n",
              "      <td>False</td>\n",
              "      <td>False</td>\n",
              "      <td>False</td>\n",
              "      <td>False</td>\n",
              "      <td>False</td>\n",
              "      <td>True</td>\n",
              "      <td>False</td>\n",
              "    </tr>\n",
              "  </tbody>\n",
              "</table>\n",
              "</div>"
            ],
            "text/plain": [
              "   Deadly_Accident      X      Y  ...  LIGHTCOND  SPEEDING  ST_COLDESC\n",
              "0            False  False  False  ...      False      True       False\n",
              "1            False  False  False  ...      False      True       False\n",
              "2            False  False  False  ...      False      True       False\n",
              "3            False  False  False  ...      False      True       False\n",
              "4            False  False  False  ...      False      True       False\n",
              "\n",
              "[5 rows x 12 columns]"
            ]
          },
          "metadata": {
            "tags": []
          },
          "execution_count": 9
        }
      ]
    },
    {
      "cell_type": "code",
      "metadata": {
        "tags": [],
        "id": "gFRoOxBrdB6v",
        "outputId": "aa1ce66a-cb04-498b-ff4b-01b9ab9a82fd",
        "colab": {
          "base_uri": "https://localhost:8080/",
          "height": 974
        }
      },
      "source": [
        "for column in missing_data.columns.values.tolist():\n",
        "    print(column)\n",
        "    print (missing_data[column].value_counts())\n",
        "    print(\"\")"
      ],
      "execution_count": 10,
      "outputs": [
        {
          "output_type": "stream",
          "text": [
            "Deadly_Accident\n",
            "False    194673\n",
            "Name: Deadly_Accident, dtype: int64\n",
            "\n",
            "X\n",
            "False    189339\n",
            "True       5334\n",
            "Name: X, dtype: int64\n",
            "\n",
            "Y\n",
            "False    189339\n",
            "True       5334\n",
            "Name: Y, dtype: int64\n",
            "\n",
            "ADDRTYPE\n",
            "False    192747\n",
            "True       1926\n",
            "Name: ADDRTYPE, dtype: int64\n",
            "\n",
            "COLLISIONTYPE\n",
            "False    189769\n",
            "True       4904\n",
            "Name: COLLISIONTYPE, dtype: int64\n",
            "\n",
            "PERSONCOUNT\n",
            "False    194673\n",
            "Name: PERSONCOUNT, dtype: int64\n",
            "\n",
            "SDOT_COLDESC\n",
            "False    194673\n",
            "Name: SDOT_COLDESC, dtype: int64\n",
            "\n",
            "WEATHER\n",
            "False    189592\n",
            "True       5081\n",
            "Name: WEATHER, dtype: int64\n",
            "\n",
            "ROADCOND\n",
            "False    189661\n",
            "True       5012\n",
            "Name: ROADCOND, dtype: int64\n",
            "\n",
            "LIGHTCOND\n",
            "False    189503\n",
            "True       5170\n",
            "Name: LIGHTCOND, dtype: int64\n",
            "\n",
            "SPEEDING\n",
            "True     185340\n",
            "False      9333\n",
            "Name: SPEEDING, dtype: int64\n",
            "\n",
            "ST_COLDESC\n",
            "False    189769\n",
            "True       4904\n",
            "Name: ST_COLDESC, dtype: int64\n",
            "\n"
          ],
          "name": "stdout"
        }
      ]
    },
    {
      "cell_type": "code",
      "metadata": {
        "id": "yd-8W43ZdB6y",
        "outputId": "c0a46909-e440-4a58-b67a-7835776d88da",
        "colab": {
          "base_uri": "https://localhost:8080/",
          "height": 67
        }
      },
      "source": [
        "df_coll[\"Deadly_Accident\"].replace(1, 0, inplace = True) ## replace 1 to 0 - \"No\"\n",
        "df_coll[\"Deadly_Accident\"].replace(2, 1, inplace = True) ## replace 2 to 1 - \"Yes\"\n",
        "df_coll[\"Deadly_Accident\"].value_counts() ## check the distribution to insure what we instered"
      ],
      "execution_count": 11,
      "outputs": [
        {
          "output_type": "execute_result",
          "data": {
            "text/plain": [
              "0    136485\n",
              "1     58188\n",
              "Name: Deadly_Accident, dtype: int64"
            ]
          },
          "metadata": {
            "tags": []
          },
          "execution_count": 11
        }
      ]
    },
    {
      "cell_type": "code",
      "metadata": {
        "tags": [],
        "id": "34lHGNThdB61",
        "outputId": "4d331c04-75e3-4f47-cd54-b4d7d23c8609",
        "colab": {
          "base_uri": "https://localhost:8080/",
          "height": 924
        }
      },
      "source": [
        "df_coll.dropna(subset=[\"X\"], axis=0, inplace = True) ## remove all the rows that has no loctaion\n",
        "missing_data = df_coll.isnull() ## check if the rows had dropped\n",
        "for column in missing_data.columns.values.tolist(): \n",
        "    print(column)\n",
        "    print (missing_data[column].value_counts())\n",
        "    print(\"\")"
      ],
      "execution_count": 12,
      "outputs": [
        {
          "output_type": "stream",
          "text": [
            "Deadly_Accident\n",
            "False    189339\n",
            "Name: Deadly_Accident, dtype: int64\n",
            "\n",
            "X\n",
            "False    189339\n",
            "Name: X, dtype: int64\n",
            "\n",
            "Y\n",
            "False    189339\n",
            "Name: Y, dtype: int64\n",
            "\n",
            "ADDRTYPE\n",
            "False    189339\n",
            "Name: ADDRTYPE, dtype: int64\n",
            "\n",
            "COLLISIONTYPE\n",
            "False    184582\n",
            "True       4757\n",
            "Name: COLLISIONTYPE, dtype: int64\n",
            "\n",
            "PERSONCOUNT\n",
            "False    189339\n",
            "Name: PERSONCOUNT, dtype: int64\n",
            "\n",
            "SDOT_COLDESC\n",
            "False    189339\n",
            "Name: SDOT_COLDESC, dtype: int64\n",
            "\n",
            "WEATHER\n",
            "False    184414\n",
            "True       4925\n",
            "Name: WEATHER, dtype: int64\n",
            "\n",
            "ROADCOND\n",
            "False    184481\n",
            "True       4858\n",
            "Name: ROADCOND, dtype: int64\n",
            "\n",
            "LIGHTCOND\n",
            "False    184327\n",
            "True       5012\n",
            "Name: LIGHTCOND, dtype: int64\n",
            "\n",
            "SPEEDING\n",
            "True     180619\n",
            "False      8720\n",
            "Name: SPEEDING, dtype: int64\n",
            "\n",
            "ST_COLDESC\n",
            "False    184582\n",
            "True       4757\n",
            "Name: ST_COLDESC, dtype: int64\n",
            "\n"
          ],
          "name": "stdout"
        }
      ]
    },
    {
      "cell_type": "code",
      "metadata": {
        "tags": [],
        "id": "LURCQbLTdB65",
        "outputId": "4a1432fe-d844-4f02-a773-94b4634d140e",
        "colab": {
          "base_uri": "https://localhost:8080/",
          "height": 890
        }
      },
      "source": [
        "df_coll.dropna(subset=[\"COLLISIONTYPE\"], axis=0, inplace = True) ## remove all the rows that has COLLISION TYPE\n",
        "missing_data = df_coll.isnull() ## check if the rows had dropped\n",
        "for column in missing_data.columns.values.tolist(): \n",
        "    print(column)\n",
        "    print (missing_data[column].value_counts())\n",
        "    print(\"\")"
      ],
      "execution_count": 13,
      "outputs": [
        {
          "output_type": "stream",
          "text": [
            "Deadly_Accident\n",
            "False    184582\n",
            "Name: Deadly_Accident, dtype: int64\n",
            "\n",
            "X\n",
            "False    184582\n",
            "Name: X, dtype: int64\n",
            "\n",
            "Y\n",
            "False    184582\n",
            "Name: Y, dtype: int64\n",
            "\n",
            "ADDRTYPE\n",
            "False    184582\n",
            "Name: ADDRTYPE, dtype: int64\n",
            "\n",
            "COLLISIONTYPE\n",
            "False    184582\n",
            "Name: COLLISIONTYPE, dtype: int64\n",
            "\n",
            "PERSONCOUNT\n",
            "False    184582\n",
            "Name: PERSONCOUNT, dtype: int64\n",
            "\n",
            "SDOT_COLDESC\n",
            "False    184582\n",
            "Name: SDOT_COLDESC, dtype: int64\n",
            "\n",
            "WEATHER\n",
            "False    184393\n",
            "True        189\n",
            "Name: WEATHER, dtype: int64\n",
            "\n",
            "ROADCOND\n",
            "False    184460\n",
            "True        122\n",
            "Name: ROADCOND, dtype: int64\n",
            "\n",
            "LIGHTCOND\n",
            "False    184306\n",
            "True        276\n",
            "Name: LIGHTCOND, dtype: int64\n",
            "\n",
            "SPEEDING\n",
            "True     175863\n",
            "False      8719\n",
            "Name: SPEEDING, dtype: int64\n",
            "\n",
            "ST_COLDESC\n",
            "False    184582\n",
            "Name: ST_COLDESC, dtype: int64\n",
            "\n"
          ],
          "name": "stdout"
        }
      ]
    },
    {
      "cell_type": "code",
      "metadata": {
        "id": "hjjy97jxdB67",
        "outputId": "b05e735e-b3d5-497d-9c5d-e5d5acc9fb78",
        "colab": {
          "base_uri": "https://localhost:8080/",
          "height": 218
        }
      },
      "source": [
        "df_coll[\"WEATHER\"].value_counts() ## check the distribution in order to complete the empty values"
      ],
      "execution_count": 14,
      "outputs": [
        {
          "output_type": "execute_result",
          "data": {
            "text/plain": [
              "Clear                       108953\n",
              "Raining                      32008\n",
              "Overcast                     27130\n",
              "Unknown                      13891\n",
              "Snowing                        894\n",
              "Other                          773\n",
              "Fog/Smog/Smoke                 553\n",
              "Sleet/Hail/Freezing Rain       112\n",
              "Blowing Sand/Dirt               50\n",
              "Severe Crosswind                24\n",
              "Partly Cloudy                    5\n",
              "Name: WEATHER, dtype: int64"
            ]
          },
          "metadata": {
            "tags": []
          },
          "execution_count": 14
        }
      ]
    },
    {
      "cell_type": "code",
      "metadata": {
        "id": "-1mpevcDdB6-",
        "outputId": "38e6229d-dd45-42ac-8816-419f17276551",
        "colab": {
          "base_uri": "https://localhost:8080/",
          "height": 218
        }
      },
      "source": [
        "df_coll.replace(\"?\", np.nan, inplace = True) ## if there any \"?\" it was replaced by Nan\n",
        "df_coll[\"WEATHER\"].replace(np.nan, 'Clear', inplace = True)\n",
        "df_coll[\"WEATHER\"].value_counts() ## check the distribution to insure what we instered"
      ],
      "execution_count": 15,
      "outputs": [
        {
          "output_type": "execute_result",
          "data": {
            "text/plain": [
              "Clear                       109142\n",
              "Raining                      32008\n",
              "Overcast                     27130\n",
              "Unknown                      13891\n",
              "Snowing                        894\n",
              "Other                          773\n",
              "Fog/Smog/Smoke                 553\n",
              "Sleet/Hail/Freezing Rain       112\n",
              "Blowing Sand/Dirt               50\n",
              "Severe Crosswind                24\n",
              "Partly Cloudy                    5\n",
              "Name: WEATHER, dtype: int64"
            ]
          },
          "metadata": {
            "tags": []
          },
          "execution_count": 15
        }
      ]
    },
    {
      "cell_type": "code",
      "metadata": {
        "id": "-Gokdj5KdB7A",
        "outputId": "a013da18-92c7-4641-b85f-3105065372c4",
        "colab": {
          "base_uri": "https://localhost:8080/",
          "height": 185
        }
      },
      "source": [
        "df_coll[\"ROADCOND\"].value_counts() ## check the distribution in order to complete the empty values"
      ],
      "execution_count": 16,
      "outputs": [
        {
          "output_type": "execute_result",
          "data": {
            "text/plain": [
              "Dry               122070\n",
              "Wet                46054\n",
              "Unknown            13835\n",
              "Ice                 1176\n",
              "Snow/Slush           989\n",
              "Other                117\n",
              "Standing Water       102\n",
              "Sand/Mud/Dirt         64\n",
              "Oil                   53\n",
              "Name: ROADCOND, dtype: int64"
            ]
          },
          "metadata": {
            "tags": []
          },
          "execution_count": 16
        }
      ]
    },
    {
      "cell_type": "code",
      "metadata": {
        "id": "JDfD_nTSdB7D",
        "outputId": "1b2cf745-3119-4ff6-81dd-fa68722c18bb",
        "colab": {
          "base_uri": "https://localhost:8080/",
          "height": 185
        }
      },
      "source": [
        "df_coll[\"ROADCOND\"].replace(np.nan, 'Dry', inplace = True)\n",
        "df_coll[\"ROADCOND\"].value_counts() ## check the distribution to insure what we instered"
      ],
      "execution_count": 17,
      "outputs": [
        {
          "output_type": "execute_result",
          "data": {
            "text/plain": [
              "Dry               122192\n",
              "Wet                46054\n",
              "Unknown            13835\n",
              "Ice                 1176\n",
              "Snow/Slush           989\n",
              "Other                117\n",
              "Standing Water       102\n",
              "Sand/Mud/Dirt         64\n",
              "Oil                   53\n",
              "Name: ROADCOND, dtype: int64"
            ]
          },
          "metadata": {
            "tags": []
          },
          "execution_count": 17
        }
      ]
    },
    {
      "cell_type": "code",
      "metadata": {
        "id": "la4bB4BddB7F",
        "outputId": "ac142848-42a3-4bb0-b6e6-7c92a59ac89f",
        "colab": {
          "base_uri": "https://localhost:8080/",
          "height": 185
        }
      },
      "source": [
        "df_coll[\"LIGHTCOND\"].value_counts() ## check the distribution in order to complete the empty values"
      ],
      "execution_count": 18,
      "outputs": [
        {
          "output_type": "execute_result",
          "data": {
            "text/plain": [
              "Daylight                    113569\n",
              "Dark - Street Lights On      47311\n",
              "Unknown                      12430\n",
              "Dusk                          5774\n",
              "Dawn                          2421\n",
              "Dark - No Street Lights       1450\n",
              "Dark - Street Lights Off      1152\n",
              "Other                          188\n",
              "Dark - Unknown Lighting         11\n",
              "Name: LIGHTCOND, dtype: int64"
            ]
          },
          "metadata": {
            "tags": []
          },
          "execution_count": 18
        }
      ]
    },
    {
      "cell_type": "code",
      "metadata": {
        "id": "4zKAvN24dB7H",
        "outputId": "79227e8d-e9b7-4d6a-e765-30b70aafd3ba",
        "colab": {
          "base_uri": "https://localhost:8080/",
          "height": 185
        }
      },
      "source": [
        "df_coll[\"LIGHTCOND\"].replace(np.nan, 'Daylight', inplace = True)\n",
        "df_coll[\"LIGHTCOND\"].value_counts() ## check the distribution to insure what we instered"
      ],
      "execution_count": 19,
      "outputs": [
        {
          "output_type": "execute_result",
          "data": {
            "text/plain": [
              "Daylight                    113845\n",
              "Dark - Street Lights On      47311\n",
              "Unknown                      12430\n",
              "Dusk                          5774\n",
              "Dawn                          2421\n",
              "Dark - No Street Lights       1450\n",
              "Dark - Street Lights Off      1152\n",
              "Other                          188\n",
              "Dark - Unknown Lighting         11\n",
              "Name: LIGHTCOND, dtype: int64"
            ]
          },
          "metadata": {
            "tags": []
          },
          "execution_count": 19
        }
      ]
    },
    {
      "cell_type": "code",
      "metadata": {
        "id": "FlSyA-Y8dB7L",
        "outputId": "f9c6eef0-5127-432b-febe-312ed893c448",
        "colab": {
          "base_uri": "https://localhost:8080/",
          "height": 67
        }
      },
      "source": [
        "df_coll[\"SPEEDING\"].replace(np.nan, 0, inplace = True) ## in the df there is Y which means yes and all the other cells empty so I decided to instert 0 which means No \n",
        "df_coll[\"SPEEDING\"].replace('Y', 1, inplace = True) ## convert Y to int (1)\n",
        "df_coll[\"SPEEDING\"].value_counts() ## check the distribution to see that we instered the values"
      ],
      "execution_count": 20,
      "outputs": [
        {
          "output_type": "execute_result",
          "data": {
            "text/plain": [
              "0    175863\n",
              "1      8719\n",
              "Name: SPEEDING, dtype: int64"
            ]
          },
          "metadata": {
            "tags": []
          },
          "execution_count": 20
        }
      ]
    },
    {
      "cell_type": "code",
      "metadata": {
        "id": "JY4oHU6CdB7O",
        "outputId": "fd442e5c-71c8-4937-99af-535c81dd858b",
        "colab": {
          "base_uri": "https://localhost:8080/",
          "height": 218
        }
      },
      "source": [
        "df_coll[\"ST_COLDESC\"].value_counts() "
      ],
      "execution_count": 21,
      "outputs": [
        {
          "output_type": "execute_result",
          "data": {
            "text/plain": [
              "One parked--one moving                                                 42869\n",
              "Entering at angle                                                      34460\n",
              "From same direction - both going straight - one stopped - rear-end     25061\n",
              "Fixed object                                                           12452\n",
              "From same direction - both going straight - both moving - sideswipe    12304\n",
              "                                                                       ...  \n",
              "Railway Vehicle Strikes Pedalcyclist                                       2\n",
              "Vehicle Strikes All Other Non-Domestic Animal                              2\n",
              "Vehicle Hits State Road or Construction Machinery                          1\n",
              "Non-domestic animal (deer, bear, elk, etc)                                 1\n",
              "Vehicle Strikes Deer                                                       1\n",
              "Name: ST_COLDESC, Length: 62, dtype: int64"
            ]
          },
          "metadata": {
            "tags": []
          },
          "execution_count": 21
        }
      ]
    },
    {
      "cell_type": "code",
      "metadata": {
        "id": "4LR7qqDOdB7Q"
      },
      "source": [
        "df_coll.dropna(subset=[\"ST_COLDESC\"], axis=0, inplace = True) "
      ],
      "execution_count": 22,
      "outputs": []
    },
    {
      "cell_type": "code",
      "metadata": {
        "tags": [],
        "id": "U1MXViBedB7T",
        "outputId": "270c104e-2434-4cd7-ad09-0dd01bf5359a",
        "colab": {
          "base_uri": "https://localhost:8080/",
          "height": 823
        }
      },
      "source": [
        "missing_data = df_coll.isnull() ## check for the last if there is no missing value\n",
        "for column in missing_data.columns.values.tolist(): \n",
        "    print(column)\n",
        "    print (missing_data[column].value_counts())\n",
        "    print(\"\")"
      ],
      "execution_count": 23,
      "outputs": [
        {
          "output_type": "stream",
          "text": [
            "Deadly_Accident\n",
            "False    184582\n",
            "Name: Deadly_Accident, dtype: int64\n",
            "\n",
            "X\n",
            "False    184582\n",
            "Name: X, dtype: int64\n",
            "\n",
            "Y\n",
            "False    184582\n",
            "Name: Y, dtype: int64\n",
            "\n",
            "ADDRTYPE\n",
            "False    184582\n",
            "Name: ADDRTYPE, dtype: int64\n",
            "\n",
            "COLLISIONTYPE\n",
            "False    184582\n",
            "Name: COLLISIONTYPE, dtype: int64\n",
            "\n",
            "PERSONCOUNT\n",
            "False    184582\n",
            "Name: PERSONCOUNT, dtype: int64\n",
            "\n",
            "SDOT_COLDESC\n",
            "False    184582\n",
            "Name: SDOT_COLDESC, dtype: int64\n",
            "\n",
            "WEATHER\n",
            "False    184582\n",
            "Name: WEATHER, dtype: int64\n",
            "\n",
            "ROADCOND\n",
            "False    184582\n",
            "Name: ROADCOND, dtype: int64\n",
            "\n",
            "LIGHTCOND\n",
            "False    184582\n",
            "Name: LIGHTCOND, dtype: int64\n",
            "\n",
            "SPEEDING\n",
            "False    184582\n",
            "Name: SPEEDING, dtype: int64\n",
            "\n",
            "ST_COLDESC\n",
            "False    184582\n",
            "Name: ST_COLDESC, dtype: int64\n",
            "\n"
          ],
          "name": "stdout"
        }
      ]
    },
    {
      "cell_type": "markdown",
      "metadata": {
        "id": "e6spVr1JdB7W"
      },
      "source": [
        "## Correct data format"
      ]
    },
    {
      "cell_type": "code",
      "metadata": {
        "id": "FzRkK855dB7X",
        "outputId": "0d775505-e20e-4344-c248-9f134b4c01d7",
        "colab": {
          "base_uri": "https://localhost:8080/",
          "height": 235
        }
      },
      "source": [
        "df_coll.dtypes ## learning about columns types, everthing OK"
      ],
      "execution_count": 24,
      "outputs": [
        {
          "output_type": "execute_result",
          "data": {
            "text/plain": [
              "Deadly_Accident      int64\n",
              "X                  float64\n",
              "Y                  float64\n",
              "ADDRTYPE            object\n",
              "COLLISIONTYPE       object\n",
              "PERSONCOUNT          int64\n",
              "SDOT_COLDESC        object\n",
              "WEATHER             object\n",
              "ROADCOND            object\n",
              "LIGHTCOND           object\n",
              "SPEEDING             int64\n",
              "ST_COLDESC          object\n",
              "dtype: object"
            ]
          },
          "metadata": {
            "tags": []
          },
          "execution_count": 24
        }
      ]
    },
    {
      "cell_type": "markdown",
      "metadata": {
        "id": "Xum6yt6_dB7a"
      },
      "source": [
        "## Data Normalization"
      ]
    },
    {
      "cell_type": "code",
      "metadata": {
        "id": "B_K0O9otdB7a"
      },
      "source": [
        "df_coll['PERSONCOUNT'] = df_coll['PERSONCOUNT']/df_coll['PERSONCOUNT'].max()\n"
      ],
      "execution_count": 25,
      "outputs": []
    },
    {
      "cell_type": "markdown",
      "metadata": {
        "id": "eHzVgibydB7c"
      },
      "source": [
        "## Divide the location to bins: South, Center and North"
      ]
    },
    {
      "cell_type": "code",
      "metadata": {
        "id": "DQqYdzhkdB7d",
        "outputId": "e6d2bbef-5b1a-468b-ecec-c695f571fe63",
        "colab": {
          "base_uri": "https://localhost:8080/",
          "height": 386
        }
      },
      "source": [
        "bins = np.linspace(min(df_coll[\"Y\"]), max(df_coll[\"Y\"]), 4)\n",
        "group_names = ['South', 'Center', 'North']\n",
        "df_coll['Area'] = pd.cut(df_coll['Y'], bins, labels=group_names, include_lowest=True)\n",
        "df_coll['Area'].head(20)"
      ],
      "execution_count": 26,
      "outputs": [
        {
          "output_type": "execute_result",
          "data": {
            "text/plain": [
              "0      North\n",
              "1     Center\n",
              "2     Center\n",
              "3     Center\n",
              "4      South\n",
              "5      North\n",
              "6     Center\n",
              "7     Center\n",
              "8     Center\n",
              "9      South\n",
              "11     South\n",
              "12     South\n",
              "13    Center\n",
              "14     North\n",
              "16     North\n",
              "18     South\n",
              "19    Center\n",
              "20     North\n",
              "21     North\n",
              "22    Center\n",
              "Name: Area, dtype: category\n",
              "Categories (3, object): ['South' < 'Center' < 'North']"
            ]
          },
          "metadata": {
            "tags": []
          },
          "execution_count": 26
        }
      ]
    },
    {
      "cell_type": "code",
      "metadata": {
        "id": "EuqcVRDldB7g",
        "outputId": "28e4ec51-9ce8-4a97-ad40-b0e7a17e771b",
        "colab": {
          "base_uri": "https://localhost:8080/",
          "height": 84
        }
      },
      "source": [
        "df_coll['Area'].value_counts() ## insure that the divide was useful"
      ],
      "execution_count": 27,
      "outputs": [
        {
          "output_type": "execute_result",
          "data": {
            "text/plain": [
              "Center    82401\n",
              "North     56502\n",
              "South     45679\n",
              "Name: Area, dtype: int64"
            ]
          },
          "metadata": {
            "tags": []
          },
          "execution_count": 27
        }
      ]
    },
    {
      "cell_type": "code",
      "metadata": {
        "id": "lA5WPaJgdB7j"
      },
      "source": [
        "df_coll.drop(['X','Y'] , axis = 1, inplace = True) ## we don't need lan and long so we drop them"
      ],
      "execution_count": 28,
      "outputs": []
    },
    {
      "cell_type": "code",
      "metadata": {
        "id": "8J2R2Oi3dB7n",
        "outputId": "0d855487-9bfd-474b-b86e-c426b96e410a",
        "colab": {
          "base_uri": "https://localhost:8080/",
          "height": 279
        }
      },
      "source": [
        "df_coll.reset_index(inplace = True, drop = True) ## arrange the new df after cleaning\n",
        "df_coll.head()"
      ],
      "execution_count": 29,
      "outputs": [
        {
          "output_type": "execute_result",
          "data": {
            "text/html": [
              "<div>\n",
              "<style scoped>\n",
              "    .dataframe tbody tr th:only-of-type {\n",
              "        vertical-align: middle;\n",
              "    }\n",
              "\n",
              "    .dataframe tbody tr th {\n",
              "        vertical-align: top;\n",
              "    }\n",
              "\n",
              "    .dataframe thead th {\n",
              "        text-align: right;\n",
              "    }\n",
              "</style>\n",
              "<table border=\"1\" class=\"dataframe\">\n",
              "  <thead>\n",
              "    <tr style=\"text-align: right;\">\n",
              "      <th></th>\n",
              "      <th>Deadly_Accident</th>\n",
              "      <th>ADDRTYPE</th>\n",
              "      <th>COLLISIONTYPE</th>\n",
              "      <th>PERSONCOUNT</th>\n",
              "      <th>SDOT_COLDESC</th>\n",
              "      <th>WEATHER</th>\n",
              "      <th>ROADCOND</th>\n",
              "      <th>LIGHTCOND</th>\n",
              "      <th>SPEEDING</th>\n",
              "      <th>ST_COLDESC</th>\n",
              "      <th>Area</th>\n",
              "    </tr>\n",
              "  </thead>\n",
              "  <tbody>\n",
              "    <tr>\n",
              "      <th>0</th>\n",
              "      <td>1</td>\n",
              "      <td>Intersection</td>\n",
              "      <td>Angles</td>\n",
              "      <td>0.024691</td>\n",
              "      <td>MOTOR VEHICLE STRUCK MOTOR VEHICLE, FRONT END ...</td>\n",
              "      <td>Overcast</td>\n",
              "      <td>Wet</td>\n",
              "      <td>Daylight</td>\n",
              "      <td>0</td>\n",
              "      <td>Entering at angle</td>\n",
              "      <td>North</td>\n",
              "    </tr>\n",
              "    <tr>\n",
              "      <th>1</th>\n",
              "      <td>0</td>\n",
              "      <td>Block</td>\n",
              "      <td>Sideswipe</td>\n",
              "      <td>0.024691</td>\n",
              "      <td>MOTOR VEHICLE STRUCK MOTOR VEHICLE, LEFT SIDE ...</td>\n",
              "      <td>Raining</td>\n",
              "      <td>Wet</td>\n",
              "      <td>Dark - Street Lights On</td>\n",
              "      <td>0</td>\n",
              "      <td>From same direction - both going straight - bo...</td>\n",
              "      <td>Center</td>\n",
              "    </tr>\n",
              "    <tr>\n",
              "      <th>2</th>\n",
              "      <td>0</td>\n",
              "      <td>Block</td>\n",
              "      <td>Parked Car</td>\n",
              "      <td>0.049383</td>\n",
              "      <td>MOTOR VEHICLE STRUCK MOTOR VEHICLE, REAR END</td>\n",
              "      <td>Overcast</td>\n",
              "      <td>Dry</td>\n",
              "      <td>Daylight</td>\n",
              "      <td>0</td>\n",
              "      <td>One parked--one moving</td>\n",
              "      <td>Center</td>\n",
              "    </tr>\n",
              "    <tr>\n",
              "      <th>3</th>\n",
              "      <td>0</td>\n",
              "      <td>Block</td>\n",
              "      <td>Other</td>\n",
              "      <td>0.037037</td>\n",
              "      <td>MOTOR VEHICLE STRUCK MOTOR VEHICLE, FRONT END ...</td>\n",
              "      <td>Clear</td>\n",
              "      <td>Dry</td>\n",
              "      <td>Daylight</td>\n",
              "      <td>0</td>\n",
              "      <td>From same direction - all others</td>\n",
              "      <td>Center</td>\n",
              "    </tr>\n",
              "    <tr>\n",
              "      <th>4</th>\n",
              "      <td>1</td>\n",
              "      <td>Intersection</td>\n",
              "      <td>Angles</td>\n",
              "      <td>0.024691</td>\n",
              "      <td>MOTOR VEHICLE STRUCK MOTOR VEHICLE, FRONT END ...</td>\n",
              "      <td>Raining</td>\n",
              "      <td>Wet</td>\n",
              "      <td>Daylight</td>\n",
              "      <td>0</td>\n",
              "      <td>Entering at angle</td>\n",
              "      <td>South</td>\n",
              "    </tr>\n",
              "  </tbody>\n",
              "</table>\n",
              "</div>"
            ],
            "text/plain": [
              "   Deadly_Accident  ...    Area\n",
              "0                1  ...   North\n",
              "1                0  ...  Center\n",
              "2                0  ...  Center\n",
              "3                0  ...  Center\n",
              "4                1  ...   South\n",
              "\n",
              "[5 rows x 11 columns]"
            ]
          },
          "metadata": {
            "tags": []
          },
          "execution_count": 29
        }
      ]
    },
    {
      "cell_type": "markdown",
      "metadata": {
        "id": "bOZ_uwJxdB7p"
      },
      "source": [
        "\n",
        "## Indicator variable (or dummy variable)"
      ]
    },
    {
      "cell_type": "code",
      "metadata": {
        "tags": [],
        "id": "wOYNMdFQdB7p",
        "outputId": "938a9166-25ed-4ebf-e7e3-687edac6311f",
        "colab": {
          "base_uri": "https://localhost:8080/",
          "height": 202
        }
      },
      "source": [
        "%pip install seaborn"
      ],
      "execution_count": 30,
      "outputs": [
        {
          "output_type": "stream",
          "text": [
            "Requirement already satisfied: seaborn in /usr/local/lib/python3.6/dist-packages (0.11.0)\n",
            "Requirement already satisfied: pandas>=0.23 in /usr/local/lib/python3.6/dist-packages (from seaborn) (1.1.2)\n",
            "Requirement already satisfied: matplotlib>=2.2 in /usr/local/lib/python3.6/dist-packages (from seaborn) (3.2.2)\n",
            "Requirement already satisfied: scipy>=1.0 in /usr/local/lib/python3.6/dist-packages (from seaborn) (1.4.1)\n",
            "Requirement already satisfied: numpy>=1.15 in /usr/local/lib/python3.6/dist-packages (from seaborn) (1.18.5)\n",
            "Requirement already satisfied: python-dateutil>=2.7.3 in /usr/local/lib/python3.6/dist-packages (from pandas>=0.23->seaborn) (2.8.1)\n",
            "Requirement already satisfied: pytz>=2017.2 in /usr/local/lib/python3.6/dist-packages (from pandas>=0.23->seaborn) (2018.9)\n",
            "Requirement already satisfied: cycler>=0.10 in /usr/local/lib/python3.6/dist-packages (from matplotlib>=2.2->seaborn) (0.10.0)\n",
            "Requirement already satisfied: kiwisolver>=1.0.1 in /usr/local/lib/python3.6/dist-packages (from matplotlib>=2.2->seaborn) (1.2.0)\n",
            "Requirement already satisfied: pyparsing!=2.0.4,!=2.1.2,!=2.1.6,>=2.0.1 in /usr/local/lib/python3.6/dist-packages (from matplotlib>=2.2->seaborn) (2.4.7)\n",
            "Requirement already satisfied: six>=1.5 in /usr/local/lib/python3.6/dist-packages (from python-dateutil>=2.7.3->pandas>=0.23->seaborn) (1.15.0)\n"
          ],
          "name": "stdout"
        }
      ]
    },
    {
      "cell_type": "code",
      "metadata": {
        "id": "AsslQbYMdB7s"
      },
      "source": [
        "import matplotlib.pyplot as plt\n",
        "import seaborn as sns\n",
        "%matplotlib inline "
      ],
      "execution_count": 31,
      "outputs": []
    },
    {
      "cell_type": "code",
      "metadata": {
        "tags": [],
        "id": "eDyeKeB0dB7u"
      },
      "source": [
        "from scipy import stats"
      ],
      "execution_count": 32,
      "outputs": []
    },
    {
      "cell_type": "code",
      "metadata": {
        "id": "ETEzNizfdB7x",
        "outputId": "3ab328e1-5016-4169-8e27-3f921f473b21",
        "colab": {
          "base_uri": "https://localhost:8080/",
          "height": 279
        }
      },
      "source": [
        "df_coll.head()"
      ],
      "execution_count": 33,
      "outputs": [
        {
          "output_type": "execute_result",
          "data": {
            "text/html": [
              "<div>\n",
              "<style scoped>\n",
              "    .dataframe tbody tr th:only-of-type {\n",
              "        vertical-align: middle;\n",
              "    }\n",
              "\n",
              "    .dataframe tbody tr th {\n",
              "        vertical-align: top;\n",
              "    }\n",
              "\n",
              "    .dataframe thead th {\n",
              "        text-align: right;\n",
              "    }\n",
              "</style>\n",
              "<table border=\"1\" class=\"dataframe\">\n",
              "  <thead>\n",
              "    <tr style=\"text-align: right;\">\n",
              "      <th></th>\n",
              "      <th>Deadly_Accident</th>\n",
              "      <th>ADDRTYPE</th>\n",
              "      <th>COLLISIONTYPE</th>\n",
              "      <th>PERSONCOUNT</th>\n",
              "      <th>SDOT_COLDESC</th>\n",
              "      <th>WEATHER</th>\n",
              "      <th>ROADCOND</th>\n",
              "      <th>LIGHTCOND</th>\n",
              "      <th>SPEEDING</th>\n",
              "      <th>ST_COLDESC</th>\n",
              "      <th>Area</th>\n",
              "    </tr>\n",
              "  </thead>\n",
              "  <tbody>\n",
              "    <tr>\n",
              "      <th>0</th>\n",
              "      <td>1</td>\n",
              "      <td>Intersection</td>\n",
              "      <td>Angles</td>\n",
              "      <td>0.024691</td>\n",
              "      <td>MOTOR VEHICLE STRUCK MOTOR VEHICLE, FRONT END ...</td>\n",
              "      <td>Overcast</td>\n",
              "      <td>Wet</td>\n",
              "      <td>Daylight</td>\n",
              "      <td>0</td>\n",
              "      <td>Entering at angle</td>\n",
              "      <td>North</td>\n",
              "    </tr>\n",
              "    <tr>\n",
              "      <th>1</th>\n",
              "      <td>0</td>\n",
              "      <td>Block</td>\n",
              "      <td>Sideswipe</td>\n",
              "      <td>0.024691</td>\n",
              "      <td>MOTOR VEHICLE STRUCK MOTOR VEHICLE, LEFT SIDE ...</td>\n",
              "      <td>Raining</td>\n",
              "      <td>Wet</td>\n",
              "      <td>Dark - Street Lights On</td>\n",
              "      <td>0</td>\n",
              "      <td>From same direction - both going straight - bo...</td>\n",
              "      <td>Center</td>\n",
              "    </tr>\n",
              "    <tr>\n",
              "      <th>2</th>\n",
              "      <td>0</td>\n",
              "      <td>Block</td>\n",
              "      <td>Parked Car</td>\n",
              "      <td>0.049383</td>\n",
              "      <td>MOTOR VEHICLE STRUCK MOTOR VEHICLE, REAR END</td>\n",
              "      <td>Overcast</td>\n",
              "      <td>Dry</td>\n",
              "      <td>Daylight</td>\n",
              "      <td>0</td>\n",
              "      <td>One parked--one moving</td>\n",
              "      <td>Center</td>\n",
              "    </tr>\n",
              "    <tr>\n",
              "      <th>3</th>\n",
              "      <td>0</td>\n",
              "      <td>Block</td>\n",
              "      <td>Other</td>\n",
              "      <td>0.037037</td>\n",
              "      <td>MOTOR VEHICLE STRUCK MOTOR VEHICLE, FRONT END ...</td>\n",
              "      <td>Clear</td>\n",
              "      <td>Dry</td>\n",
              "      <td>Daylight</td>\n",
              "      <td>0</td>\n",
              "      <td>From same direction - all others</td>\n",
              "      <td>Center</td>\n",
              "    </tr>\n",
              "    <tr>\n",
              "      <th>4</th>\n",
              "      <td>1</td>\n",
              "      <td>Intersection</td>\n",
              "      <td>Angles</td>\n",
              "      <td>0.024691</td>\n",
              "      <td>MOTOR VEHICLE STRUCK MOTOR VEHICLE, FRONT END ...</td>\n",
              "      <td>Raining</td>\n",
              "      <td>Wet</td>\n",
              "      <td>Daylight</td>\n",
              "      <td>0</td>\n",
              "      <td>Entering at angle</td>\n",
              "      <td>South</td>\n",
              "    </tr>\n",
              "  </tbody>\n",
              "</table>\n",
              "</div>"
            ],
            "text/plain": [
              "   Deadly_Accident  ...    Area\n",
              "0                1  ...   North\n",
              "1                0  ...  Center\n",
              "2                0  ...  Center\n",
              "3                0  ...  Center\n",
              "4                1  ...   South\n",
              "\n",
              "[5 rows x 11 columns]"
            ]
          },
          "metadata": {
            "tags": []
          },
          "execution_count": 33
        }
      ]
    },
    {
      "cell_type": "markdown",
      "metadata": {
        "id": "s1pY5gFQdB70"
      },
      "source": [
        "# correlation\n",
        " I will use ANOVA methodology to analyze the categorical features' correlation"
      ]
    },
    {
      "cell_type": "code",
      "metadata": {
        "id": "apzTcT0zdB70",
        "outputId": "2e31be07-b87a-449e-835a-53b753ab7640",
        "colab": {
          "base_uri": "https://localhost:8080/",
          "height": 402
        }
      },
      "source": [
        "## ST_COLDESC column correlation \n",
        "grouped_test_ST_COLDESC = df_coll[['Deadly_Accident', 'ST_COLDESC']]\n",
        "grouped_test2 = grouped_test_ST_COLDESC.groupby(['ST_COLDESC'])\n",
        "grouped_test2.head()"
      ],
      "execution_count": 34,
      "outputs": [
        {
          "output_type": "execute_result",
          "data": {
            "text/html": [
              "<div>\n",
              "<style scoped>\n",
              "    .dataframe tbody tr th:only-of-type {\n",
              "        vertical-align: middle;\n",
              "    }\n",
              "\n",
              "    .dataframe tbody tr th {\n",
              "        vertical-align: top;\n",
              "    }\n",
              "\n",
              "    .dataframe thead th {\n",
              "        text-align: right;\n",
              "    }\n",
              "</style>\n",
              "<table border=\"1\" class=\"dataframe\">\n",
              "  <thead>\n",
              "    <tr style=\"text-align: right;\">\n",
              "      <th></th>\n",
              "      <th>Deadly_Accident</th>\n",
              "      <th>ST_COLDESC</th>\n",
              "    </tr>\n",
              "  </thead>\n",
              "  <tbody>\n",
              "    <tr>\n",
              "      <th>0</th>\n",
              "      <td>1</td>\n",
              "      <td>Entering at angle</td>\n",
              "    </tr>\n",
              "    <tr>\n",
              "      <th>1</th>\n",
              "      <td>0</td>\n",
              "      <td>From same direction - both going straight - bo...</td>\n",
              "    </tr>\n",
              "    <tr>\n",
              "      <th>2</th>\n",
              "      <td>0</td>\n",
              "      <td>One parked--one moving</td>\n",
              "    </tr>\n",
              "    <tr>\n",
              "      <th>3</th>\n",
              "      <td>0</td>\n",
              "      <td>From same direction - all others</td>\n",
              "    </tr>\n",
              "    <tr>\n",
              "      <th>4</th>\n",
              "      <td>1</td>\n",
              "      <td>Entering at angle</td>\n",
              "    </tr>\n",
              "    <tr>\n",
              "      <th>...</th>\n",
              "      <td>...</td>\n",
              "      <td>...</td>\n",
              "    </tr>\n",
              "    <tr>\n",
              "      <th>175034</th>\n",
              "      <td>0</td>\n",
              "      <td>Strikes or Was Struck by Object from the Load ...</td>\n",
              "    </tr>\n",
              "    <tr>\n",
              "      <th>175370</th>\n",
              "      <td>0</td>\n",
              "      <td>Strikes or Was Struck by a Part of Another Veh...</td>\n",
              "    </tr>\n",
              "    <tr>\n",
              "      <th>176672</th>\n",
              "      <td>0</td>\n",
              "      <td>All Other Multi Vehicle</td>\n",
              "    </tr>\n",
              "    <tr>\n",
              "      <th>177320</th>\n",
              "      <td>0</td>\n",
              "      <td>Strikes or Was Struck by a Part of Another Veh...</td>\n",
              "    </tr>\n",
              "    <tr>\n",
              "      <th>179669</th>\n",
              "      <td>0</td>\n",
              "      <td>All Other Multi Vehicle</td>\n",
              "    </tr>\n",
              "  </tbody>\n",
              "</table>\n",
              "<p>291 rows × 2 columns</p>\n",
              "</div>"
            ],
            "text/plain": [
              "        Deadly_Accident                                         ST_COLDESC\n",
              "0                     1                                  Entering at angle\n",
              "1                     0  From same direction - both going straight - bo...\n",
              "2                     0                             One parked--one moving\n",
              "3                     0                   From same direction - all others\n",
              "4                     1                                  Entering at angle\n",
              "...                 ...                                                ...\n",
              "175034                0  Strikes or Was Struck by Object from the Load ...\n",
              "175370                0  Strikes or Was Struck by a Part of Another Veh...\n",
              "176672                0                            All Other Multi Vehicle\n",
              "177320                0  Strikes or Was Struck by a Part of Another Veh...\n",
              "179669                0                            All Other Multi Vehicle\n",
              "\n",
              "[291 rows x 2 columns]"
            ]
          },
          "metadata": {
            "tags": []
          },
          "execution_count": 34
        }
      ]
    },
    {
      "cell_type": "code",
      "metadata": {
        "id": "1dzQFTEjdB73",
        "outputId": "f4a7d074-9165-4eac-aba4-e28fa13e18dd",
        "colab": {
          "base_uri": "https://localhost:8080/",
          "height": 1000
        }
      },
      "source": [
        "col_list = grouped_test_ST_COLDESC.ST_COLDESC.unique().tolist() ## get all the unique values into list\n",
        "col_list"
      ],
      "execution_count": 35,
      "outputs": [
        {
          "output_type": "execute_result",
          "data": {
            "text/plain": [
              "['Entering at angle',\n",
              " 'From same direction - both going straight - both moving - sideswipe',\n",
              " 'One parked--one moving',\n",
              " 'From same direction - all others',\n",
              " 'Vehicle Strikes Pedalcyclist',\n",
              " 'From same direction - both going straight - one stopped - rear-end',\n",
              " 'From opposite direction - all others',\n",
              " 'From opposite direction - one left turn - one straight',\n",
              " 'Other object',\n",
              " 'From same direction - both going straight - both moving - rear-end',\n",
              " 'Fixed object',\n",
              " 'One car leaving driveway access',\n",
              " 'From same direction - both going straight - one stopped - sideswipe',\n",
              " 'Vehicle - Pedalcyclist',\n",
              " 'Vehicle going straight hits pedestrian',\n",
              " 'One car leaving parked position',\n",
              " 'One car entering driveway access',\n",
              " 'Vehicle turning right hits pedestrian',\n",
              " 'Vehicle overturned',\n",
              " 'From same direction - one right turn - one straight',\n",
              " 'From same direction - one left turn - one straight',\n",
              " 'Same direction -- both turning right -- one stopped -- rear end',\n",
              " 'Same direction -- both turning left -- both moving -- sideswipe',\n",
              " 'From opposite direction - both going straight - sideswipe',\n",
              " 'One car entering parked position',\n",
              " 'Vehicle turning left hits pedestrian',\n",
              " 'Vehicle Hits Other Road or Construction Machinery',\n",
              " 'Same direction -- both turning right -- both moving -- sideswipe',\n",
              " 'Vehicle backing hits pedestrian',\n",
              " 'From opposite direction - both moving - head-on',\n",
              " 'Railway Vehicle Strikes Vehicle',\n",
              " 'All other non-collision',\n",
              " 'Pedalcyclist Strikes Moving Vehicle',\n",
              " 'Same direction -- both turning left -- both moving -- rear end',\n",
              " 'From opposite direction - one stopped - head-on',\n",
              " 'From opposite direction - both going straight - one stopped - sideswipe',\n",
              " 'Vehicle hits Pedestrian - All Other Actions',\n",
              " 'Same direction -- both turning right -- one stopped -- sideswipe',\n",
              " 'From opposite direction - one left turn - one right turn',\n",
              " 'Breakage of any part of the vehicle resulting in injury or in further property damage',\n",
              " 'Same direction -- both turning right -- both moving -- rear end',\n",
              " 'Vehicle Strikes Railway Vehicle',\n",
              " 'Strikes or Was Struck by Object from the Load of Another Vehicle',\n",
              " 'Vehicle Struck by City Road or Construction Machinery',\n",
              " 'Same direction -- both turning left -- one stopped -- sideswipe',\n",
              " 'Vehicle Struck by Other Road or Construction Machinery',\n",
              " 'Non-domestic animal (deer, bear, elk, etc)',\n",
              " 'Same direction -- both turning left -- one stopped -- rear end',\n",
              " 'Not stated',\n",
              " 'Railway Vehicle Strikes Pedalcyclist',\n",
              " 'Railway Vehicle Strikes Pedestrian',\n",
              " 'Vehicle Hits City Road or Construction Machinery',\n",
              " 'Domestic animal other (cat, dog, etc)',\n",
              " 'Person fell, jumped or was pushed from vehicle',\n",
              " 'Fire started in vehicle',\n",
              " 'Vehicle Hits State Road or Construction Machinery',\n",
              " 'Vehicle Strikes All Other Non-Domestic Animal',\n",
              " 'Pedalcyclist Strikes Pedalcyclist or Pedestrian',\n",
              " 'Pedalcyclist All Other Involvements ONE UNIT - PEDALCYCLIST ONLY or PEDALCYCLIST STR',\n",
              " 'Vehicle Strikes Deer',\n",
              " 'All Other Multi Vehicle',\n",
              " 'Strikes or Was Struck by a Part of Another Vehicle (Not from Load)']"
            ]
          },
          "metadata": {
            "tags": []
          },
          "execution_count": 35
        }
      ]
    },
    {
      "cell_type": "markdown",
      "metadata": {
        "id": "G-8O7y5JdB75"
      },
      "source": [
        "## ANOVA methology - As F-score is larger and P-value is smaller the correlation is stronger.\n",
        "f_oneway - function that calculate the F-score and P-value"
      ]
    },
    {
      "cell_type": "code",
      "metadata": {
        "tags": [],
        "id": "40a4-UH4dB76",
        "outputId": "374188cb-17d1-40cb-b83e-abc407558040",
        "colab": {
          "base_uri": "https://localhost:8080/",
          "height": 54
        }
      },
      "source": [
        "## I wrote a script that print a long string that I will use to calculate all the ST_COLDESC values\n",
        "b = \"\"\n",
        "for i in col_list:\n",
        "    a = \"grouped_test2.get_group('\" + i + \"')['Deadly_Accident'],\"\n",
        "    b = b + a\n",
        "    \n",
        "print(b)"
      ],
      "execution_count": 36,
      "outputs": [
        {
          "output_type": "stream",
          "text": [
            "grouped_test2.get_group('Entering at angle')['Deadly_Accident'],grouped_test2.get_group('From same direction - both going straight - both moving - sideswipe')['Deadly_Accident'],grouped_test2.get_group('One parked--one moving')['Deadly_Accident'],grouped_test2.get_group('From same direction - all others')['Deadly_Accident'],grouped_test2.get_group('Vehicle Strikes Pedalcyclist')['Deadly_Accident'],grouped_test2.get_group('From same direction - both going straight - one stopped - rear-end')['Deadly_Accident'],grouped_test2.get_group('From opposite direction - all others')['Deadly_Accident'],grouped_test2.get_group('From opposite direction - one left turn - one straight')['Deadly_Accident'],grouped_test2.get_group('Other object')['Deadly_Accident'],grouped_test2.get_group('From same direction - both going straight - both moving - rear-end')['Deadly_Accident'],grouped_test2.get_group('Fixed object')['Deadly_Accident'],grouped_test2.get_group('One car leaving driveway access')['Deadly_Accident'],grouped_test2.get_group('From same direction - both going straight - one stopped - sideswipe')['Deadly_Accident'],grouped_test2.get_group('Vehicle - Pedalcyclist')['Deadly_Accident'],grouped_test2.get_group('Vehicle going straight hits pedestrian')['Deadly_Accident'],grouped_test2.get_group('One car leaving parked position')['Deadly_Accident'],grouped_test2.get_group('One car entering driveway access')['Deadly_Accident'],grouped_test2.get_group('Vehicle turning right hits pedestrian')['Deadly_Accident'],grouped_test2.get_group('Vehicle overturned')['Deadly_Accident'],grouped_test2.get_group('From same direction - one right turn - one straight')['Deadly_Accident'],grouped_test2.get_group('From same direction - one left turn - one straight')['Deadly_Accident'],grouped_test2.get_group('Same direction -- both turning right -- one stopped -- rear end')['Deadly_Accident'],grouped_test2.get_group('Same direction -- both turning left -- both moving -- sideswipe')['Deadly_Accident'],grouped_test2.get_group('From opposite direction - both going straight - sideswipe')['Deadly_Accident'],grouped_test2.get_group('One car entering parked position')['Deadly_Accident'],grouped_test2.get_group('Vehicle turning left hits pedestrian')['Deadly_Accident'],grouped_test2.get_group('Vehicle Hits Other Road or Construction Machinery')['Deadly_Accident'],grouped_test2.get_group('Same direction -- both turning right -- both moving -- sideswipe')['Deadly_Accident'],grouped_test2.get_group('Vehicle backing hits pedestrian')['Deadly_Accident'],grouped_test2.get_group('From opposite direction - both moving - head-on')['Deadly_Accident'],grouped_test2.get_group('Railway Vehicle Strikes Vehicle')['Deadly_Accident'],grouped_test2.get_group('All other non-collision')['Deadly_Accident'],grouped_test2.get_group('Pedalcyclist Strikes Moving Vehicle')['Deadly_Accident'],grouped_test2.get_group('Same direction -- both turning left -- both moving -- rear end')['Deadly_Accident'],grouped_test2.get_group('From opposite direction - one stopped - head-on')['Deadly_Accident'],grouped_test2.get_group('From opposite direction - both going straight - one stopped - sideswipe')['Deadly_Accident'],grouped_test2.get_group('Vehicle hits Pedestrian - All Other Actions')['Deadly_Accident'],grouped_test2.get_group('Same direction -- both turning right -- one stopped -- sideswipe')['Deadly_Accident'],grouped_test2.get_group('From opposite direction - one left turn - one right turn')['Deadly_Accident'],grouped_test2.get_group('Breakage of any part of the vehicle resulting in injury or in further property damage')['Deadly_Accident'],grouped_test2.get_group('Same direction -- both turning right -- both moving -- rear end')['Deadly_Accident'],grouped_test2.get_group('Vehicle Strikes Railway Vehicle')['Deadly_Accident'],grouped_test2.get_group('Strikes or Was Struck by Object from the Load of Another Vehicle')['Deadly_Accident'],grouped_test2.get_group('Vehicle Struck by City Road or Construction Machinery')['Deadly_Accident'],grouped_test2.get_group('Same direction -- both turning left -- one stopped -- sideswipe')['Deadly_Accident'],grouped_test2.get_group('Vehicle Struck by Other Road or Construction Machinery')['Deadly_Accident'],grouped_test2.get_group('Non-domestic animal (deer, bear, elk, etc)')['Deadly_Accident'],grouped_test2.get_group('Same direction -- both turning left -- one stopped -- rear end')['Deadly_Accident'],grouped_test2.get_group('Not stated')['Deadly_Accident'],grouped_test2.get_group('Railway Vehicle Strikes Pedalcyclist')['Deadly_Accident'],grouped_test2.get_group('Railway Vehicle Strikes Pedestrian')['Deadly_Accident'],grouped_test2.get_group('Vehicle Hits City Road or Construction Machinery')['Deadly_Accident'],grouped_test2.get_group('Domestic animal other (cat, dog, etc)')['Deadly_Accident'],grouped_test2.get_group('Person fell, jumped or was pushed from vehicle')['Deadly_Accident'],grouped_test2.get_group('Fire started in vehicle')['Deadly_Accident'],grouped_test2.get_group('Vehicle Hits State Road or Construction Machinery')['Deadly_Accident'],grouped_test2.get_group('Vehicle Strikes All Other Non-Domestic Animal')['Deadly_Accident'],grouped_test2.get_group('Pedalcyclist Strikes Pedalcyclist or Pedestrian')['Deadly_Accident'],grouped_test2.get_group('Pedalcyclist All Other Involvements ONE UNIT - PEDALCYCLIST ONLY or PEDALCYCLIST STR')['Deadly_Accident'],grouped_test2.get_group('Vehicle Strikes Deer')['Deadly_Accident'],grouped_test2.get_group('All Other Multi Vehicle')['Deadly_Accident'],grouped_test2.get_group('Strikes or Was Struck by a Part of Another Vehicle (Not from Load)')['Deadly_Accident'],\n"
          ],
          "name": "stdout"
        }
      ]
    },
    {
      "cell_type": "code",
      "metadata": {
        "tags": [],
        "id": "_T6W9DgRdB78",
        "outputId": "7466ff39-b96c-410a-ceb7-2fa55938ad39",
        "colab": {
          "base_uri": "https://localhost:8080/",
          "height": 34
        }
      },
      "source": [
        "f_val, p_val = stats.f_oneway(grouped_test2.get_group('Entering at angle')['Deadly_Accident'],grouped_test2.get_group('From same direction - both going straight - both moving - sideswipe')['Deadly_Accident'],grouped_test2.get_group('One parked--one moving')['Deadly_Accident'],grouped_test2.get_group('From same direction - all others')['Deadly_Accident'],grouped_test2.get_group('Vehicle Strikes Pedalcyclist')['Deadly_Accident'],grouped_test2.get_group('From same direction - both going straight - one stopped - rear-end')['Deadly_Accident'],grouped_test2.get_group('From opposite direction - all others')['Deadly_Accident'],grouped_test2.get_group('From opposite direction - one left turn - one straight')['Deadly_Accident'],grouped_test2.get_group('Other object')['Deadly_Accident'],grouped_test2.get_group('From same direction - both going straight - both moving - rear-end')['Deadly_Accident'],grouped_test2.get_group('Fixed object')['Deadly_Accident'],grouped_test2.get_group('One car leaving driveway access')['Deadly_Accident'],grouped_test2.get_group('From same direction - both going straight - one stopped - sideswipe')['Deadly_Accident'],grouped_test2.get_group('Vehicle - Pedalcyclist')['Deadly_Accident'],grouped_test2.get_group('Vehicle going straight hits pedestrian')['Deadly_Accident'],grouped_test2.get_group('One car leaving parked position')['Deadly_Accident'],grouped_test2.get_group('One car entering driveway access')['Deadly_Accident'],grouped_test2.get_group('Vehicle turning right hits pedestrian')['Deadly_Accident'],grouped_test2.get_group('Vehicle overturned')['Deadly_Accident'],grouped_test2.get_group('From same direction - one right turn - one straight')['Deadly_Accident'],grouped_test2.get_group('From same direction - one left turn - one straight')['Deadly_Accident'],grouped_test2.get_group('Same direction -- both turning right -- one stopped -- rear end')['Deadly_Accident'],grouped_test2.get_group('Same direction -- both turning left -- both moving -- sideswipe')['Deadly_Accident'],grouped_test2.get_group('From opposite direction - both going straight - sideswipe')['Deadly_Accident'],grouped_test2.get_group('One car entering parked position')['Deadly_Accident'],grouped_test2.get_group('Vehicle turning left hits pedestrian')['Deadly_Accident'],grouped_test2.get_group('Vehicle Hits Other Road or Construction Machinery')['Deadly_Accident'],grouped_test2.get_group('Same direction -- both turning right -- both moving -- sideswipe')['Deadly_Accident'],grouped_test2.get_group('Vehicle backing hits pedestrian')['Deadly_Accident'],grouped_test2.get_group('From opposite direction - both moving - head-on')['Deadly_Accident'],grouped_test2.get_group('Railway Vehicle Strikes Vehicle')['Deadly_Accident'],grouped_test2.get_group('All other non-collision')['Deadly_Accident'],grouped_test2.get_group('Pedalcyclist Strikes Moving Vehicle')['Deadly_Accident'],grouped_test2.get_group('Same direction -- both turning left -- both moving -- rear end')['Deadly_Accident'],grouped_test2.get_group('From opposite direction - one stopped - head-on')['Deadly_Accident'],grouped_test2.get_group('From opposite direction - both going straight - one stopped - sideswipe')['Deadly_Accident'],grouped_test2.get_group('Vehicle hits Pedestrian - All Other Actions')['Deadly_Accident'],grouped_test2.get_group('Same direction -- both turning right -- one stopped -- sideswipe')['Deadly_Accident'],grouped_test2.get_group('From opposite direction - one left turn - one right turn')['Deadly_Accident'],grouped_test2.get_group('Breakage of any part of the vehicle resulting in injury or in further property damage')['Deadly_Accident'],grouped_test2.get_group('Same direction -- both turning right -- both moving -- rear end')['Deadly_Accident'],grouped_test2.get_group('Vehicle Strikes Railway Vehicle')['Deadly_Accident'],grouped_test2.get_group('Strikes or Was Struck by Object from the Load of Another Vehicle')['Deadly_Accident'],grouped_test2.get_group('Vehicle Struck by City Road or Construction Machinery')['Deadly_Accident'],grouped_test2.get_group('Same direction -- both turning left -- one stopped -- sideswipe')['Deadly_Accident'],grouped_test2.get_group('Vehicle Struck by Other Road or Construction Machinery')['Deadly_Accident'],grouped_test2.get_group('Non-domestic animal (deer, bear, elk, etc)')['Deadly_Accident'],grouped_test2.get_group('Same direction -- both turning left -- one stopped -- rear end')['Deadly_Accident'],grouped_test2.get_group('Not stated')['Deadly_Accident'],grouped_test2.get_group('Railway Vehicle Strikes Pedalcyclist')['Deadly_Accident'],grouped_test2.get_group('Railway Vehicle Strikes Pedestrian')['Deadly_Accident'],grouped_test2.get_group('Vehicle Hits City Road or Construction Machinery')['Deadly_Accident'],grouped_test2.get_group('Domestic animal other (cat, dog, etc)')['Deadly_Accident'],grouped_test2.get_group('Person fell, jumped or was pushed from vehicle')['Deadly_Accident'],grouped_test2.get_group('Fire started in vehicle')['Deadly_Accident'],grouped_test2.get_group('Vehicle Hits State Road or Construction Machinery')['Deadly_Accident'],grouped_test2.get_group('Vehicle Strikes All Other Non-Domestic Animal')['Deadly_Accident'],grouped_test2.get_group('Pedalcyclist Strikes Pedalcyclist or Pedestrian')['Deadly_Accident'],grouped_test2.get_group('Pedalcyclist All Other Involvements ONE UNIT - PEDALCYCLIST ONLY or PEDALCYCLIST STR')['Deadly_Accident'],grouped_test2.get_group('Vehicle Strikes Deer')['Deadly_Accident'],grouped_test2.get_group('All Other Multi Vehicle')['Deadly_Accident'],grouped_test2.get_group('Strikes or Was Struck by a Part of Another Vehicle (Not from Load)')['Deadly_Accident'])\n",
        "\n",
        "print( \"ANOVA results: F=\", f_val, \", P =\", p_val)"
      ],
      "execution_count": 37,
      "outputs": [
        {
          "output_type": "stream",
          "text": [
            "ANOVA results: F= 896.271278026926 , P = 0.0\n"
          ],
          "name": "stdout"
        }
      ]
    },
    {
      "cell_type": "markdown",
      "metadata": {
        "id": "BUW0wmj8dB7_"
      },
      "source": [
        "F-score large P-value small means strong corr"
      ]
    },
    {
      "cell_type": "code",
      "metadata": {
        "tags": [],
        "id": "amxamNqGdB7_",
        "outputId": "009c326c-7ba8-4ccd-c7c0-8e9d6621e00d",
        "colab": {
          "base_uri": "https://localhost:8080/",
          "height": 491
        }
      },
      "source": [
        "grouped_test_Area = df_coll[['Deadly_Accident', 'Area']]\n",
        "grouped_test = grouped_test_Area[['Deadly_Accident', 'Area']].groupby(['Area'])\n",
        "grouped_test.head()"
      ],
      "execution_count": 38,
      "outputs": [
        {
          "output_type": "execute_result",
          "data": {
            "text/html": [
              "<div>\n",
              "<style scoped>\n",
              "    .dataframe tbody tr th:only-of-type {\n",
              "        vertical-align: middle;\n",
              "    }\n",
              "\n",
              "    .dataframe tbody tr th {\n",
              "        vertical-align: top;\n",
              "    }\n",
              "\n",
              "    .dataframe thead th {\n",
              "        text-align: right;\n",
              "    }\n",
              "</style>\n",
              "<table border=\"1\" class=\"dataframe\">\n",
              "  <thead>\n",
              "    <tr style=\"text-align: right;\">\n",
              "      <th></th>\n",
              "      <th>Deadly_Accident</th>\n",
              "      <th>Area</th>\n",
              "    </tr>\n",
              "  </thead>\n",
              "  <tbody>\n",
              "    <tr>\n",
              "      <th>0</th>\n",
              "      <td>1</td>\n",
              "      <td>North</td>\n",
              "    </tr>\n",
              "    <tr>\n",
              "      <th>1</th>\n",
              "      <td>0</td>\n",
              "      <td>Center</td>\n",
              "    </tr>\n",
              "    <tr>\n",
              "      <th>2</th>\n",
              "      <td>0</td>\n",
              "      <td>Center</td>\n",
              "    </tr>\n",
              "    <tr>\n",
              "      <th>3</th>\n",
              "      <td>0</td>\n",
              "      <td>Center</td>\n",
              "    </tr>\n",
              "    <tr>\n",
              "      <th>4</th>\n",
              "      <td>1</td>\n",
              "      <td>South</td>\n",
              "    </tr>\n",
              "    <tr>\n",
              "      <th>5</th>\n",
              "      <td>0</td>\n",
              "      <td>North</td>\n",
              "    </tr>\n",
              "    <tr>\n",
              "      <th>6</th>\n",
              "      <td>0</td>\n",
              "      <td>Center</td>\n",
              "    </tr>\n",
              "    <tr>\n",
              "      <th>7</th>\n",
              "      <td>1</td>\n",
              "      <td>Center</td>\n",
              "    </tr>\n",
              "    <tr>\n",
              "      <th>9</th>\n",
              "      <td>1</td>\n",
              "      <td>South</td>\n",
              "    </tr>\n",
              "    <tr>\n",
              "      <th>10</th>\n",
              "      <td>0</td>\n",
              "      <td>South</td>\n",
              "    </tr>\n",
              "    <tr>\n",
              "      <th>11</th>\n",
              "      <td>0</td>\n",
              "      <td>South</td>\n",
              "    </tr>\n",
              "    <tr>\n",
              "      <th>13</th>\n",
              "      <td>1</td>\n",
              "      <td>North</td>\n",
              "    </tr>\n",
              "    <tr>\n",
              "      <th>14</th>\n",
              "      <td>1</td>\n",
              "      <td>North</td>\n",
              "    </tr>\n",
              "    <tr>\n",
              "      <th>15</th>\n",
              "      <td>1</td>\n",
              "      <td>South</td>\n",
              "    </tr>\n",
              "    <tr>\n",
              "      <th>17</th>\n",
              "      <td>1</td>\n",
              "      <td>North</td>\n",
              "    </tr>\n",
              "  </tbody>\n",
              "</table>\n",
              "</div>"
            ],
            "text/plain": [
              "    Deadly_Accident    Area\n",
              "0                 1   North\n",
              "1                 0  Center\n",
              "2                 0  Center\n",
              "3                 0  Center\n",
              "4                 1   South\n",
              "5                 0   North\n",
              "6                 0  Center\n",
              "7                 1  Center\n",
              "9                 1   South\n",
              "10                0   South\n",
              "11                0   South\n",
              "13                1   North\n",
              "14                1   North\n",
              "15                1   South\n",
              "17                1   North"
            ]
          },
          "metadata": {
            "tags": []
          },
          "execution_count": 38
        }
      ]
    },
    {
      "cell_type": "code",
      "metadata": {
        "tags": [],
        "id": "aTPIdf3XdB8G",
        "outputId": "4c0ce607-57e3-4929-bae8-277ee1c89040",
        "colab": {
          "base_uri": "https://localhost:8080/",
          "height": 34
        }
      },
      "source": [
        "f_val, p_val = stats.f_oneway(grouped_test.get_group('North')['Deadly_Accident'], grouped_test.get_group('Center')['Deadly_Accident'], grouped_test.get_group('South')['Deadly_Accident'])\n",
        "print( \"ANOVA results: F=\", f_val, \", P =\", p_val)"
      ],
      "execution_count": 40,
      "outputs": [
        {
          "output_type": "stream",
          "text": [
            "ANOVA results: F= 99.3879789417427 , P = 7.237262154136091e-44\n"
          ],
          "name": "stdout"
        }
      ]
    },
    {
      "cell_type": "markdown",
      "metadata": {
        "id": "DBw3S_uodB8L"
      },
      "source": [
        "F-score large P-value small means strong corr"
      ]
    },
    {
      "cell_type": "code",
      "metadata": {
        "id": "S052nou_dB8M"
      },
      "source": [
        "## LIGHTCOND column correlation \n",
        "grouped_test_LIGHTCOND = df_coll[['Deadly_Accident', 'LIGHTCOND']]\n",
        "grouped_test3 = grouped_test_LIGHTCOND.groupby(['LIGHTCOND'])\n",
        "col_list_light = grouped_test_LIGHTCOND.LIGHTCOND.unique().tolist() ## get all the unique values into list"
      ],
      "execution_count": 41,
      "outputs": []
    },
    {
      "cell_type": "code",
      "metadata": {
        "tags": [],
        "id": "rczp7YpcdB8R",
        "outputId": "36a632f3-43b0-420d-f9e3-721f5573dc37",
        "colab": {
          "base_uri": "https://localhost:8080/",
          "height": 54
        }
      },
      "source": [
        "b = \"\"\n",
        "for i in col_list_light:\n",
        "    a = \"grouped_test3.get_group('\" + i + \"')['Deadly_Accident'],\"\n",
        "    b = b + a\n",
        "    \n",
        "print(b)"
      ],
      "execution_count": 42,
      "outputs": [
        {
          "output_type": "stream",
          "text": [
            "grouped_test3.get_group('Daylight')['Deadly_Accident'],grouped_test3.get_group('Dark - Street Lights On')['Deadly_Accident'],grouped_test3.get_group('Dark - No Street Lights')['Deadly_Accident'],grouped_test3.get_group('Unknown')['Deadly_Accident'],grouped_test3.get_group('Dusk')['Deadly_Accident'],grouped_test3.get_group('Dawn')['Deadly_Accident'],grouped_test3.get_group('Dark - Street Lights Off')['Deadly_Accident'],grouped_test3.get_group('Other')['Deadly_Accident'],grouped_test3.get_group('Dark - Unknown Lighting')['Deadly_Accident'],\n"
          ],
          "name": "stdout"
        }
      ]
    },
    {
      "cell_type": "code",
      "metadata": {
        "tags": [],
        "id": "1abGjXq2dB8V",
        "outputId": "fd0df7b3-f952-4f95-e072-3e8bde386102",
        "colab": {
          "base_uri": "https://localhost:8080/",
          "height": 34
        }
      },
      "source": [
        "f_val, p_val = stats.f_oneway(grouped_test3.get_group('Daylight')['Deadly_Accident'],grouped_test3.get_group('Dark - Street Lights On')['Deadly_Accident'],grouped_test3.get_group('Dark - No Street Lights')['Deadly_Accident'],grouped_test3.get_group('Unknown')['Deadly_Accident'],grouped_test3.get_group('Dusk')['Deadly_Accident'],grouped_test3.get_group('Dawn')['Deadly_Accident'],grouped_test3.get_group('Dark - Street Lights Off')['Deadly_Accident'],grouped_test3.get_group('Other')['Deadly_Accident'],grouped_test3.get_group('Dark - Unknown Lighting')['Deadly_Accident'])\n",
        "\n",
        "print( \"ANOVA results: F=\", f_val, \", P =\", p_val)"
      ],
      "execution_count": 43,
      "outputs": [
        {
          "output_type": "stream",
          "text": [
            "ANOVA results: F= 569.5701095310094 , P = 0.0\n"
          ],
          "name": "stdout"
        }
      ]
    },
    {
      "cell_type": "markdown",
      "metadata": {
        "id": "OP_WFXqydB8c"
      },
      "source": [
        "F-score large P-value small means strong corr"
      ]
    },
    {
      "cell_type": "code",
      "metadata": {
        "id": "zWAtipRYdB8c"
      },
      "source": [
        "grouped_test_ROADCOND = df_coll[['Deadly_Accident', 'ROADCOND']]\n",
        "grouped_test4 = grouped_test_ROADCOND[['Deadly_Accident', 'ROADCOND']].groupby(['ROADCOND'])\n",
        "col_list_road = grouped_test_ROADCOND.ROADCOND.unique().tolist()"
      ],
      "execution_count": 44,
      "outputs": []
    },
    {
      "cell_type": "code",
      "metadata": {
        "tags": [],
        "id": "Cf6sXxwWdB8f",
        "outputId": "fae45f06-4cc2-4478-e251-7cc4f70748c8",
        "colab": {
          "base_uri": "https://localhost:8080/",
          "height": 54
        }
      },
      "source": [
        "b = \"\"\n",
        "for i in col_list_road:\n",
        "    a = \"grouped_test4.get_group('\" + i + \"')['Deadly_Accident'],\"\n",
        "    b = b + a\n",
        "    \n",
        "print(b)"
      ],
      "execution_count": 45,
      "outputs": [
        {
          "output_type": "stream",
          "text": [
            "grouped_test4.get_group('Wet')['Deadly_Accident'],grouped_test4.get_group('Dry')['Deadly_Accident'],grouped_test4.get_group('Unknown')['Deadly_Accident'],grouped_test4.get_group('Snow/Slush')['Deadly_Accident'],grouped_test4.get_group('Ice')['Deadly_Accident'],grouped_test4.get_group('Other')['Deadly_Accident'],grouped_test4.get_group('Sand/Mud/Dirt')['Deadly_Accident'],grouped_test4.get_group('Standing Water')['Deadly_Accident'],grouped_test4.get_group('Oil')['Deadly_Accident'],\n"
          ],
          "name": "stdout"
        }
      ]
    },
    {
      "cell_type": "code",
      "metadata": {
        "tags": [],
        "id": "52OWEbCtdB8i",
        "outputId": "45c60f9f-9ca1-432f-e733-947cfe243197",
        "colab": {
          "base_uri": "https://localhost:8080/",
          "height": 34
        }
      },
      "source": [
        "f_val, p_val = stats.f_oneway(grouped_test4.get_group('Wet')['Deadly_Accident'],grouped_test4.get_group('Dry')['Deadly_Accident'],grouped_test4.get_group('Unknown')['Deadly_Accident'],grouped_test4.get_group('Snow/Slush')['Deadly_Accident'],grouped_test4.get_group('Ice')['Deadly_Accident'],grouped_test4.get_group('Other')['Deadly_Accident'],grouped_test4.get_group('Sand/Mud/Dirt')['Deadly_Accident'],grouped_test4.get_group('Standing Water')['Deadly_Accident'],grouped_test4.get_group('Oil')['Deadly_Accident'])\n",
        "\n",
        "print( \"ANOVA results: F=\", f_val, \", P =\", p_val)"
      ],
      "execution_count": 46,
      "outputs": [
        {
          "output_type": "stream",
          "text": [
            "ANOVA results: F= 602.3289481872912 , P = 0.0\n"
          ],
          "name": "stdout"
        }
      ]
    },
    {
      "cell_type": "markdown",
      "metadata": {
        "id": "mCctekhadB8k"
      },
      "source": [
        "F-score large P-value small means strong corr"
      ]
    },
    {
      "cell_type": "code",
      "metadata": {
        "id": "MsPQHv0BdB8k"
      },
      "source": [
        "grouped_test_WEATHER = df_coll[['Deadly_Accident', 'WEATHER']]\n",
        "grouped_test5 = grouped_test_WEATHER[['Deadly_Accident', 'WEATHER']].groupby(['WEATHER'])\n",
        "col_list_weth = grouped_test_WEATHER.WEATHER.unique().tolist()"
      ],
      "execution_count": 47,
      "outputs": []
    },
    {
      "cell_type": "code",
      "metadata": {
        "tags": [],
        "id": "nBNY3FbtdB8n",
        "outputId": "85dcaf25-2515-4c62-c6df-e322e5e6f783",
        "colab": {
          "base_uri": "https://localhost:8080/",
          "height": 54
        }
      },
      "source": [
        "b = \"\"\n",
        "for i in col_list_weth:\n",
        "    a = \"grouped_test5.get_group('\" + i + \"')['Deadly_Accident'],\"\n",
        "    b = b + a\n",
        "    \n",
        "print(b)"
      ],
      "execution_count": 48,
      "outputs": [
        {
          "output_type": "stream",
          "text": [
            "grouped_test5.get_group('Overcast')['Deadly_Accident'],grouped_test5.get_group('Raining')['Deadly_Accident'],grouped_test5.get_group('Clear')['Deadly_Accident'],grouped_test5.get_group('Unknown')['Deadly_Accident'],grouped_test5.get_group('Other')['Deadly_Accident'],grouped_test5.get_group('Snowing')['Deadly_Accident'],grouped_test5.get_group('Fog/Smog/Smoke')['Deadly_Accident'],grouped_test5.get_group('Sleet/Hail/Freezing Rain')['Deadly_Accident'],grouped_test5.get_group('Blowing Sand/Dirt')['Deadly_Accident'],grouped_test5.get_group('Severe Crosswind')['Deadly_Accident'],grouped_test5.get_group('Partly Cloudy')['Deadly_Accident'],\n"
          ],
          "name": "stdout"
        }
      ]
    },
    {
      "cell_type": "code",
      "metadata": {
        "tags": [],
        "id": "41JGy_HWdB8p",
        "outputId": "e7f386e4-fee0-47ee-9a23-4020d77a42b5",
        "colab": {
          "base_uri": "https://localhost:8080/",
          "height": 34
        }
      },
      "source": [
        "f_val, p_val = stats.f_oneway(grouped_test5.get_group('Overcast')['Deadly_Accident'],grouped_test5.get_group('Raining')['Deadly_Accident'],grouped_test5.get_group('Clear')['Deadly_Accident'],grouped_test5.get_group('Unknown')['Deadly_Accident'],grouped_test5.get_group('Other')['Deadly_Accident'],grouped_test5.get_group('Snowing')['Deadly_Accident'],grouped_test5.get_group('Fog/Smog/Smoke')['Deadly_Accident'],grouped_test5.get_group('Sleet/Hail/Freezing Rain')['Deadly_Accident'],grouped_test5.get_group('Blowing Sand/Dirt')['Deadly_Accident'],grouped_test5.get_group('Severe Crosswind')['Deadly_Accident'],grouped_test5.get_group('Partly Cloudy')['Deadly_Accident'])\n",
        "\n",
        "print( \"ANOVA results: F=\", f_val, \", P =\", p_val)"
      ],
      "execution_count": 49,
      "outputs": [
        {
          "output_type": "stream",
          "text": [
            "ANOVA results: F= 472.97466022858777 , P = 0.0\n"
          ],
          "name": "stdout"
        }
      ]
    },
    {
      "cell_type": "code",
      "metadata": {
        "id": "6ckx2DIldB8r"
      },
      "source": [
        "grouped_test_SDOT_COLDESC = df_coll[['Deadly_Accident', 'SDOT_COLDESC']]\n",
        "grouped_test6 = grouped_test_SDOT_COLDESC[['Deadly_Accident', 'SDOT_COLDESC']].groupby(['SDOT_COLDESC'])\n",
        "col_list_sdot = grouped_test_SDOT_COLDESC.SDOT_COLDESC.unique().tolist()"
      ],
      "execution_count": 50,
      "outputs": []
    },
    {
      "cell_type": "code",
      "metadata": {
        "tags": [],
        "id": "adTlQeD4dB8t",
        "outputId": "76c041fa-4577-4d08-ec76-4f2d3b3a06d2",
        "colab": {
          "base_uri": "https://localhost:8080/",
          "height": 54
        }
      },
      "source": [
        "b = \"\"\n",
        "for i in col_list_sdot:\n",
        "    a = \"grouped_test6.get_group('\" + i + \"')['Deadly_Accident'],\"\n",
        "    b = b + a\n",
        "    \n",
        "print(b)"
      ],
      "execution_count": 51,
      "outputs": [
        {
          "output_type": "stream",
          "text": [
            "grouped_test6.get_group('MOTOR VEHICLE STRUCK MOTOR VEHICLE, FRONT END AT ANGLE')['Deadly_Accident'],grouped_test6.get_group('MOTOR VEHICLE STRUCK MOTOR VEHICLE, LEFT SIDE SIDESWIPE')['Deadly_Accident'],grouped_test6.get_group('MOTOR VEHICLE STRUCK MOTOR VEHICLE, REAR END')['Deadly_Accident'],grouped_test6.get_group('PEDALCYCLIST STRUCK MOTOR VEHICLE FRONT END AT ANGLE')['Deadly_Accident'],grouped_test6.get_group('MOTOR VEHICLE STRUCK MOTOR VEHICLE, LEFT SIDE AT ANGLE')['Deadly_Accident'],grouped_test6.get_group('MOTOR VEHICLE RAN OFF ROAD - HIT FIXED OBJECT')['Deadly_Accident'],grouped_test6.get_group('MOTOR VEHICLE STRUCK PEDALCYCLIST, FRONT END AT ANGLE')['Deadly_Accident'],grouped_test6.get_group('DRIVERLESS VEHICLE STRUCK MOTOR VEHICLE REAR END')['Deadly_Accident'],grouped_test6.get_group('NOT ENOUGH INFORMATION / NOT APPLICABLE')['Deadly_Accident'],grouped_test6.get_group('MOTOR VEHCILE STRUCK PEDESTRIAN')['Deadly_Accident'],grouped_test6.get_group('PEDALCYCLIST OVERTURNED IN ROAD')['Deadly_Accident'],grouped_test6.get_group('MOTOR VEHICLE STRUCK OBJECT IN ROAD')['Deadly_Accident'],grouped_test6.get_group('MOTOR VEHICLE STRUCK MOTOR VEHICLE, RIGHT SIDE AT ANGLE')['Deadly_Accident'],grouped_test6.get_group('MOTOR VEHICLE STRUCK PEDALCYCLIST, REAR END')['Deadly_Accident'],grouped_test6.get_group('MOTOR VEHICLE STRUCK PEDALCYCLIST, LEFT SIDE SIDESWIPE')['Deadly_Accident'],grouped_test6.get_group('MOTOR VEHICLE OVERTURNED IN ROAD')['Deadly_Accident'],grouped_test6.get_group('DRIVERLESS VEHICLE RAN OFF ROAD - HIT FIXED OBJECT')['Deadly_Accident'],grouped_test6.get_group('MOTOR VEHICLE STRUCK MOTOR VEHICLE, RIGHT SIDE SIDESWIPE')['Deadly_Accident'],grouped_test6.get_group('PEDALCYCLIST STRUCK MOTOR VEHICLE RIGHT SIDE SIDESWIPE')['Deadly_Accident'],grouped_test6.get_group('DRIVERLESS VEHICLE STRUCK MOTOR VEHICLE LEFT SIDE AT ANGLE')['Deadly_Accident'],grouped_test6.get_group('PEDALCYCLIST STRUCK MOTOR VEHICLE LEFT SIDE SIDESWIPE')['Deadly_Accident'],grouped_test6.get_group('PEDALCYCLIST STRUCK MOTOR VEHICLE REAR END')['Deadly_Accident'],grouped_test6.get_group('DRIVERLESS VEHICLE STRUCK MOTOR VEHICLE FRONT END AT ANGLE')['Deadly_Accident'],grouped_test6.get_group('DRIVERLESS VEHICLE STRUCK PEDESTRIAN')['Deadly_Accident'],grouped_test6.get_group('DRIVERLESS VEHICLE STRUCK MOTOR VEHICLE RIGHT SIDE AT ANGLE ')['Deadly_Accident'],grouped_test6.get_group('MOTOR VEHICLE RAN OFF ROAD - NO COLLISION')['Deadly_Accident'],grouped_test6.get_group('MOTOR VEHICLE STRUCK TRAIN')['Deadly_Accident'],grouped_test6.get_group('PEDALCYCLIST STRUCK OBJECT IN ROAD')['Deadly_Accident'],grouped_test6.get_group('DRIVERLESS VEHICLE STRUCK MOTOR VEHICLE LEFT SIDE SIDESWIPE')['Deadly_Accident'],grouped_test6.get_group('PEDALCYCLIST STRUCK PEDESTRIAN')['Deadly_Accident'],grouped_test6.get_group('MOTOR VEHICLE STRUCK PEDALCYCLIST, RIGHT SIDE SIDESWIPE')['Deadly_Accident'],grouped_test6.get_group('PEDALCYCLIST STRUCK PEDALCYCLIST FRONT END AT ANGLE')['Deadly_Accident'],grouped_test6.get_group('DRIVERLESS VEHICLE RAN OFF ROAD - NO COLLISION')['Deadly_Accident'],grouped_test6.get_group('PEDALCYCLIST STRUCK PEDALCYCLIST REAR END')['Deadly_Accident'],grouped_test6.get_group('DRIVERLESS VEHICLE STRUCK MOTOR VEHICLE RIGHT SIDE SIDESWIPE')['Deadly_Accident'],grouped_test6.get_group('PEDALCYCLIST STRUCK MOTOR VEHICLE LEFT SIDE AT ANGLE')['Deadly_Accident'],grouped_test6.get_group('DRIVERLESS VEHICLE STRUCK OBJECT IN ROADWAY')['Deadly_Accident'],grouped_test6.get_group('PEDALCYCLIST RAN OFF ROAD - HIT FIXED OBJECT')['Deadly_Accident'],grouped_test6.get_group('PEDALCYCLIST STRUCK MOTOR VEHICLE RIGHT SIDE AT ANGLE')['Deadly_Accident'],\n"
          ],
          "name": "stdout"
        }
      ]
    },
    {
      "cell_type": "code",
      "metadata": {
        "tags": [],
        "id": "EcTxVswHdB8w",
        "outputId": "0c80bd56-677a-4ccb-eb58-d9694f7e83b9",
        "colab": {
          "base_uri": "https://localhost:8080/",
          "height": 34
        }
      },
      "source": [
        "f_val, p_val = stats.f_oneway(grouped_test6.get_group('MOTOR VEHICLE STRUCK MOTOR VEHICLE, FRONT END AT ANGLE')['Deadly_Accident'],grouped_test6.get_group('MOTOR VEHICLE STRUCK MOTOR VEHICLE, LEFT SIDE SIDESWIPE')['Deadly_Accident'],grouped_test6.get_group('MOTOR VEHICLE STRUCK MOTOR VEHICLE, REAR END')['Deadly_Accident'],grouped_test6.get_group('PEDALCYCLIST STRUCK MOTOR VEHICLE FRONT END AT ANGLE')['Deadly_Accident'],grouped_test6.get_group('MOTOR VEHICLE STRUCK MOTOR VEHICLE, LEFT SIDE AT ANGLE')['Deadly_Accident'],grouped_test6.get_group('MOTOR VEHICLE RAN OFF ROAD - HIT FIXED OBJECT')['Deadly_Accident'],grouped_test6.get_group('MOTOR VEHICLE STRUCK PEDALCYCLIST, FRONT END AT ANGLE')['Deadly_Accident'],grouped_test6.get_group('DRIVERLESS VEHICLE STRUCK MOTOR VEHICLE REAR END')['Deadly_Accident'],grouped_test6.get_group('NOT ENOUGH INFORMATION / NOT APPLICABLE')['Deadly_Accident'],grouped_test6.get_group('MOTOR VEHCILE STRUCK PEDESTRIAN')['Deadly_Accident'],grouped_test6.get_group('PEDALCYCLIST OVERTURNED IN ROAD')['Deadly_Accident'],grouped_test6.get_group('MOTOR VEHICLE STRUCK OBJECT IN ROAD')['Deadly_Accident'],grouped_test6.get_group('MOTOR VEHICLE STRUCK MOTOR VEHICLE, RIGHT SIDE AT ANGLE')['Deadly_Accident'],grouped_test6.get_group('MOTOR VEHICLE STRUCK PEDALCYCLIST, REAR END')['Deadly_Accident'],grouped_test6.get_group('MOTOR VEHICLE STRUCK PEDALCYCLIST, LEFT SIDE SIDESWIPE')['Deadly_Accident'],grouped_test6.get_group('MOTOR VEHICLE OVERTURNED IN ROAD')['Deadly_Accident'],grouped_test6.get_group('DRIVERLESS VEHICLE RAN OFF ROAD - HIT FIXED OBJECT')['Deadly_Accident'],grouped_test6.get_group('MOTOR VEHICLE STRUCK MOTOR VEHICLE, RIGHT SIDE SIDESWIPE')['Deadly_Accident'],grouped_test6.get_group('PEDALCYCLIST STRUCK MOTOR VEHICLE RIGHT SIDE SIDESWIPE')['Deadly_Accident'],grouped_test6.get_group('DRIVERLESS VEHICLE STRUCK MOTOR VEHICLE LEFT SIDE AT ANGLE')['Deadly_Accident'],grouped_test6.get_group('PEDALCYCLIST STRUCK MOTOR VEHICLE LEFT SIDE SIDESWIPE')['Deadly_Accident'],grouped_test6.get_group('PEDALCYCLIST STRUCK MOTOR VEHICLE REAR END')['Deadly_Accident'],grouped_test6.get_group('DRIVERLESS VEHICLE STRUCK MOTOR VEHICLE FRONT END AT ANGLE')['Deadly_Accident'],grouped_test6.get_group('DRIVERLESS VEHICLE STRUCK PEDESTRIAN')['Deadly_Accident'],grouped_test6.get_group('DRIVERLESS VEHICLE STRUCK MOTOR VEHICLE RIGHT SIDE AT ANGLE ')['Deadly_Accident'],grouped_test6.get_group('MOTOR VEHICLE RAN OFF ROAD - NO COLLISION')['Deadly_Accident'],grouped_test6.get_group('MOTOR VEHICLE STRUCK TRAIN')['Deadly_Accident'],grouped_test6.get_group('PEDALCYCLIST STRUCK OBJECT IN ROAD')['Deadly_Accident'],grouped_test6.get_group('DRIVERLESS VEHICLE STRUCK MOTOR VEHICLE LEFT SIDE SIDESWIPE')['Deadly_Accident'],grouped_test6.get_group('PEDALCYCLIST STRUCK PEDESTRIAN')['Deadly_Accident'],grouped_test6.get_group('MOTOR VEHICLE STRUCK PEDALCYCLIST, RIGHT SIDE SIDESWIPE')['Deadly_Accident'],grouped_test6.get_group('PEDALCYCLIST STRUCK PEDALCYCLIST FRONT END AT ANGLE')['Deadly_Accident'],grouped_test6.get_group('DRIVERLESS VEHICLE RAN OFF ROAD - NO COLLISION')['Deadly_Accident'],grouped_test6.get_group('PEDALCYCLIST STRUCK PEDALCYCLIST REAR END')['Deadly_Accident'],grouped_test6.get_group('DRIVERLESS VEHICLE STRUCK MOTOR VEHICLE RIGHT SIDE SIDESWIPE')['Deadly_Accident'],grouped_test6.get_group('PEDALCYCLIST STRUCK MOTOR VEHICLE LEFT SIDE AT ANGLE')['Deadly_Accident'],grouped_test6.get_group('DRIVERLESS VEHICLE STRUCK OBJECT IN ROADWAY')['Deadly_Accident'],grouped_test6.get_group('PEDALCYCLIST RAN OFF ROAD - HIT FIXED OBJECT')['Deadly_Accident'],grouped_test6.get_group('PEDALCYCLIST STRUCK MOTOR VEHICLE RIGHT SIDE AT ANGLE')['Deadly_Accident'])\n",
        "\n",
        "print( \"ANOVA results: F=\", f_val, \", P =\", p_val)"
      ],
      "execution_count": 52,
      "outputs": [
        {
          "output_type": "stream",
          "text": [
            "ANOVA results: F= 832.3252211721152 , P = 0.0\n"
          ],
          "name": "stdout"
        }
      ]
    },
    {
      "cell_type": "code",
      "metadata": {
        "id": "P3_lOOLOdB80"
      },
      "source": [
        "grouped_test_COLLISIONTYPE = df_coll[['Deadly_Accident', 'COLLISIONTYPE']]\n",
        "grouped_test7 = grouped_test_COLLISIONTYPE[['Deadly_Accident', 'COLLISIONTYPE']].groupby(['COLLISIONTYPE'])\n",
        "col_list_type = grouped_test_COLLISIONTYPE.COLLISIONTYPE.unique().tolist()"
      ],
      "execution_count": 53,
      "outputs": []
    },
    {
      "cell_type": "code",
      "metadata": {
        "tags": [],
        "id": "vLn5wYDcdB81",
        "outputId": "d675ca8e-f6fb-46d8-df47-bd054de7afbc",
        "colab": {
          "base_uri": "https://localhost:8080/",
          "height": 54
        }
      },
      "source": [
        "b = \"\"\n",
        "for i in col_list_type:\n",
        "    a = \"grouped_test7.get_group('\" + i + \"')['Deadly_Accident'],\"\n",
        "    b = b + a\n",
        "    \n",
        "print(b)"
      ],
      "execution_count": 54,
      "outputs": [
        {
          "output_type": "stream",
          "text": [
            "grouped_test7.get_group('Angles')['Deadly_Accident'],grouped_test7.get_group('Sideswipe')['Deadly_Accident'],grouped_test7.get_group('Parked Car')['Deadly_Accident'],grouped_test7.get_group('Other')['Deadly_Accident'],grouped_test7.get_group('Cycles')['Deadly_Accident'],grouped_test7.get_group('Rear Ended')['Deadly_Accident'],grouped_test7.get_group('Head On')['Deadly_Accident'],grouped_test7.get_group('Left Turn')['Deadly_Accident'],grouped_test7.get_group('Pedestrian')['Deadly_Accident'],grouped_test7.get_group('Right Turn')['Deadly_Accident'],\n"
          ],
          "name": "stdout"
        }
      ]
    },
    {
      "cell_type": "code",
      "metadata": {
        "tags": [],
        "id": "OY7twU6KdB89",
        "outputId": "6fa7603b-ba68-4570-97e4-dc78e3942033",
        "colab": {
          "base_uri": "https://localhost:8080/",
          "height": 34
        }
      },
      "source": [
        "f_val, p_val = stats.f_oneway(grouped_test7.get_group('Angles')['Deadly_Accident'],grouped_test7.get_group('Sideswipe')['Deadly_Accident'],grouped_test7.get_group('Parked Car')['Deadly_Accident'],grouped_test7.get_group('Other')['Deadly_Accident'],grouped_test7.get_group('Cycles')['Deadly_Accident'],grouped_test7.get_group('Rear Ended')['Deadly_Accident'],grouped_test7.get_group('Head On')['Deadly_Accident'],grouped_test7.get_group('Left Turn')['Deadly_Accident'],grouped_test7.get_group('Pedestrian')['Deadly_Accident'],grouped_test7.get_group('Right Turn')['Deadly_Accident'])\n",
        "\n",
        "print( \"ANOVA results: F=\", f_val, \", P =\", p_val)"
      ],
      "execution_count": 55,
      "outputs": [
        {
          "output_type": "stream",
          "text": [
            "ANOVA results: F= 5656.322956542205 , P = 0.0\n"
          ],
          "name": "stdout"
        }
      ]
    },
    {
      "cell_type": "code",
      "metadata": {
        "id": "xm3UtG-rdB9A"
      },
      "source": [
        "grouped_test_ADDRTYPE = df_coll[['Deadly_Accident', 'ADDRTYPE']]\n",
        "grouped_test8 = grouped_test_ADDRTYPE[['Deadly_Accident', 'ADDRTYPE']].groupby(['ADDRTYPE'])\n",
        "col_list_addr = grouped_test_ADDRTYPE.ADDRTYPE.unique().tolist()"
      ],
      "execution_count": 56,
      "outputs": []
    },
    {
      "cell_type": "code",
      "metadata": {
        "tags": [],
        "id": "38RqB9qDdB9C",
        "outputId": "3cf2ab58-a9a7-4e6f-b5e7-661f4edb93a0",
        "colab": {
          "base_uri": "https://localhost:8080/",
          "height": 34
        }
      },
      "source": [
        "b = \"\"\n",
        "for i in col_list_addr:\n",
        "    a = \"grouped_test8.get_group('\" + i + \"')['Deadly_Accident'],\"\n",
        "    b = b + a\n",
        "    \n",
        "print(b)"
      ],
      "execution_count": 57,
      "outputs": [
        {
          "output_type": "stream",
          "text": [
            "grouped_test8.get_group('Intersection')['Deadly_Accident'],grouped_test8.get_group('Block')['Deadly_Accident'],\n"
          ],
          "name": "stdout"
        }
      ]
    },
    {
      "cell_type": "code",
      "metadata": {
        "tags": [],
        "id": "IBl09MY2dB9F",
        "outputId": "373e5619-d064-47ba-9c08-f9f65a6e2637",
        "colab": {
          "base_uri": "https://localhost:8080/",
          "height": 34
        }
      },
      "source": [
        "f_val, p_val = stats.f_oneway(grouped_test8.get_group('Intersection')['Deadly_Accident'],grouped_test8.get_group('Block')['Deadly_Accident'])\n",
        "\n",
        "print( \"ANOVA results: F=\", f_val, \", P =\", p_val)"
      ],
      "execution_count": 58,
      "outputs": [
        {
          "output_type": "stream",
          "text": [
            "ANOVA results: F= 7739.026142578873 , P = 0.0\n"
          ],
          "name": "stdout"
        }
      ]
    },
    {
      "cell_type": "markdown",
      "metadata": {
        "id": "f1cxmAandB9J"
      },
      "source": [
        "Now I will corr function to analyze the numerical features"
      ]
    },
    {
      "cell_type": "code",
      "metadata": {
        "id": "3SDgH0TtdB9J",
        "outputId": "d646dcbb-8b43-4c30-9136-7f1031021f25",
        "colab": {
          "base_uri": "https://localhost:8080/",
          "height": 136
        }
      },
      "source": [
        "df_coll.corr()\n",
        "## PERSONCOUNT, SPEEDING"
      ],
      "execution_count": 59,
      "outputs": [
        {
          "output_type": "execute_result",
          "data": {
            "text/html": [
              "<div>\n",
              "<style scoped>\n",
              "    .dataframe tbody tr th:only-of-type {\n",
              "        vertical-align: middle;\n",
              "    }\n",
              "\n",
              "    .dataframe tbody tr th {\n",
              "        vertical-align: top;\n",
              "    }\n",
              "\n",
              "    .dataframe thead th {\n",
              "        text-align: right;\n",
              "    }\n",
              "</style>\n",
              "<table border=\"1\" class=\"dataframe\">\n",
              "  <thead>\n",
              "    <tr style=\"text-align: right;\">\n",
              "      <th></th>\n",
              "      <th>Deadly_Accident</th>\n",
              "      <th>PERSONCOUNT</th>\n",
              "      <th>SPEEDING</th>\n",
              "    </tr>\n",
              "  </thead>\n",
              "  <tbody>\n",
              "    <tr>\n",
              "      <th>Deadly_Accident</th>\n",
              "      <td>1.000000</td>\n",
              "      <td>0.127633</td>\n",
              "      <td>0.037518</td>\n",
              "    </tr>\n",
              "    <tr>\n",
              "      <th>PERSONCOUNT</th>\n",
              "      <td>0.127633</td>\n",
              "      <td>1.000000</td>\n",
              "      <td>-0.001623</td>\n",
              "    </tr>\n",
              "    <tr>\n",
              "      <th>SPEEDING</th>\n",
              "      <td>0.037518</td>\n",
              "      <td>-0.001623</td>\n",
              "      <td>1.000000</td>\n",
              "    </tr>\n",
              "  </tbody>\n",
              "</table>\n",
              "</div>"
            ],
            "text/plain": [
              "                 Deadly_Accident  PERSONCOUNT  SPEEDING\n",
              "Deadly_Accident         1.000000     0.127633  0.037518\n",
              "PERSONCOUNT             0.127633     1.000000 -0.001623\n",
              "SPEEDING                0.037518    -0.001623  1.000000"
            ]
          },
          "metadata": {
            "tags": []
          },
          "execution_count": 59
        }
      ]
    },
    {
      "cell_type": "markdown",
      "metadata": {
        "id": "1bLsDCh_dB9L"
      },
      "source": [
        "As we can there is weak corr between SPEEDING TO Deadly_Accident, I believe we can drop this column"
      ]
    },
    {
      "cell_type": "code",
      "metadata": {
        "id": "Ery2fUEIdB9L"
      },
      "source": [
        "df_coll.drop('SPEEDING' ,axis = 1, inplace = True) ## drop SPEEDING column"
      ],
      "execution_count": 60,
      "outputs": []
    },
    {
      "cell_type": "code",
      "metadata": {
        "id": "JUSTAH8odB9O",
        "outputId": "51a2855e-f568-49dc-d745-5b2f86f51234",
        "colab": {
          "base_uri": "https://localhost:8080/",
          "height": 279
        }
      },
      "source": [
        "df_coll.head()"
      ],
      "execution_count": 61,
      "outputs": [
        {
          "output_type": "execute_result",
          "data": {
            "text/html": [
              "<div>\n",
              "<style scoped>\n",
              "    .dataframe tbody tr th:only-of-type {\n",
              "        vertical-align: middle;\n",
              "    }\n",
              "\n",
              "    .dataframe tbody tr th {\n",
              "        vertical-align: top;\n",
              "    }\n",
              "\n",
              "    .dataframe thead th {\n",
              "        text-align: right;\n",
              "    }\n",
              "</style>\n",
              "<table border=\"1\" class=\"dataframe\">\n",
              "  <thead>\n",
              "    <tr style=\"text-align: right;\">\n",
              "      <th></th>\n",
              "      <th>Deadly_Accident</th>\n",
              "      <th>ADDRTYPE</th>\n",
              "      <th>COLLISIONTYPE</th>\n",
              "      <th>PERSONCOUNT</th>\n",
              "      <th>SDOT_COLDESC</th>\n",
              "      <th>WEATHER</th>\n",
              "      <th>ROADCOND</th>\n",
              "      <th>LIGHTCOND</th>\n",
              "      <th>ST_COLDESC</th>\n",
              "      <th>Area</th>\n",
              "    </tr>\n",
              "  </thead>\n",
              "  <tbody>\n",
              "    <tr>\n",
              "      <th>0</th>\n",
              "      <td>1</td>\n",
              "      <td>Intersection</td>\n",
              "      <td>Angles</td>\n",
              "      <td>0.024691</td>\n",
              "      <td>MOTOR VEHICLE STRUCK MOTOR VEHICLE, FRONT END ...</td>\n",
              "      <td>Overcast</td>\n",
              "      <td>Wet</td>\n",
              "      <td>Daylight</td>\n",
              "      <td>Entering at angle</td>\n",
              "      <td>North</td>\n",
              "    </tr>\n",
              "    <tr>\n",
              "      <th>1</th>\n",
              "      <td>0</td>\n",
              "      <td>Block</td>\n",
              "      <td>Sideswipe</td>\n",
              "      <td>0.024691</td>\n",
              "      <td>MOTOR VEHICLE STRUCK MOTOR VEHICLE, LEFT SIDE ...</td>\n",
              "      <td>Raining</td>\n",
              "      <td>Wet</td>\n",
              "      <td>Dark - Street Lights On</td>\n",
              "      <td>From same direction - both going straight - bo...</td>\n",
              "      <td>Center</td>\n",
              "    </tr>\n",
              "    <tr>\n",
              "      <th>2</th>\n",
              "      <td>0</td>\n",
              "      <td>Block</td>\n",
              "      <td>Parked Car</td>\n",
              "      <td>0.049383</td>\n",
              "      <td>MOTOR VEHICLE STRUCK MOTOR VEHICLE, REAR END</td>\n",
              "      <td>Overcast</td>\n",
              "      <td>Dry</td>\n",
              "      <td>Daylight</td>\n",
              "      <td>One parked--one moving</td>\n",
              "      <td>Center</td>\n",
              "    </tr>\n",
              "    <tr>\n",
              "      <th>3</th>\n",
              "      <td>0</td>\n",
              "      <td>Block</td>\n",
              "      <td>Other</td>\n",
              "      <td>0.037037</td>\n",
              "      <td>MOTOR VEHICLE STRUCK MOTOR VEHICLE, FRONT END ...</td>\n",
              "      <td>Clear</td>\n",
              "      <td>Dry</td>\n",
              "      <td>Daylight</td>\n",
              "      <td>From same direction - all others</td>\n",
              "      <td>Center</td>\n",
              "    </tr>\n",
              "    <tr>\n",
              "      <th>4</th>\n",
              "      <td>1</td>\n",
              "      <td>Intersection</td>\n",
              "      <td>Angles</td>\n",
              "      <td>0.024691</td>\n",
              "      <td>MOTOR VEHICLE STRUCK MOTOR VEHICLE, FRONT END ...</td>\n",
              "      <td>Raining</td>\n",
              "      <td>Wet</td>\n",
              "      <td>Daylight</td>\n",
              "      <td>Entering at angle</td>\n",
              "      <td>South</td>\n",
              "    </tr>\n",
              "  </tbody>\n",
              "</table>\n",
              "</div>"
            ],
            "text/plain": [
              "   Deadly_Accident  ...    Area\n",
              "0                1  ...   North\n",
              "1                0  ...  Center\n",
              "2                0  ...  Center\n",
              "3                0  ...  Center\n",
              "4                1  ...   South\n",
              "\n",
              "[5 rows x 10 columns]"
            ]
          },
          "metadata": {
            "tags": []
          },
          "execution_count": 61
        }
      ]
    },
    {
      "cell_type": "markdown",
      "metadata": {
        "id": "bH1B3np-dB9T"
      },
      "source": [
        "## Now we continue to the next level"
      ]
    },
    {
      "cell_type": "markdown",
      "metadata": {
        "id": "0hOP12zhdB9T"
      },
      "source": [
        "# Methodology "
      ]
    },
    {
      "cell_type": "markdown",
      "metadata": {
        "id": "s2rrK1WBdB9T"
      },
      "source": [
        "# Machine learning : Logistic Regression"
      ]
    },
    {
      "cell_type": "markdown",
      "metadata": {
        "id": "uR56Zyd6dB9U"
      },
      "source": [
        ""
      ]
    },
    {
      "cell_type": "markdown",
      "metadata": {
        "id": "LUMFMR-0dB9V"
      },
      "source": [
        "in the next section I will convert the data to numerical values"
      ]
    },
    {
      "cell_type": "code",
      "metadata": {
        "id": "U8aZWDF4dB9V"
      },
      "source": [
        "import pylab as pl\n",
        "import scipy.optimize as opt\n",
        "from sklearn import preprocessing\n",
        "%matplotlib inline \n",
        "import matplotlib.pyplot as plt"
      ],
      "execution_count": 97,
      "outputs": []
    },
    {
      "cell_type": "code",
      "metadata": {
        "id": "6itiRfBUdB9b"
      },
      "source": [
        "X = df_coll[['ADDRTYPE', 'COLLISIONTYPE', 'PERSONCOUNT',\n",
        "       'SDOT_COLDESC', 'WEATHER', 'ROADCOND', 'LIGHTCOND', 'ST_COLDESC',\n",
        "       'Area']]"
      ],
      "execution_count": 98,
      "outputs": []
    },
    {
      "cell_type": "code",
      "metadata": {
        "id": "IqZKvR6CdB9f"
      },
      "source": [
        "y = df_coll.Deadly_Accident"
      ],
      "execution_count": 99,
      "outputs": []
    },
    {
      "cell_type": "code",
      "metadata": {
        "id": "K7shDC-LdB9i",
        "outputId": "22c12f82-ae04-47ff-e693-2115ed1d7770",
        "colab": {
          "base_uri": "https://localhost:8080/",
          "height": 84
        }
      },
      "source": [
        "df_coll.columns"
      ],
      "execution_count": 100,
      "outputs": [
        {
          "output_type": "execute_result",
          "data": {
            "text/plain": [
              "Index(['Deadly_Accident', 'ADDRTYPE', 'COLLISIONTYPE', 'PERSONCOUNT',\n",
              "       'SDOT_COLDESC', 'WEATHER', 'ROADCOND', 'LIGHTCOND', 'ST_COLDESC',\n",
              "       'Area'],\n",
              "      dtype='object')"
            ]
          },
          "metadata": {
            "tags": []
          },
          "execution_count": 100
        }
      ]
    },
    {
      "cell_type": "code",
      "metadata": {
        "id": "FZBGv67BdB9l",
        "outputId": "4bfc6484-9e78-414a-e10a-82cce8f9c9b9",
        "colab": {
          "base_uri": "https://localhost:8080/",
          "height": 195
        }
      },
      "source": [
        "X.head()"
      ],
      "execution_count": 101,
      "outputs": [
        {
          "output_type": "execute_result",
          "data": {
            "text/html": [
              "<div>\n",
              "<style scoped>\n",
              "    .dataframe tbody tr th:only-of-type {\n",
              "        vertical-align: middle;\n",
              "    }\n",
              "\n",
              "    .dataframe tbody tr th {\n",
              "        vertical-align: top;\n",
              "    }\n",
              "\n",
              "    .dataframe thead th {\n",
              "        text-align: right;\n",
              "    }\n",
              "</style>\n",
              "<table border=\"1\" class=\"dataframe\">\n",
              "  <thead>\n",
              "    <tr style=\"text-align: right;\">\n",
              "      <th></th>\n",
              "      <th>ADDRTYPE</th>\n",
              "      <th>COLLISIONTYPE</th>\n",
              "      <th>PERSONCOUNT</th>\n",
              "      <th>SDOT_COLDESC</th>\n",
              "      <th>WEATHER</th>\n",
              "      <th>ROADCOND</th>\n",
              "      <th>LIGHTCOND</th>\n",
              "      <th>ST_COLDESC</th>\n",
              "      <th>Area</th>\n",
              "    </tr>\n",
              "  </thead>\n",
              "  <tbody>\n",
              "    <tr>\n",
              "      <th>0</th>\n",
              "      <td>Intersection</td>\n",
              "      <td>Angles</td>\n",
              "      <td>0.024691</td>\n",
              "      <td>MOTOR VEHICLE STRUCK MOTOR VEHICLE, FRONT END ...</td>\n",
              "      <td>Overcast</td>\n",
              "      <td>Wet</td>\n",
              "      <td>Daylight</td>\n",
              "      <td>Entering at angle</td>\n",
              "      <td>North</td>\n",
              "    </tr>\n",
              "    <tr>\n",
              "      <th>1</th>\n",
              "      <td>Block</td>\n",
              "      <td>Sideswipe</td>\n",
              "      <td>0.024691</td>\n",
              "      <td>MOTOR VEHICLE STRUCK MOTOR VEHICLE, LEFT SIDE ...</td>\n",
              "      <td>Raining</td>\n",
              "      <td>Wet</td>\n",
              "      <td>Dark - Street Lights On</td>\n",
              "      <td>From same direction - both going straight - bo...</td>\n",
              "      <td>Center</td>\n",
              "    </tr>\n",
              "    <tr>\n",
              "      <th>2</th>\n",
              "      <td>Block</td>\n",
              "      <td>Parked Car</td>\n",
              "      <td>0.049383</td>\n",
              "      <td>MOTOR VEHICLE STRUCK MOTOR VEHICLE, REAR END</td>\n",
              "      <td>Overcast</td>\n",
              "      <td>Dry</td>\n",
              "      <td>Daylight</td>\n",
              "      <td>One parked--one moving</td>\n",
              "      <td>Center</td>\n",
              "    </tr>\n",
              "    <tr>\n",
              "      <th>3</th>\n",
              "      <td>Block</td>\n",
              "      <td>Other</td>\n",
              "      <td>0.037037</td>\n",
              "      <td>MOTOR VEHICLE STRUCK MOTOR VEHICLE, FRONT END ...</td>\n",
              "      <td>Clear</td>\n",
              "      <td>Dry</td>\n",
              "      <td>Daylight</td>\n",
              "      <td>From same direction - all others</td>\n",
              "      <td>Center</td>\n",
              "    </tr>\n",
              "    <tr>\n",
              "      <th>4</th>\n",
              "      <td>Intersection</td>\n",
              "      <td>Angles</td>\n",
              "      <td>0.024691</td>\n",
              "      <td>MOTOR VEHICLE STRUCK MOTOR VEHICLE, FRONT END ...</td>\n",
              "      <td>Raining</td>\n",
              "      <td>Wet</td>\n",
              "      <td>Daylight</td>\n",
              "      <td>Entering at angle</td>\n",
              "      <td>South</td>\n",
              "    </tr>\n",
              "  </tbody>\n",
              "</table>\n",
              "</div>"
            ],
            "text/plain": [
              "       ADDRTYPE  ...    Area\n",
              "0  Intersection  ...   North\n",
              "1         Block  ...  Center\n",
              "2         Block  ...  Center\n",
              "3         Block  ...  Center\n",
              "4  Intersection  ...   South\n",
              "\n",
              "[5 rows x 9 columns]"
            ]
          },
          "metadata": {
            "tags": []
          },
          "execution_count": 101
        }
      ]
    },
    {
      "cell_type": "code",
      "metadata": {
        "id": "mut0PpxKdB9n",
        "outputId": "a88fe092-0d75-4f40-b05f-bfba331906fc",
        "colab": {
          "base_uri": "https://localhost:8080/",
          "height": 218
        }
      },
      "source": [
        "X.iloc[:, 0]"
      ],
      "execution_count": 102,
      "outputs": [
        {
          "output_type": "execute_result",
          "data": {
            "text/plain": [
              "0         Intersection\n",
              "1                Block\n",
              "2                Block\n",
              "3                Block\n",
              "4         Intersection\n",
              "              ...     \n",
              "184577           Block\n",
              "184578           Block\n",
              "184579    Intersection\n",
              "184580    Intersection\n",
              "184581           Block\n",
              "Name: ADDRTYPE, Length: 184582, dtype: object"
            ]
          },
          "metadata": {
            "tags": []
          },
          "execution_count": 102
        }
      ]
    },
    {
      "cell_type": "code",
      "metadata": {
        "id": "MEdbo-zxdB9p",
        "outputId": "6c6defe2-efbd-4719-8c7b-3344475cc055",
        "colab": {
          "base_uri": "https://localhost:8080/",
          "height": 34
        }
      },
      "source": [
        "df_coll.ADDRTYPE.unique()"
      ],
      "execution_count": 103,
      "outputs": [
        {
          "output_type": "execute_result",
          "data": {
            "text/plain": [
              "array(['Intersection', 'Block'], dtype=object)"
            ]
          },
          "metadata": {
            "tags": []
          },
          "execution_count": 103
        }
      ]
    },
    {
      "cell_type": "code",
      "metadata": {
        "tags": [],
        "id": "W-lW5KeNdB9t",
        "outputId": "325bfcd1-966d-4188-f0d4-f71859d23abd",
        "colab": {
          "base_uri": "https://localhost:8080/",
          "height": 118
        }
      },
      "source": [
        "le_ADDRTYPE = preprocessing.LabelEncoder()\n",
        "le_ADDRTYPE.fit(['Intersection', 'Block'])\n",
        "X.iloc[:, 0] = le_ADDRTYPE.transform(X.iloc[:, 0])"
      ],
      "execution_count": 104,
      "outputs": [
        {
          "output_type": "stream",
          "text": [
            "/usr/local/lib/python3.6/dist-packages/pandas/core/indexing.py:1745: SettingWithCopyWarning: \n",
            "A value is trying to be set on a copy of a slice from a DataFrame.\n",
            "Try using .loc[row_indexer,col_indexer] = value instead\n",
            "\n",
            "See the caveats in the documentation: https://pandas.pydata.org/pandas-docs/stable/user_guide/indexing.html#returning-a-view-versus-a-copy\n",
            "  isetter(ilocs[0], value)\n"
          ],
          "name": "stderr"
        }
      ]
    },
    {
      "cell_type": "code",
      "metadata": {
        "id": "CRn7Y4qWdB9w",
        "outputId": "5490e49f-8648-4a72-8821-7929c4f23236",
        "colab": {
          "base_uri": "https://localhost:8080/",
          "height": 67
        }
      },
      "source": [
        "df_coll.COLLISIONTYPE.unique()"
      ],
      "execution_count": 105,
      "outputs": [
        {
          "output_type": "execute_result",
          "data": {
            "text/plain": [
              "array(['Angles', 'Sideswipe', 'Parked Car', 'Other', 'Cycles',\n",
              "       'Rear Ended', 'Head On', 'Left Turn', 'Pedestrian', 'Right Turn'],\n",
              "      dtype=object)"
            ]
          },
          "metadata": {
            "tags": []
          },
          "execution_count": 105
        }
      ]
    },
    {
      "cell_type": "code",
      "metadata": {
        "id": "kehz7l_OdB90",
        "outputId": "caee8a7a-c137-4036-e90d-12ad8f294db2",
        "colab": {
          "base_uri": "https://localhost:8080/",
          "height": 118
        }
      },
      "source": [
        "le_COLLISIONTYPE = preprocessing.LabelEncoder()\n",
        "le_COLLISIONTYPE.fit(['Angles', 'Sideswipe', 'Parked Car', 'Other', 'Cycles',\n",
        "       'Rear Ended', 'Head On', 'Left Turn', 'Pedestrian', 'Right Turn'])\n",
        "X.iloc[:, 1] = le_COLLISIONTYPE.transform(X.iloc[:, 1])"
      ],
      "execution_count": 106,
      "outputs": [
        {
          "output_type": "stream",
          "text": [
            "/usr/local/lib/python3.6/dist-packages/pandas/core/indexing.py:1745: SettingWithCopyWarning: \n",
            "A value is trying to be set on a copy of a slice from a DataFrame.\n",
            "Try using .loc[row_indexer,col_indexer] = value instead\n",
            "\n",
            "See the caveats in the documentation: https://pandas.pydata.org/pandas-docs/stable/user_guide/indexing.html#returning-a-view-versus-a-copy\n",
            "  isetter(ilocs[0], value)\n"
          ],
          "name": "stderr"
        }
      ]
    },
    {
      "cell_type": "code",
      "metadata": {
        "id": "Yh9E3wJrdB92",
        "outputId": "51de4ff3-4557-4a1f-cd80-3cf4c1f81f82",
        "colab": {
          "base_uri": "https://localhost:8080/",
          "height": 672
        }
      },
      "source": [
        "df_coll.SDOT_COLDESC.unique().tolist()"
      ],
      "execution_count": 107,
      "outputs": [
        {
          "output_type": "execute_result",
          "data": {
            "text/plain": [
              "['MOTOR VEHICLE STRUCK MOTOR VEHICLE, FRONT END AT ANGLE',\n",
              " 'MOTOR VEHICLE STRUCK MOTOR VEHICLE, LEFT SIDE SIDESWIPE',\n",
              " 'MOTOR VEHICLE STRUCK MOTOR VEHICLE, REAR END',\n",
              " 'PEDALCYCLIST STRUCK MOTOR VEHICLE FRONT END AT ANGLE',\n",
              " 'MOTOR VEHICLE STRUCK MOTOR VEHICLE, LEFT SIDE AT ANGLE',\n",
              " 'MOTOR VEHICLE RAN OFF ROAD - HIT FIXED OBJECT',\n",
              " 'MOTOR VEHICLE STRUCK PEDALCYCLIST, FRONT END AT ANGLE',\n",
              " 'DRIVERLESS VEHICLE STRUCK MOTOR VEHICLE REAR END',\n",
              " 'NOT ENOUGH INFORMATION / NOT APPLICABLE',\n",
              " 'MOTOR VEHCILE STRUCK PEDESTRIAN',\n",
              " 'PEDALCYCLIST OVERTURNED IN ROAD',\n",
              " 'MOTOR VEHICLE STRUCK OBJECT IN ROAD',\n",
              " 'MOTOR VEHICLE STRUCK MOTOR VEHICLE, RIGHT SIDE AT ANGLE',\n",
              " 'MOTOR VEHICLE STRUCK PEDALCYCLIST, REAR END',\n",
              " 'MOTOR VEHICLE STRUCK PEDALCYCLIST, LEFT SIDE SIDESWIPE',\n",
              " 'MOTOR VEHICLE OVERTURNED IN ROAD',\n",
              " 'DRIVERLESS VEHICLE RAN OFF ROAD - HIT FIXED OBJECT',\n",
              " 'MOTOR VEHICLE STRUCK MOTOR VEHICLE, RIGHT SIDE SIDESWIPE',\n",
              " 'PEDALCYCLIST STRUCK MOTOR VEHICLE RIGHT SIDE SIDESWIPE',\n",
              " 'DRIVERLESS VEHICLE STRUCK MOTOR VEHICLE LEFT SIDE AT ANGLE',\n",
              " 'PEDALCYCLIST STRUCK MOTOR VEHICLE LEFT SIDE SIDESWIPE',\n",
              " 'PEDALCYCLIST STRUCK MOTOR VEHICLE REAR END',\n",
              " 'DRIVERLESS VEHICLE STRUCK MOTOR VEHICLE FRONT END AT ANGLE',\n",
              " 'DRIVERLESS VEHICLE STRUCK PEDESTRIAN',\n",
              " 'DRIVERLESS VEHICLE STRUCK MOTOR VEHICLE RIGHT SIDE AT ANGLE ',\n",
              " 'MOTOR VEHICLE RAN OFF ROAD - NO COLLISION',\n",
              " 'MOTOR VEHICLE STRUCK TRAIN',\n",
              " 'PEDALCYCLIST STRUCK OBJECT IN ROAD',\n",
              " 'DRIVERLESS VEHICLE STRUCK MOTOR VEHICLE LEFT SIDE SIDESWIPE',\n",
              " 'PEDALCYCLIST STRUCK PEDESTRIAN',\n",
              " 'MOTOR VEHICLE STRUCK PEDALCYCLIST, RIGHT SIDE SIDESWIPE',\n",
              " 'PEDALCYCLIST STRUCK PEDALCYCLIST FRONT END AT ANGLE',\n",
              " 'DRIVERLESS VEHICLE RAN OFF ROAD - NO COLLISION',\n",
              " 'PEDALCYCLIST STRUCK PEDALCYCLIST REAR END',\n",
              " 'DRIVERLESS VEHICLE STRUCK MOTOR VEHICLE RIGHT SIDE SIDESWIPE',\n",
              " 'PEDALCYCLIST STRUCK MOTOR VEHICLE LEFT SIDE AT ANGLE',\n",
              " 'DRIVERLESS VEHICLE STRUCK OBJECT IN ROADWAY',\n",
              " 'PEDALCYCLIST RAN OFF ROAD - HIT FIXED OBJECT',\n",
              " 'PEDALCYCLIST STRUCK MOTOR VEHICLE RIGHT SIDE AT ANGLE']"
            ]
          },
          "metadata": {
            "tags": []
          },
          "execution_count": 107
        }
      ]
    },
    {
      "cell_type": "code",
      "metadata": {
        "id": "Roei0KyGdB96",
        "outputId": "25588b76-deb7-4799-896a-fd666831e914",
        "colab": {
          "base_uri": "https://localhost:8080/",
          "height": 118
        }
      },
      "source": [
        "le_SDOT_COLDESC = preprocessing.LabelEncoder()\n",
        "le_SDOT_COLDESC.fit(['MOTOR VEHICLE STRUCK MOTOR VEHICLE, FRONT END AT ANGLE',\n",
        " 'MOTOR VEHICLE STRUCK MOTOR VEHICLE, LEFT SIDE SIDESWIPE',\n",
        " 'MOTOR VEHICLE STRUCK MOTOR VEHICLE, REAR END',\n",
        " 'PEDALCYCLIST STRUCK MOTOR VEHICLE FRONT END AT ANGLE',\n",
        " 'MOTOR VEHICLE STRUCK MOTOR VEHICLE, LEFT SIDE AT ANGLE',\n",
        " 'MOTOR VEHICLE RAN OFF ROAD - HIT FIXED OBJECT',\n",
        " 'MOTOR VEHICLE STRUCK PEDALCYCLIST, FRONT END AT ANGLE',\n",
        " 'DRIVERLESS VEHICLE STRUCK MOTOR VEHICLE REAR END',\n",
        " 'NOT ENOUGH INFORMATION / NOT APPLICABLE',\n",
        " 'MOTOR VEHCILE STRUCK PEDESTRIAN',\n",
        " 'PEDALCYCLIST OVERTURNED IN ROAD',\n",
        " 'MOTOR VEHICLE STRUCK OBJECT IN ROAD',\n",
        " 'MOTOR VEHICLE STRUCK MOTOR VEHICLE, RIGHT SIDE AT ANGLE',\n",
        " 'MOTOR VEHICLE STRUCK PEDALCYCLIST, REAR END',\n",
        " 'MOTOR VEHICLE STRUCK PEDALCYCLIST, LEFT SIDE SIDESWIPE',\n",
        " 'MOTOR VEHICLE OVERTURNED IN ROAD',\n",
        " 'DRIVERLESS VEHICLE RAN OFF ROAD - HIT FIXED OBJECT',\n",
        " 'MOTOR VEHICLE STRUCK MOTOR VEHICLE, RIGHT SIDE SIDESWIPE',\n",
        " 'PEDALCYCLIST STRUCK MOTOR VEHICLE RIGHT SIDE SIDESWIPE',\n",
        " 'DRIVERLESS VEHICLE STRUCK MOTOR VEHICLE LEFT SIDE AT ANGLE',\n",
        " 'PEDALCYCLIST STRUCK MOTOR VEHICLE LEFT SIDE SIDESWIPE',\n",
        " 'PEDALCYCLIST STRUCK MOTOR VEHICLE REAR END',\n",
        " 'DRIVERLESS VEHICLE STRUCK MOTOR VEHICLE FRONT END AT ANGLE',\n",
        " 'DRIVERLESS VEHICLE STRUCK PEDESTRIAN',\n",
        " 'DRIVERLESS VEHICLE STRUCK MOTOR VEHICLE RIGHT SIDE AT ANGLE ',\n",
        " 'MOTOR VEHICLE RAN OFF ROAD - NO COLLISION',\n",
        " 'MOTOR VEHICLE STRUCK TRAIN',\n",
        " 'PEDALCYCLIST STRUCK OBJECT IN ROAD',\n",
        " 'DRIVERLESS VEHICLE STRUCK MOTOR VEHICLE LEFT SIDE SIDESWIPE',\n",
        " 'PEDALCYCLIST STRUCK PEDESTRIAN',\n",
        " 'MOTOR VEHICLE STRUCK PEDALCYCLIST, RIGHT SIDE SIDESWIPE',\n",
        " 'PEDALCYCLIST STRUCK PEDALCYCLIST FRONT END AT ANGLE',\n",
        " 'DRIVERLESS VEHICLE RAN OFF ROAD - NO COLLISION',\n",
        " 'PEDALCYCLIST STRUCK PEDALCYCLIST REAR END',\n",
        " 'DRIVERLESS VEHICLE STRUCK MOTOR VEHICLE RIGHT SIDE SIDESWIPE',\n",
        " 'PEDALCYCLIST STRUCK MOTOR VEHICLE LEFT SIDE AT ANGLE',\n",
        " 'DRIVERLESS VEHICLE STRUCK OBJECT IN ROADWAY',\n",
        " 'PEDALCYCLIST RAN OFF ROAD - HIT FIXED OBJECT',\n",
        " 'PEDALCYCLIST STRUCK MOTOR VEHICLE RIGHT SIDE AT ANGLE'])\n",
        "X.iloc[:, 3] = le_SDOT_COLDESC.transform(X.iloc[:, 3])"
      ],
      "execution_count": 108,
      "outputs": [
        {
          "output_type": "stream",
          "text": [
            "/usr/local/lib/python3.6/dist-packages/pandas/core/indexing.py:1745: SettingWithCopyWarning: \n",
            "A value is trying to be set on a copy of a slice from a DataFrame.\n",
            "Try using .loc[row_indexer,col_indexer] = value instead\n",
            "\n",
            "See the caveats in the documentation: https://pandas.pydata.org/pandas-docs/stable/user_guide/indexing.html#returning-a-view-versus-a-copy\n",
            "  isetter(ilocs[0], value)\n"
          ],
          "name": "stderr"
        }
      ]
    },
    {
      "cell_type": "code",
      "metadata": {
        "id": "weGdql4VdB99",
        "outputId": "b2ab78b2-7053-455e-df7f-dcf5d35e5d6f",
        "colab": {
          "base_uri": "https://localhost:8080/",
          "height": 67
        }
      },
      "source": [
        "df_coll.WEATHER.unique()"
      ],
      "execution_count": 109,
      "outputs": [
        {
          "output_type": "execute_result",
          "data": {
            "text/plain": [
              "array(['Overcast', 'Raining', 'Clear', 'Unknown', 'Other', 'Snowing',\n",
              "       'Fog/Smog/Smoke', 'Sleet/Hail/Freezing Rain', 'Blowing Sand/Dirt',\n",
              "       'Severe Crosswind', 'Partly Cloudy'], dtype=object)"
            ]
          },
          "metadata": {
            "tags": []
          },
          "execution_count": 109
        }
      ]
    },
    {
      "cell_type": "code",
      "metadata": {
        "id": "mV7YaiL8dB-A",
        "outputId": "83bcc136-7003-4abc-f694-7a4a1881ebd8",
        "colab": {
          "base_uri": "https://localhost:8080/",
          "height": 118
        }
      },
      "source": [
        "le_WEATHER = preprocessing.LabelEncoder()\n",
        "le_WEATHER.fit(['Overcast', 'Raining', 'Clear', 'Unknown', 'Other', 'Snowing',\n",
        "       'Fog/Smog/Smoke', 'Sleet/Hail/Freezing Rain', 'Blowing Sand/Dirt',\n",
        "       'Severe Crosswind', 'Partly Cloudy'])\n",
        "X.iloc[:, 4] = le_WEATHER.transform(X.iloc[:, 4])"
      ],
      "execution_count": 110,
      "outputs": [
        {
          "output_type": "stream",
          "text": [
            "/usr/local/lib/python3.6/dist-packages/pandas/core/indexing.py:1745: SettingWithCopyWarning: \n",
            "A value is trying to be set on a copy of a slice from a DataFrame.\n",
            "Try using .loc[row_indexer,col_indexer] = value instead\n",
            "\n",
            "See the caveats in the documentation: https://pandas.pydata.org/pandas-docs/stable/user_guide/indexing.html#returning-a-view-versus-a-copy\n",
            "  isetter(ilocs[0], value)\n"
          ],
          "name": "stderr"
        }
      ]
    },
    {
      "cell_type": "code",
      "metadata": {
        "id": "UqkSIz4qdB-E",
        "outputId": "af5a0988-6b38-449c-b97b-247df26600de",
        "colab": {
          "base_uri": "https://localhost:8080/",
          "height": 50
        }
      },
      "source": [
        "df_coll.ROADCOND.unique()"
      ],
      "execution_count": 111,
      "outputs": [
        {
          "output_type": "execute_result",
          "data": {
            "text/plain": [
              "array(['Wet', 'Dry', 'Unknown', 'Snow/Slush', 'Ice', 'Other',\n",
              "       'Sand/Mud/Dirt', 'Standing Water', 'Oil'], dtype=object)"
            ]
          },
          "metadata": {
            "tags": []
          },
          "execution_count": 111
        }
      ]
    },
    {
      "cell_type": "code",
      "metadata": {
        "id": "i97h6HxRdB-H",
        "outputId": "f0c9019f-53fc-4feb-e092-cd6a37f78e35",
        "colab": {
          "base_uri": "https://localhost:8080/",
          "height": 118
        }
      },
      "source": [
        "le_ROADCOND = preprocessing.LabelEncoder()\n",
        "le_ROADCOND.fit(['Wet', 'Dry', 'Unknown', 'Snow/Slush', 'Ice', 'Other',\n",
        "       'Sand/Mud/Dirt', 'Standing Water', 'Oil'])\n",
        "X.iloc[:, 5] = le_ROADCOND.transform(X.iloc[:, 5])"
      ],
      "execution_count": 112,
      "outputs": [
        {
          "output_type": "stream",
          "text": [
            "/usr/local/lib/python3.6/dist-packages/pandas/core/indexing.py:1745: SettingWithCopyWarning: \n",
            "A value is trying to be set on a copy of a slice from a DataFrame.\n",
            "Try using .loc[row_indexer,col_indexer] = value instead\n",
            "\n",
            "See the caveats in the documentation: https://pandas.pydata.org/pandas-docs/stable/user_guide/indexing.html#returning-a-view-versus-a-copy\n",
            "  isetter(ilocs[0], value)\n"
          ],
          "name": "stderr"
        }
      ]
    },
    {
      "cell_type": "code",
      "metadata": {
        "id": "Zw_6xr92dB-M",
        "outputId": "499ff03e-77f3-49ff-87a9-242c76f642bb",
        "colab": {
          "base_uri": "https://localhost:8080/",
          "height": 67
        }
      },
      "source": [
        "df_coll.LIGHTCOND.unique()"
      ],
      "execution_count": 113,
      "outputs": [
        {
          "output_type": "execute_result",
          "data": {
            "text/plain": [
              "array(['Daylight', 'Dark - Street Lights On', 'Dark - No Street Lights',\n",
              "       'Unknown', 'Dusk', 'Dawn', 'Dark - Street Lights Off', 'Other',\n",
              "       'Dark - Unknown Lighting'], dtype=object)"
            ]
          },
          "metadata": {
            "tags": []
          },
          "execution_count": 113
        }
      ]
    },
    {
      "cell_type": "code",
      "metadata": {
        "id": "tjVCUhCAdB-P",
        "outputId": "10e631d7-7942-4573-98db-ebac88df2218",
        "colab": {
          "base_uri": "https://localhost:8080/",
          "height": 118
        }
      },
      "source": [
        "le_LIGHTCOND = preprocessing.LabelEncoder()\n",
        "le_LIGHTCOND.fit(['Daylight', 'Dark - Street Lights On', 'Dark - No Street Lights',\n",
        "       'Unknown', 'Dusk', 'Dawn', 'Dark - Street Lights Off', 'Other',\n",
        "       'Dark - Unknown Lighting'])\n",
        "X.iloc[:, 6] = le_LIGHTCOND.transform(X.iloc[:, 6])"
      ],
      "execution_count": 114,
      "outputs": [
        {
          "output_type": "stream",
          "text": [
            "/usr/local/lib/python3.6/dist-packages/pandas/core/indexing.py:1745: SettingWithCopyWarning: \n",
            "A value is trying to be set on a copy of a slice from a DataFrame.\n",
            "Try using .loc[row_indexer,col_indexer] = value instead\n",
            "\n",
            "See the caveats in the documentation: https://pandas.pydata.org/pandas-docs/stable/user_guide/indexing.html#returning-a-view-versus-a-copy\n",
            "  isetter(ilocs[0], value)\n"
          ],
          "name": "stderr"
        }
      ]
    },
    {
      "cell_type": "code",
      "metadata": {
        "id": "VG21GVbSdB-S",
        "outputId": "07f18347-3bdc-4e41-cf9d-5ce35fa85ed4",
        "colab": {
          "base_uri": "https://localhost:8080/",
          "height": 1000
        }
      },
      "source": [
        "df_coll.ST_COLDESC.unique().tolist()"
      ],
      "execution_count": 115,
      "outputs": [
        {
          "output_type": "execute_result",
          "data": {
            "text/plain": [
              "['Entering at angle',\n",
              " 'From same direction - both going straight - both moving - sideswipe',\n",
              " 'One parked--one moving',\n",
              " 'From same direction - all others',\n",
              " 'Vehicle Strikes Pedalcyclist',\n",
              " 'From same direction - both going straight - one stopped - rear-end',\n",
              " 'From opposite direction - all others',\n",
              " 'From opposite direction - one left turn - one straight',\n",
              " 'Other object',\n",
              " 'From same direction - both going straight - both moving - rear-end',\n",
              " 'Fixed object',\n",
              " 'One car leaving driveway access',\n",
              " 'From same direction - both going straight - one stopped - sideswipe',\n",
              " 'Vehicle - Pedalcyclist',\n",
              " 'Vehicle going straight hits pedestrian',\n",
              " 'One car leaving parked position',\n",
              " 'One car entering driveway access',\n",
              " 'Vehicle turning right hits pedestrian',\n",
              " 'Vehicle overturned',\n",
              " 'From same direction - one right turn - one straight',\n",
              " 'From same direction - one left turn - one straight',\n",
              " 'Same direction -- both turning right -- one stopped -- rear end',\n",
              " 'Same direction -- both turning left -- both moving -- sideswipe',\n",
              " 'From opposite direction - both going straight - sideswipe',\n",
              " 'One car entering parked position',\n",
              " 'Vehicle turning left hits pedestrian',\n",
              " 'Vehicle Hits Other Road or Construction Machinery',\n",
              " 'Same direction -- both turning right -- both moving -- sideswipe',\n",
              " 'Vehicle backing hits pedestrian',\n",
              " 'From opposite direction - both moving - head-on',\n",
              " 'Railway Vehicle Strikes Vehicle',\n",
              " 'All other non-collision',\n",
              " 'Pedalcyclist Strikes Moving Vehicle',\n",
              " 'Same direction -- both turning left -- both moving -- rear end',\n",
              " 'From opposite direction - one stopped - head-on',\n",
              " 'From opposite direction - both going straight - one stopped - sideswipe',\n",
              " 'Vehicle hits Pedestrian - All Other Actions',\n",
              " 'Same direction -- both turning right -- one stopped -- sideswipe',\n",
              " 'From opposite direction - one left turn - one right turn',\n",
              " 'Breakage of any part of the vehicle resulting in injury or in further property damage',\n",
              " 'Same direction -- both turning right -- both moving -- rear end',\n",
              " 'Vehicle Strikes Railway Vehicle',\n",
              " 'Strikes or Was Struck by Object from the Load of Another Vehicle',\n",
              " 'Vehicle Struck by City Road or Construction Machinery',\n",
              " 'Same direction -- both turning left -- one stopped -- sideswipe',\n",
              " 'Vehicle Struck by Other Road or Construction Machinery',\n",
              " 'Non-domestic animal (deer, bear, elk, etc)',\n",
              " 'Same direction -- both turning left -- one stopped -- rear end',\n",
              " 'Not stated',\n",
              " 'Railway Vehicle Strikes Pedalcyclist',\n",
              " 'Railway Vehicle Strikes Pedestrian',\n",
              " 'Vehicle Hits City Road or Construction Machinery',\n",
              " 'Domestic animal other (cat, dog, etc)',\n",
              " 'Person fell, jumped or was pushed from vehicle',\n",
              " 'Fire started in vehicle',\n",
              " 'Vehicle Hits State Road or Construction Machinery',\n",
              " 'Vehicle Strikes All Other Non-Domestic Animal',\n",
              " 'Pedalcyclist Strikes Pedalcyclist or Pedestrian',\n",
              " 'Pedalcyclist All Other Involvements ONE UNIT - PEDALCYCLIST ONLY or PEDALCYCLIST STR',\n",
              " 'Vehicle Strikes Deer',\n",
              " 'All Other Multi Vehicle',\n",
              " 'Strikes or Was Struck by a Part of Another Vehicle (Not from Load)']"
            ]
          },
          "metadata": {
            "tags": []
          },
          "execution_count": 115
        }
      ]
    },
    {
      "cell_type": "code",
      "metadata": {
        "id": "RjcEYSODdB-V",
        "outputId": "2323fa34-e570-4ea8-9ada-ef2b8c907d09",
        "colab": {
          "base_uri": "https://localhost:8080/",
          "height": 118
        }
      },
      "source": [
        "le_ST_COLDESC = preprocessing.LabelEncoder()\n",
        "le_ST_COLDESC.fit(['Entering at angle',\n",
        " 'From same direction - both going straight - both moving - sideswipe',\n",
        " 'One parked--one moving',\n",
        " 'From same direction - all others',\n",
        " 'Vehicle Strikes Pedalcyclist',\n",
        " 'From same direction - both going straight - one stopped - rear-end',\n",
        " 'From opposite direction - all others',\n",
        " 'From opposite direction - one left turn - one straight',\n",
        " 'Other object',\n",
        " 'From same direction - both going straight - both moving - rear-end',\n",
        " 'Fixed object',\n",
        " 'One car leaving driveway access',\n",
        " 'From same direction - both going straight - one stopped - sideswipe',\n",
        " 'Vehicle - Pedalcyclist',\n",
        " 'Vehicle going straight hits pedestrian',\n",
        " 'One car leaving parked position',\n",
        " 'One car entering driveway access',\n",
        " 'Vehicle turning right hits pedestrian',\n",
        " 'Vehicle overturned',\n",
        " 'From same direction - one right turn - one straight',\n",
        " 'From same direction - one left turn - one straight',\n",
        " 'Same direction -- both turning right -- one stopped -- rear end',\n",
        " 'Same direction -- both turning left -- both moving -- sideswipe',\n",
        " 'From opposite direction - both going straight - sideswipe',\n",
        " 'One car entering parked position',\n",
        " 'Vehicle turning left hits pedestrian',\n",
        " 'Vehicle Hits Other Road or Construction Machinery',\n",
        " 'Same direction -- both turning right -- both moving -- sideswipe',\n",
        " 'Vehicle backing hits pedestrian',\n",
        " 'From opposite direction - both moving - head-on',\n",
        " 'Railway Vehicle Strikes Vehicle',\n",
        " 'All other non-collision',\n",
        " 'Pedalcyclist Strikes Moving Vehicle',\n",
        " 'Same direction -- both turning left -- both moving -- rear end',\n",
        " 'From opposite direction - one stopped - head-on',\n",
        " 'From opposite direction - both going straight - one stopped - sideswipe',\n",
        " 'Vehicle hits Pedestrian - All Other Actions',\n",
        " 'Same direction -- both turning right -- one stopped -- sideswipe',\n",
        " 'From opposite direction - one left turn - one right turn',\n",
        " 'Breakage of any part of the vehicle resulting in injury or in further property damage',\n",
        " 'Same direction -- both turning right -- both moving -- rear end',\n",
        " 'Vehicle Strikes Railway Vehicle',\n",
        " 'Strikes or Was Struck by Object from the Load of Another Vehicle',\n",
        " 'Vehicle Struck by City Road or Construction Machinery',\n",
        " 'Same direction -- both turning left -- one stopped -- sideswipe',\n",
        " 'Vehicle Struck by Other Road or Construction Machinery',\n",
        " 'Non-domestic animal (deer, bear, elk, etc)',\n",
        " 'Same direction -- both turning left -- one stopped -- rear end',\n",
        " 'Not stated',\n",
        " 'Railway Vehicle Strikes Pedalcyclist',\n",
        " 'Railway Vehicle Strikes Pedestrian',\n",
        " 'Vehicle Hits City Road or Construction Machinery',\n",
        " 'Domestic animal other (cat, dog, etc)',\n",
        " 'Person fell, jumped or was pushed from vehicle',\n",
        " 'Fire started in vehicle',\n",
        " 'Vehicle Hits State Road or Construction Machinery',\n",
        " 'Vehicle Strikes All Other Non-Domestic Animal',\n",
        " 'Pedalcyclist Strikes Pedalcyclist or Pedestrian',\n",
        " 'Pedalcyclist All Other Involvements ONE UNIT - PEDALCYCLIST ONLY or PEDALCYCLIST STR',\n",
        " 'Vehicle Strikes Deer',\n",
        " 'All Other Multi Vehicle',\n",
        " 'Strikes or Was Struck by a Part of Another Vehicle (Not from Load)'])\n",
        "X.iloc[:, 7] = le_ST_COLDESC.transform(X.iloc[:, 7])"
      ],
      "execution_count": 116,
      "outputs": [
        {
          "output_type": "stream",
          "text": [
            "/usr/local/lib/python3.6/dist-packages/pandas/core/indexing.py:1745: SettingWithCopyWarning: \n",
            "A value is trying to be set on a copy of a slice from a DataFrame.\n",
            "Try using .loc[row_indexer,col_indexer] = value instead\n",
            "\n",
            "See the caveats in the documentation: https://pandas.pydata.org/pandas-docs/stable/user_guide/indexing.html#returning-a-view-versus-a-copy\n",
            "  isetter(ilocs[0], value)\n"
          ],
          "name": "stderr"
        }
      ]
    },
    {
      "cell_type": "code",
      "metadata": {
        "id": "knApUUBpdB-X",
        "outputId": "ef10f793-81a7-4a90-94b7-03f985e310e6",
        "colab": {
          "base_uri": "https://localhost:8080/",
          "height": 50
        }
      },
      "source": [
        "df_coll.Area.unique()"
      ],
      "execution_count": 117,
      "outputs": [
        {
          "output_type": "execute_result",
          "data": {
            "text/plain": [
              "['North', 'Center', 'South']\n",
              "Categories (3, object): ['South' < 'Center' < 'North']"
            ]
          },
          "metadata": {
            "tags": []
          },
          "execution_count": 117
        }
      ]
    },
    {
      "cell_type": "code",
      "metadata": {
        "id": "8QPYEFnXdB-c",
        "outputId": "39117299-e2e5-4e15-cc31-1863402565fc",
        "colab": {
          "base_uri": "https://localhost:8080/",
          "height": 118
        }
      },
      "source": [
        "le_Area = preprocessing.LabelEncoder()\n",
        "le_Area.fit(['North', 'Center', 'South'])\n",
        "X.iloc[:, 8] = le_Area.transform(X.iloc[:, 8])"
      ],
      "execution_count": 118,
      "outputs": [
        {
          "output_type": "stream",
          "text": [
            "/usr/local/lib/python3.6/dist-packages/pandas/core/indexing.py:1745: SettingWithCopyWarning: \n",
            "A value is trying to be set on a copy of a slice from a DataFrame.\n",
            "Try using .loc[row_indexer,col_indexer] = value instead\n",
            "\n",
            "See the caveats in the documentation: https://pandas.pydata.org/pandas-docs/stable/user_guide/indexing.html#returning-a-view-versus-a-copy\n",
            "  isetter(ilocs[0], value)\n"
          ],
          "name": "stderr"
        }
      ]
    },
    {
      "cell_type": "code",
      "metadata": {
        "id": "JD7eu_icdB-e",
        "outputId": "a2e388e8-a1c3-472c-ad37-bc1905c27f53",
        "colab": {
          "base_uri": "https://localhost:8080/",
          "height": 195
        }
      },
      "source": [
        "X.head()"
      ],
      "execution_count": 119,
      "outputs": [
        {
          "output_type": "execute_result",
          "data": {
            "text/html": [
              "<div>\n",
              "<style scoped>\n",
              "    .dataframe tbody tr th:only-of-type {\n",
              "        vertical-align: middle;\n",
              "    }\n",
              "\n",
              "    .dataframe tbody tr th {\n",
              "        vertical-align: top;\n",
              "    }\n",
              "\n",
              "    .dataframe thead th {\n",
              "        text-align: right;\n",
              "    }\n",
              "</style>\n",
              "<table border=\"1\" class=\"dataframe\">\n",
              "  <thead>\n",
              "    <tr style=\"text-align: right;\">\n",
              "      <th></th>\n",
              "      <th>ADDRTYPE</th>\n",
              "      <th>COLLISIONTYPE</th>\n",
              "      <th>PERSONCOUNT</th>\n",
              "      <th>SDOT_COLDESC</th>\n",
              "      <th>WEATHER</th>\n",
              "      <th>ROADCOND</th>\n",
              "      <th>LIGHTCOND</th>\n",
              "      <th>ST_COLDESC</th>\n",
              "      <th>Area</th>\n",
              "    </tr>\n",
              "  </thead>\n",
              "  <tbody>\n",
              "    <tr>\n",
              "      <th>0</th>\n",
              "      <td>1</td>\n",
              "      <td>0</td>\n",
              "      <td>0.024691</td>\n",
              "      <td>14</td>\n",
              "      <td>4</td>\n",
              "      <td>8</td>\n",
              "      <td>5</td>\n",
              "      <td>4</td>\n",
              "      <td>1</td>\n",
              "    </tr>\n",
              "    <tr>\n",
              "      <th>1</th>\n",
              "      <td>0</td>\n",
              "      <td>9</td>\n",
              "      <td>0.024691</td>\n",
              "      <td>16</td>\n",
              "      <td>6</td>\n",
              "      <td>8</td>\n",
              "      <td>2</td>\n",
              "      <td>16</td>\n",
              "      <td>0</td>\n",
              "    </tr>\n",
              "    <tr>\n",
              "      <th>2</th>\n",
              "      <td>0</td>\n",
              "      <td>5</td>\n",
              "      <td>0.049383</td>\n",
              "      <td>17</td>\n",
              "      <td>4</td>\n",
              "      <td>0</td>\n",
              "      <td>5</td>\n",
              "      <td>27</td>\n",
              "      <td>0</td>\n",
              "    </tr>\n",
              "    <tr>\n",
              "      <th>3</th>\n",
              "      <td>0</td>\n",
              "      <td>4</td>\n",
              "      <td>0.037037</td>\n",
              "      <td>14</td>\n",
              "      <td>1</td>\n",
              "      <td>0</td>\n",
              "      <td>5</td>\n",
              "      <td>14</td>\n",
              "      <td>0</td>\n",
              "    </tr>\n",
              "    <tr>\n",
              "      <th>4</th>\n",
              "      <td>1</td>\n",
              "      <td>0</td>\n",
              "      <td>0.024691</td>\n",
              "      <td>14</td>\n",
              "      <td>6</td>\n",
              "      <td>8</td>\n",
              "      <td>5</td>\n",
              "      <td>4</td>\n",
              "      <td>2</td>\n",
              "    </tr>\n",
              "  </tbody>\n",
              "</table>\n",
              "</div>"
            ],
            "text/plain": [
              "   ADDRTYPE  COLLISIONTYPE  PERSONCOUNT  ...  LIGHTCOND  ST_COLDESC  Area\n",
              "0         1              0     0.024691  ...          5           4     1\n",
              "1         0              9     0.024691  ...          2          16     0\n",
              "2         0              5     0.049383  ...          5          27     0\n",
              "3         0              4     0.037037  ...          5          14     0\n",
              "4         1              0     0.024691  ...          5           4     2\n",
              "\n",
              "[5 rows x 9 columns]"
            ]
          },
          "metadata": {
            "tags": []
          },
          "execution_count": 119
        }
      ]
    },
    {
      "cell_type": "code",
      "metadata": {
        "id": "EwnLYGhmdB-f",
        "outputId": "411a91a6-490c-49c8-b376-55e502addf12",
        "colab": {
          "base_uri": "https://localhost:8080/",
          "height": 195
        }
      },
      "source": [
        "temp1 = df_coll.Deadly_Accident\n",
        "temp1 = pd.concat([temp1, X], axis=1)\n",
        "temp1.head()"
      ],
      "execution_count": 120,
      "outputs": [
        {
          "output_type": "execute_result",
          "data": {
            "text/html": [
              "<div>\n",
              "<style scoped>\n",
              "    .dataframe tbody tr th:only-of-type {\n",
              "        vertical-align: middle;\n",
              "    }\n",
              "\n",
              "    .dataframe tbody tr th {\n",
              "        vertical-align: top;\n",
              "    }\n",
              "\n",
              "    .dataframe thead th {\n",
              "        text-align: right;\n",
              "    }\n",
              "</style>\n",
              "<table border=\"1\" class=\"dataframe\">\n",
              "  <thead>\n",
              "    <tr style=\"text-align: right;\">\n",
              "      <th></th>\n",
              "      <th>Deadly_Accident</th>\n",
              "      <th>ADDRTYPE</th>\n",
              "      <th>COLLISIONTYPE</th>\n",
              "      <th>PERSONCOUNT</th>\n",
              "      <th>SDOT_COLDESC</th>\n",
              "      <th>WEATHER</th>\n",
              "      <th>ROADCOND</th>\n",
              "      <th>LIGHTCOND</th>\n",
              "      <th>ST_COLDESC</th>\n",
              "      <th>Area</th>\n",
              "    </tr>\n",
              "  </thead>\n",
              "  <tbody>\n",
              "    <tr>\n",
              "      <th>0</th>\n",
              "      <td>1</td>\n",
              "      <td>1</td>\n",
              "      <td>0</td>\n",
              "      <td>0.024691</td>\n",
              "      <td>14</td>\n",
              "      <td>4</td>\n",
              "      <td>8</td>\n",
              "      <td>5</td>\n",
              "      <td>4</td>\n",
              "      <td>1</td>\n",
              "    </tr>\n",
              "    <tr>\n",
              "      <th>1</th>\n",
              "      <td>0</td>\n",
              "      <td>0</td>\n",
              "      <td>9</td>\n",
              "      <td>0.024691</td>\n",
              "      <td>16</td>\n",
              "      <td>6</td>\n",
              "      <td>8</td>\n",
              "      <td>2</td>\n",
              "      <td>16</td>\n",
              "      <td>0</td>\n",
              "    </tr>\n",
              "    <tr>\n",
              "      <th>2</th>\n",
              "      <td>0</td>\n",
              "      <td>0</td>\n",
              "      <td>5</td>\n",
              "      <td>0.049383</td>\n",
              "      <td>17</td>\n",
              "      <td>4</td>\n",
              "      <td>0</td>\n",
              "      <td>5</td>\n",
              "      <td>27</td>\n",
              "      <td>0</td>\n",
              "    </tr>\n",
              "    <tr>\n",
              "      <th>3</th>\n",
              "      <td>0</td>\n",
              "      <td>0</td>\n",
              "      <td>4</td>\n",
              "      <td>0.037037</td>\n",
              "      <td>14</td>\n",
              "      <td>1</td>\n",
              "      <td>0</td>\n",
              "      <td>5</td>\n",
              "      <td>14</td>\n",
              "      <td>0</td>\n",
              "    </tr>\n",
              "    <tr>\n",
              "      <th>4</th>\n",
              "      <td>1</td>\n",
              "      <td>1</td>\n",
              "      <td>0</td>\n",
              "      <td>0.024691</td>\n",
              "      <td>14</td>\n",
              "      <td>6</td>\n",
              "      <td>8</td>\n",
              "      <td>5</td>\n",
              "      <td>4</td>\n",
              "      <td>2</td>\n",
              "    </tr>\n",
              "  </tbody>\n",
              "</table>\n",
              "</div>"
            ],
            "text/plain": [
              "   Deadly_Accident  ADDRTYPE  COLLISIONTYPE  ...  LIGHTCOND  ST_COLDESC  Area\n",
              "0                1         1              0  ...          5           4     1\n",
              "1                0         0              9  ...          2          16     0\n",
              "2                0         0              5  ...          5          27     0\n",
              "3                0         0              4  ...          5          14     0\n",
              "4                1         1              0  ...          5           4     2\n",
              "\n",
              "[5 rows x 10 columns]"
            ]
          },
          "metadata": {
            "tags": []
          },
          "execution_count": 120
        }
      ]
    },
    {
      "cell_type": "code",
      "metadata": {
        "id": "KVhQfdIfdB-h",
        "outputId": "5364b2e9-78fc-4ba3-b01b-90da2258c5f5",
        "colab": {
          "base_uri": "https://localhost:8080/",
          "height": 343
        }
      },
      "source": [
        "temp1.corr() ## just for general knowledge"
      ],
      "execution_count": 121,
      "outputs": [
        {
          "output_type": "execute_result",
          "data": {
            "text/html": [
              "<div>\n",
              "<style scoped>\n",
              "    .dataframe tbody tr th:only-of-type {\n",
              "        vertical-align: middle;\n",
              "    }\n",
              "\n",
              "    .dataframe tbody tr th {\n",
              "        vertical-align: top;\n",
              "    }\n",
              "\n",
              "    .dataframe thead th {\n",
              "        text-align: right;\n",
              "    }\n",
              "</style>\n",
              "<table border=\"1\" class=\"dataframe\">\n",
              "  <thead>\n",
              "    <tr style=\"text-align: right;\">\n",
              "      <th></th>\n",
              "      <th>Deadly_Accident</th>\n",
              "      <th>ADDRTYPE</th>\n",
              "      <th>COLLISIONTYPE</th>\n",
              "      <th>PERSONCOUNT</th>\n",
              "      <th>SDOT_COLDESC</th>\n",
              "      <th>WEATHER</th>\n",
              "      <th>ROADCOND</th>\n",
              "      <th>LIGHTCOND</th>\n",
              "      <th>ST_COLDESC</th>\n",
              "      <th>Area</th>\n",
              "    </tr>\n",
              "  </thead>\n",
              "  <tbody>\n",
              "    <tr>\n",
              "      <th>Deadly_Accident</th>\n",
              "      <td>1.000000</td>\n",
              "      <td>0.200601</td>\n",
              "      <td>-0.129741</td>\n",
              "      <td>0.127633</td>\n",
              "      <td>-0.036518</td>\n",
              "      <td>-0.106009</td>\n",
              "      <td>-0.046157</td>\n",
              "      <td>-0.056721</td>\n",
              "      <td>0.090855</td>\n",
              "      <td>0.022076</td>\n",
              "    </tr>\n",
              "    <tr>\n",
              "      <th>ADDRTYPE</th>\n",
              "      <td>0.200601</td>\n",
              "      <td>1.000000</td>\n",
              "      <td>-0.481823</td>\n",
              "      <td>0.062622</td>\n",
              "      <td>-0.198577</td>\n",
              "      <td>-0.086219</td>\n",
              "      <td>-0.026438</td>\n",
              "      <td>-0.050947</td>\n",
              "      <td>-0.176725</td>\n",
              "      <td>-0.034510</td>\n",
              "    </tr>\n",
              "    <tr>\n",
              "      <th>COLLISIONTYPE</th>\n",
              "      <td>-0.129741</td>\n",
              "      <td>-0.481823</td>\n",
              "      <td>1.000000</td>\n",
              "      <td>0.012533</td>\n",
              "      <td>0.081282</td>\n",
              "      <td>0.028065</td>\n",
              "      <td>-0.001675</td>\n",
              "      <td>0.030438</td>\n",
              "      <td>0.362848</td>\n",
              "      <td>-0.003029</td>\n",
              "    </tr>\n",
              "    <tr>\n",
              "      <th>PERSONCOUNT</th>\n",
              "      <td>0.127633</td>\n",
              "      <td>0.062622</td>\n",
              "      <td>0.012533</td>\n",
              "      <td>1.000000</td>\n",
              "      <td>-0.026802</td>\n",
              "      <td>-0.060862</td>\n",
              "      <td>-0.028536</td>\n",
              "      <td>-0.039518</td>\n",
              "      <td>-0.076163</td>\n",
              "      <td>-0.000186</td>\n",
              "    </tr>\n",
              "    <tr>\n",
              "      <th>SDOT_COLDESC</th>\n",
              "      <td>-0.036518</td>\n",
              "      <td>-0.198577</td>\n",
              "      <td>0.081282</td>\n",
              "      <td>-0.026802</td>\n",
              "      <td>1.000000</td>\n",
              "      <td>0.145854</td>\n",
              "      <td>0.058117</td>\n",
              "      <td>0.145220</td>\n",
              "      <td>0.138571</td>\n",
              "      <td>-0.013764</td>\n",
              "    </tr>\n",
              "    <tr>\n",
              "      <th>WEATHER</th>\n",
              "      <td>-0.106009</td>\n",
              "      <td>-0.086219</td>\n",
              "      <td>0.028065</td>\n",
              "      <td>-0.060862</td>\n",
              "      <td>0.145854</td>\n",
              "      <td>1.000000</td>\n",
              "      <td>0.748500</td>\n",
              "      <td>0.203853</td>\n",
              "      <td>0.058366</td>\n",
              "      <td>-0.009187</td>\n",
              "    </tr>\n",
              "    <tr>\n",
              "      <th>ROADCOND</th>\n",
              "      <td>-0.046157</td>\n",
              "      <td>-0.026438</td>\n",
              "      <td>-0.001675</td>\n",
              "      <td>-0.028536</td>\n",
              "      <td>0.058117</td>\n",
              "      <td>0.748500</td>\n",
              "      <td>1.000000</td>\n",
              "      <td>0.021078</td>\n",
              "      <td>-0.003007</td>\n",
              "      <td>0.017219</td>\n",
              "    </tr>\n",
              "    <tr>\n",
              "      <th>LIGHTCOND</th>\n",
              "      <td>-0.056721</td>\n",
              "      <td>-0.050947</td>\n",
              "      <td>0.030438</td>\n",
              "      <td>-0.039518</td>\n",
              "      <td>0.145220</td>\n",
              "      <td>0.203853</td>\n",
              "      <td>0.021078</td>\n",
              "      <td>1.000000</td>\n",
              "      <td>0.058432</td>\n",
              "      <td>0.003403</td>\n",
              "    </tr>\n",
              "    <tr>\n",
              "      <th>ST_COLDESC</th>\n",
              "      <td>0.090855</td>\n",
              "      <td>-0.176725</td>\n",
              "      <td>0.362848</td>\n",
              "      <td>-0.076163</td>\n",
              "      <td>0.138571</td>\n",
              "      <td>0.058366</td>\n",
              "      <td>-0.003007</td>\n",
              "      <td>0.058432</td>\n",
              "      <td>1.000000</td>\n",
              "      <td>-0.096674</td>\n",
              "    </tr>\n",
              "    <tr>\n",
              "      <th>Area</th>\n",
              "      <td>0.022076</td>\n",
              "      <td>-0.034510</td>\n",
              "      <td>-0.003029</td>\n",
              "      <td>-0.000186</td>\n",
              "      <td>-0.013764</td>\n",
              "      <td>-0.009187</td>\n",
              "      <td>0.017219</td>\n",
              "      <td>0.003403</td>\n",
              "      <td>-0.096674</td>\n",
              "      <td>1.000000</td>\n",
              "    </tr>\n",
              "  </tbody>\n",
              "</table>\n",
              "</div>"
            ],
            "text/plain": [
              "                 Deadly_Accident  ADDRTYPE  ...  ST_COLDESC      Area\n",
              "Deadly_Accident         1.000000  0.200601  ...    0.090855  0.022076\n",
              "ADDRTYPE                0.200601  1.000000  ...   -0.176725 -0.034510\n",
              "COLLISIONTYPE          -0.129741 -0.481823  ...    0.362848 -0.003029\n",
              "PERSONCOUNT             0.127633  0.062622  ...   -0.076163 -0.000186\n",
              "SDOT_COLDESC           -0.036518 -0.198577  ...    0.138571 -0.013764\n",
              "WEATHER                -0.106009 -0.086219  ...    0.058366 -0.009187\n",
              "ROADCOND               -0.046157 -0.026438  ...   -0.003007  0.017219\n",
              "LIGHTCOND              -0.056721 -0.050947  ...    0.058432  0.003403\n",
              "ST_COLDESC              0.090855 -0.176725  ...    1.000000 -0.096674\n",
              "Area                    0.022076 -0.034510  ...   -0.096674  1.000000\n",
              "\n",
              "[10 rows x 10 columns]"
            ]
          },
          "metadata": {
            "tags": []
          },
          "execution_count": 121
        }
      ]
    },
    {
      "cell_type": "markdown",
      "metadata": {
        "id": "zIuO6QymdB-j"
      },
      "source": [
        "## In the next section I will use logistic regression beacuse our output is Yes or no (1 or 0)\n"
      ]
    },
    {
      "cell_type": "code",
      "metadata": {
        "id": "c9Ewz2xqdB-j",
        "outputId": "41ee98dc-f45f-4f0f-ef4e-21aafc9b7a7e",
        "colab": {
          "base_uri": "https://localhost:8080/",
          "height": 269
        }
      },
      "source": [
        "npX = np.asarray(X) ## convert X(df) to np array\n",
        "npX[0:5]"
      ],
      "execution_count": 128,
      "outputs": [
        {
          "output_type": "execute_result",
          "data": {
            "text/plain": [
              "array([[1.0000000e+00, 0.0000000e+00, 2.4691358e-02, 1.4000000e+01,\n",
              "        4.0000000e+00, 8.0000000e+00, 5.0000000e+00, 4.0000000e+00,\n",
              "        1.0000000e+00],\n",
              "       [0.0000000e+00, 9.0000000e+00, 2.4691358e-02, 1.6000000e+01,\n",
              "        6.0000000e+00, 8.0000000e+00, 2.0000000e+00, 1.6000000e+01,\n",
              "        0.0000000e+00],\n",
              "       [0.0000000e+00, 5.0000000e+00, 4.9382716e-02, 1.7000000e+01,\n",
              "        4.0000000e+00, 0.0000000e+00, 5.0000000e+00, 2.7000000e+01,\n",
              "        0.0000000e+00],\n",
              "       [0.0000000e+00, 4.0000000e+00, 3.7037037e-02, 1.4000000e+01,\n",
              "        1.0000000e+00, 0.0000000e+00, 5.0000000e+00, 1.4000000e+01,\n",
              "        0.0000000e+00],\n",
              "       [1.0000000e+00, 0.0000000e+00, 2.4691358e-02, 1.4000000e+01,\n",
              "        6.0000000e+00, 8.0000000e+00, 5.0000000e+00, 4.0000000e+00,\n",
              "        2.0000000e+00]])"
            ]
          },
          "metadata": {
            "tags": []
          },
          "execution_count": 128
        }
      ]
    },
    {
      "cell_type": "code",
      "metadata": {
        "id": "3NavLM5ZdB-l",
        "outputId": "68a4c271-b93d-40a9-8dd5-83b482fcb90e",
        "colab": {
          "base_uri": "https://localhost:8080/",
          "height": 34
        }
      },
      "source": [
        "npY = np.asarray(y) ## convert y to np array\n",
        "npY[0:5]"
      ],
      "execution_count": 129,
      "outputs": [
        {
          "output_type": "execute_result",
          "data": {
            "text/plain": [
              "array([1, 0, 0, 0, 1])"
            ]
          },
          "metadata": {
            "tags": []
          },
          "execution_count": 129
        }
      ]
    },
    {
      "cell_type": "code",
      "metadata": {
        "id": "AKpMxEVQdB-m",
        "outputId": "e6b5f242-709e-412a-c879-45bec9b95f0c",
        "colab": {
          "base_uri": "https://localhost:8080/",
          "height": 185
        }
      },
      "source": [
        "npX = preprocessing.StandardScaler().fit(npX).transform(npX)\n",
        "npX[0:5]"
      ],
      "execution_count": 130,
      "outputs": [
        {
          "output_type": "execute_result",
          "data": {
            "text/plain": [
              "array([[ 1.38540755, -1.60088434, -0.34423279, -0.49629055,  0.34025268,\n",
              "         1.49393411,  0.3598038 , -1.13841265,  0.24594864],\n",
              "       [-0.72180926,  1.6151249 , -0.34423279,  0.10658477,  1.0493154 ,\n",
              "         1.49393411, -1.40660147, -0.21444809, -0.99030463],\n",
              "       [-0.72180926,  0.18578746,  1.12835405,  0.40802244,  0.34025268,\n",
              "        -0.70345034,  0.3598038 ,  0.63251942, -0.99030463],\n",
              "       [-0.72180926, -0.1715469 ,  0.39206063, -0.49629055, -0.72334139,\n",
              "        -0.70345034,  0.3598038 , -0.36844218, -0.99030463],\n",
              "       [ 1.38540755, -1.60088434, -0.34423279, -0.49629055,  1.0493154 ,\n",
              "         1.49393411,  0.3598038 , -1.13841265,  1.48220191]])"
            ]
          },
          "metadata": {
            "tags": []
          },
          "execution_count": 130
        }
      ]
    },
    {
      "cell_type": "markdown",
      "metadata": {
        "id": "jPjMunGLdB-o"
      },
      "source": [
        "## Train/Test dataset"
      ]
    },
    {
      "cell_type": "code",
      "metadata": {
        "tags": [],
        "id": "J92BLHIAdB-o",
        "outputId": "101271b9-0284-4b23-f138-cce429b8c67c",
        "colab": {
          "base_uri": "https://localhost:8080/",
          "height": 50
        }
      },
      "source": [
        "from sklearn.model_selection import train_test_split\n",
        "X_train, X_test, y_train, y_test = train_test_split(npX, y, test_size=0.2, random_state=4)\n",
        "print ('Train set:', X_train.shape,  y_train.shape)\n",
        "print ('Test set:', X_test.shape,  y_test.shape)"
      ],
      "execution_count": 131,
      "outputs": [
        {
          "output_type": "stream",
          "text": [
            "Train set: (147665, 9) (147665,)\n",
            "Test set: (36917, 9) (36917,)\n"
          ],
          "name": "stdout"
        }
      ]
    },
    {
      "cell_type": "markdown",
      "metadata": {
        "id": "8GSocqW8dB-r"
      },
      "source": [
        "<h2 id=\"modeling\">Modeling (Logistic Regression with Scikit-learn)</h2>"
      ]
    },
    {
      "cell_type": "code",
      "metadata": {
        "id": "oebI_dq4dB-r",
        "outputId": "ec279472-31c6-4ea2-83ef-80130ec679ab",
        "colab": {
          "base_uri": "https://localhost:8080/",
          "height": 101
        }
      },
      "source": [
        "from sklearn.linear_model import LogisticRegression\n",
        "from sklearn.metrics import confusion_matrix\n",
        "LR = LogisticRegression(C=0.01, solver='liblinear').fit(X_train,y_train)\n",
        "LR"
      ],
      "execution_count": 132,
      "outputs": [
        {
          "output_type": "execute_result",
          "data": {
            "text/plain": [
              "LogisticRegression(C=0.01, class_weight=None, dual=False, fit_intercept=True,\n",
              "                   intercept_scaling=1, l1_ratio=None, max_iter=100,\n",
              "                   multi_class='auto', n_jobs=None, penalty='l2',\n",
              "                   random_state=None, solver='liblinear', tol=0.0001, verbose=0,\n",
              "                   warm_start=False)"
            ]
          },
          "metadata": {
            "tags": []
          },
          "execution_count": 132
        }
      ]
    },
    {
      "cell_type": "code",
      "metadata": {
        "id": "uPmemgrldB-t",
        "outputId": "511e5e18-0963-427a-f56b-fed6b77d4d46",
        "colab": {
          "base_uri": "https://localhost:8080/",
          "height": 34
        }
      },
      "source": [
        "yhat = LR.predict(X_test) ## predict\n",
        "yhat"
      ],
      "execution_count": 133,
      "outputs": [
        {
          "output_type": "execute_result",
          "data": {
            "text/plain": [
              "array([0, 0, 0, ..., 0, 0, 0])"
            ]
          },
          "metadata": {
            "tags": []
          },
          "execution_count": 133
        }
      ]
    },
    {
      "cell_type": "markdown",
      "metadata": {
        "id": "q2dn9onMdB-v"
      },
      "source": [
        "__predict_proba__  returns estimates for all classes, ordered by the label of classes. So, the first column is the probability of class 1, P(Y=1|X), and second column is probability of class 0, P(Y=0|X):"
      ]
    },
    {
      "cell_type": "code",
      "metadata": {
        "id": "2gXNQ40PdB-v",
        "outputId": "4ef635bb-58ab-41c5-ddb6-6c8dbb6ca009",
        "colab": {
          "base_uri": "https://localhost:8080/",
          "height": 134
        }
      },
      "source": [
        "yhat_prob = LR.predict_proba(X_test) \n",
        "yhat_prob"
      ],
      "execution_count": 134,
      "outputs": [
        {
          "output_type": "execute_result",
          "data": {
            "text/plain": [
              "array([[0.80624949, 0.19375051],\n",
              "       [0.6889016 , 0.3110984 ],\n",
              "       [0.80680567, 0.19319433],\n",
              "       ...,\n",
              "       [0.74214709, 0.25785291],\n",
              "       [0.76207692, 0.23792308],\n",
              "       [0.76094316, 0.23905684]])"
            ]
          },
          "metadata": {
            "tags": []
          },
          "execution_count": 134
        }
      ]
    },
    {
      "cell_type": "code",
      "metadata": {
        "id": "3myC1UbgdB-w"
      },
      "source": [
        "from sklearn.metrics import classification_report"
      ],
      "execution_count": 135,
      "outputs": []
    },
    {
      "cell_type": "code",
      "metadata": {
        "tags": [],
        "id": "mTDbGnvddB-x",
        "outputId": "4f4f000b-cf53-41f1-e8ad-5117b93b0a40",
        "colab": {
          "base_uri": "https://localhost:8080/",
          "height": 168
        }
      },
      "source": [
        "print (classification_report(y_test, yhat))\n"
      ],
      "execution_count": 136,
      "outputs": [
        {
          "output_type": "stream",
          "text": [
            "              precision    recall  f1-score   support\n",
            "\n",
            "           0       0.74      0.95      0.83     25769\n",
            "           1       0.68      0.22      0.34     11148\n",
            "\n",
            "    accuracy                           0.73     36917\n",
            "   macro avg       0.71      0.59      0.59     36917\n",
            "weighted avg       0.72      0.73      0.68     36917\n",
            "\n"
          ],
          "name": "stdout"
        }
      ]
    },
    {
      "cell_type": "markdown",
      "metadata": {
        "id": "E-djJsm3dB-z"
      },
      "source": [
        "## the accuracy of the model is 73%"
      ]
    },
    {
      "cell_type": "markdown",
      "metadata": {
        "id": "LCV-Uoc4dB-0"
      },
      "source": [
        "# Machine learning : Decision Tree Classifier"
      ]
    },
    {
      "cell_type": "markdown",
      "metadata": {
        "id": "JQWHV8TLdB-2"
      },
      "source": [
        "## In the next section I will use Decision Tree Classifier to try more calssifiaction algoritm"
      ]
    },
    {
      "cell_type": "code",
      "metadata": {
        "id": "ug6FobbNdB-3"
      },
      "source": [
        "from sklearn.tree import DecisionTreeClassifier"
      ],
      "execution_count": 137,
      "outputs": []
    },
    {
      "cell_type": "code",
      "metadata": {
        "id": "n7XJSFaWdB-5"
      },
      "source": [
        "X_trainset, X_testset, y_trainset, y_testset = train_test_split(X, y, test_size=0.3, random_state=3)"
      ],
      "execution_count": 138,
      "outputs": []
    },
    {
      "cell_type": "code",
      "metadata": {
        "tags": [],
        "id": "CmPfpzuMdB-7",
        "outputId": "a79e46f2-54f0-4419-d258-4b295c99de5a",
        "colab": {
          "base_uri": "https://localhost:8080/",
          "height": 34
        }
      },
      "source": [
        "AccTree = DecisionTreeClassifier(criterion=\"entropy\", max_depth = 4)\n",
        "AccTree.fit(X_trainset,y_trainset)\n",
        "predTree = AccTree.predict(X_testset)\n",
        "from sklearn import metrics\n",
        "import matplotlib.pyplot as plt\n",
        "print(\"DecisionTrees's Accuracy: \", metrics.accuracy_score(y_testset, predTree))"
      ],
      "execution_count": 139,
      "outputs": [
        {
          "output_type": "stream",
          "text": [
            "DecisionTrees's Accuracy:  0.7461851015801354\n"
          ],
          "name": "stdout"
        }
      ]
    },
    {
      "cell_type": "code",
      "metadata": {
        "id": "iDzlWbYvdB--"
      },
      "source": [
        "Ks = 20\n",
        "mean_acc = np.zeros((Ks-1))\n",
        "std_acc = np.zeros((Ks-1))\n",
        "ConfustionMx = [];\n",
        "for n in range(1,Ks):\n",
        "    \n",
        "    #Train Model and Predict \n",
        "    AccTree = DecisionTreeClassifier(criterion=\"entropy\", max_depth = n).fit(X_trainset,y_trainset) \n",
        "    predTree = AccTree.predict(X_testset)\n",
        "    mean_acc[n-1] = metrics.accuracy_score(y_testset, predTree)\n",
        "\n",
        "    \n"
      ],
      "execution_count": 140,
      "outputs": []
    },
    {
      "cell_type": "code",
      "metadata": {
        "id": "9FdeZVDcdB-_",
        "outputId": "2a4f0235-301d-44b8-82eb-0f778ca72e7e",
        "colab": {
          "base_uri": "https://localhost:8080/",
          "height": 297
        }
      },
      "source": [
        "plt.plot(range(1,Ks),mean_acc,'g')\n",
        "plt.legend(('Accuracy ', '+/- 3xstd'))\n",
        "plt.ylabel('Accuracy ')\n",
        "plt.xlabel('Number of Nabors (K)')\n",
        "plt.tight_layout()\n",
        "plt.show()"
      ],
      "execution_count": 141,
      "outputs": [
        {
          "output_type": "display_data",
          "data": {
            "image/png": "[encoded data removed]",
            "text/plain": [
              "<Figure size 432x288 with 1 Axes>"
            ]
          },
          "metadata": {
            "tags": [],
            "needs_background": "light"
          }
        }
      ]
    },
    {
      "cell_type": "code",
      "metadata": {
        "tags": [],
        "id": "GlvhpQ6-dB_B",
        "outputId": "da9b1979-483e-42fd-c8f9-94e7eff058ea",
        "colab": {
          "base_uri": "https://localhost:8080/",
          "height": 34
        }
      },
      "source": [
        "print( \"The best accuracy was with\", mean_acc.max(), \"with k=\", mean_acc.argmax()+1) "
      ],
      "execution_count": 142,
      "outputs": [
        {
          "output_type": "stream",
          "text": [
            "The best accuracy was with 0.7539864559819414 with k= 11\n"
          ],
          "name": "stdout"
        }
      ]
    },
    {
      "cell_type": "markdown",
      "metadata": {
        "id": "i2PS9NuhdB_C"
      },
      "source": [
        ""
      ]
    },
    {
      "cell_type": "code",
      "metadata": {
        "tags": [],
        "id": "kFaHUcBwdB_C",
        "outputId": "eaaf4923-9e13-4223-82c1-d67314219c9a",
        "colab": {
          "base_uri": "https://localhost:8080/",
          "height": 34
        }
      },
      "source": [
        "AccTree = DecisionTreeClassifier(criterion=\"entropy\", max_depth = 11) ## lets insert max_depth = 11\n",
        "AccTree.fit(X_trainset,y_trainset)\n",
        "predTree = AccTree.predict(X_testset)\n",
        "from sklearn import metrics\n",
        "import matplotlib.pyplot as plt\n",
        "print(\"DecisionTrees's Accuracy: \", metrics.accuracy_score(y_testset, predTree))"
      ],
      "execution_count": 143,
      "outputs": [
        {
          "output_type": "stream",
          "text": [
            "DecisionTrees's Accuracy:  0.7540045146726863\n"
          ],
          "name": "stdout"
        }
      ]
    },
    {
      "cell_type": "markdown",
      "metadata": {
        "id": "nBxbIrZZdB_E"
      },
      "source": [
        "## In the next section I will convert the numerical values reverse to categorical values"
      ]
    },
    {
      "cell_type": "code",
      "metadata": {
        "id": "seyIUHM6dB_E",
        "outputId": "0c6bb796-b7ed-41ee-8d3b-d8ca4986956e",
        "colab": {
          "base_uri": "https://localhost:8080/",
          "height": 202
        }
      },
      "source": [
        "X.COLLISIONTYPE.value_counts()"
      ],
      "execution_count": 144,
      "outputs": [
        {
          "output_type": "execute_result",
          "data": {
            "text/plain": [
              "5    46381\n",
              "0    34460\n",
              "7    32968\n",
              "4    22277\n",
              "9    18034\n",
              "3    13624\n",
              "6     6551\n",
              "1     5378\n",
              "8     2912\n",
              "2     1997\n",
              "Name: COLLISIONTYPE, dtype: int64"
            ]
          },
          "metadata": {
            "tags": []
          },
          "execution_count": 144
        }
      ]
    },
    {
      "cell_type": "code",
      "metadata": {
        "id": "mdfKTT0ZdB_G",
        "outputId": "8fa2ccd1-5ada-403e-eecd-cfd3a20987f6",
        "colab": {
          "base_uri": "https://localhost:8080/",
          "height": 202
        }
      },
      "source": [
        "df_coll.COLLISIONTYPE.value_counts()"
      ],
      "execution_count": 145,
      "outputs": [
        {
          "output_type": "execute_result",
          "data": {
            "text/plain": [
              "Parked Car    46381\n",
              "Angles        34460\n",
              "Rear Ended    32968\n",
              "Other         22277\n",
              "Sideswipe     18034\n",
              "Left Turn     13624\n",
              "Pedestrian     6551\n",
              "Cycles         5378\n",
              "Right Turn     2912\n",
              "Head On        1997\n",
              "Name: COLLISIONTYPE, dtype: int64"
            ]
          },
          "metadata": {
            "tags": []
          },
          "execution_count": 145
        }
      ]
    },
    {
      "cell_type": "markdown",
      "metadata": {
        "id": "KG2WoIn4dB_H"
      },
      "source": [
        "I will comapre the values from df X to df_coll and then I can convert the values. <br>\n",
        "0 = Angles <br>\n",
        "1 = Cycles <br>\n",
        "2 = Head On <br>\n",
        "3 = Left turn <br>\n",
        "4 = Other <br>\n",
        "5 = Parked Car <br>\n",
        "6 = Pedestrian <br>\n",
        "7 = Rear Ended <br>\n",
        "8 = right turn <br> \n",
        "9 = Sideswipe            "
      ]
    },
    {
      "cell_type": "markdown",
      "metadata": {
        "id": "mzyLI9sgdB_H"
      },
      "source": [
        "# Results \n",
        "## DecisionTrees model is better! "
      ]
    },
    {
      "cell_type": "markdown",
      "metadata": {
        "id": "DOgiIZ8tdB_I"
      },
      "source": [
        "# CONCLUSION <br>\n",
        "Therefore I made visualisation to the Decision Tree, AccTree_4floors <br>\n",
        "<br>\n",
        "\n",
        "First, I want you to look on the 2 blue blocks (leaves) on the forth floor (don't count the first node) <br>\n",
        "**_The COLLISIONTYPE worth 6 which means pedestrian._** <br>\n",
        "<br>\n",
        "do you ask what is the point? <br>\n",
        "\n",
        "the point is it doesn't matter if the accident happened in block or at intersection <br>\n",
        "if there is pedestrian it will be deadly. <br>\n"
      ]
    },
    {
      "cell_type": "markdown",
      "metadata": {
        "id": "d3jEgQMpdB_I"
      },
      "source": [
        "So, Transportation Authority of seattle, USA needs to pay attention to following points. <br> <br> \n",
        "- Bridges instead intersection \n",
        "- More sidewalks\n",
        "- Fences between sidewalks to road\n",
        "- Integrated Street which the limit km/h is 30\n",
        "- Explanation to pedestrians how to behave safely in cross ways"
      ]
    }
  ]
}